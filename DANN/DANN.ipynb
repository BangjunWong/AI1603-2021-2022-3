{
 "cells": [
  {
   "cell_type": "markdown",
   "metadata": {
    "pycharm": {
     "name": "#%% md\n"
    }
   },
   "source": [
    "# Domain-Adversarial Training of Neural Networks (DANN)\n",
    "\n"
   ]
  },
  {
   "cell_type": "code",
   "execution_count": 1,
   "metadata": {
    "pycharm": {
     "name": "#%%\n"
    }
   },
   "outputs": [],
   "source": [
    "import torch\n",
    "from torch import nn\n",
    "from torch.nn import functional as F\n",
    "from torch.optim import Adam\n",
    "from torch.utils.tensorboard import SummaryWriter\n",
    "from torch.utils.data import RandomSampler,Dataset,DataLoader\n",
    "\n",
    "import torchvision\n",
    "from torchvision import datasets, transforms\n",
    "from torchvision.utils import make_grid\n",
    "\n",
    "from PIL import Image\n",
    "import matplotlib.pyplot as plt\n",
    "from tqdm.notebook import tqdm\n",
    "import numpy as np\n",
    "import shutil\n",
    "import os\n",
    "from torch.utils import data"
   ]
  },
  {
   "cell_type": "markdown",
   "metadata": {
    "pycharm": {
     "name": "#%% md\n"
    }
   },
   "source": [
    "## Tool Functions"
   ]
  },
  {
   "cell_type": "code",
   "execution_count": 2,
   "metadata": {
    "pycharm": {
     "name": "#%%\n"
    }
   },
   "outputs": [],
   "source": [
    "def adjust_learning_rate(optimizer,epoch):\n",
    "    lr=0.001*0.1**(epoch//10)\n",
    "    for param_group in optimizer.param_groups:\n",
    "        param_group['lr']=lr\n",
    "    return lr\n",
    "\n",
    "def accuracy(output,target,topk=(1,)):\n",
    "    maxk=max(topk)\n",
    "    batch_size=target.size(0)\n",
    "    _,pred=output.topk(maxk,1,True,True)\n",
    "    pred=pred.t()\n",
    "    correct=pred.eq(target.view(1,-1).expand_as(pred))\n",
    "    res=[]\n",
    "    for k in topk:\n",
    "        correct_k=correct[:k].view(-1).float().sum(0)\n",
    "        res.append(correct_k.mul_(100/batch_size))\n",
    "    return res\n",
    "\n",
    "def matplotlib_imshow(img,one_channel=False):\n",
    "    if one_channel:\n",
    "        img=img.mean(dim=0)\n",
    "    np_img=img.numpy()\n",
    "    np_img=(np_img-np.min(np_img))/(np.max(np_img)-np.min(np_img))\n",
    "    if one_channel:\n",
    "        plt.imshow(np_img,cmap=\"Greys\")\n",
    "    else:\n",
    "        plt.imshow(np.transpose(np_img,(1,2,0)))\n",
    "\n",
    "class ColoredMNIST(Dataset):\n",
    "    def __init__(self, file_name):\n",
    "        self.data_label = torch.load(file_name)\n",
    "        # self.data_label=transforms.ToTensor()(self.data_label)\n",
    "\n",
    "    def __getitem__(self, index):\n",
    "        img, target = self.data_label[index]\n",
    "        img = transforms.ToTensor()(img)\n",
    "        return img, target\n",
    "\n",
    "    def __len__(self):\n",
    "        return len(self.data_label)\n",
    "\n",
    "    def __add__(self,other):\n",
    "        pass\n",
    "\n",
    "class AverageMeter(object):\n",
    "    def __init__(self):\n",
    "        self.reset()\n",
    "    def reset(self):\n",
    "        self.val=0\n",
    "        self.avg=0\n",
    "        self.sum=0\n",
    "        self.count=0\n",
    "    def update(self,val,n=1):\n",
    "        self.val=val\n",
    "        self.sum+=val*n\n",
    "        self.count+=n\n",
    "        self.avg=self.sum/self.count"
   ]
  },
  {
   "cell_type": "markdown",
   "metadata": {
    "pycharm": {
     "name": "#%% md\n"
    }
   },
   "source": [
    "## Tensorboard"
   ]
  },
  {
   "cell_type": "code",
   "execution_count": 3,
   "metadata": {
    "pycharm": {
     "name": "#%%\n"
    }
   },
   "outputs": [],
   "source": [
    "log_dir=\"minist_experiment_1\"\n",
    "remove_log_dir=True\n",
    "if remove_log_dir and os.path.exists(log_dir):\n",
    "    shutil.rmtree(log_dir)"
   ]
  },
  {
   "cell_type": "markdown",
   "metadata": {
    "pycharm": {
     "name": "#%% md\n"
    }
   },
   "source": [
    "## Loading Data"
   ]
  },
  {
   "cell_type": "code",
   "execution_count": 4,
   "metadata": {
    "pycharm": {
     "name": "#%%\n"
    }
   },
   "outputs": [],
   "source": [
    "image_size=28\n",
    "batch_size=32\n",
    "\n",
    "transform = transforms.Compose([transforms.Resize(image_size),\n",
    "                                transforms.ToTensor(),\n",
    "                               transforms.Normalize(mean=[0.5],std=[0.5])])\n",
    "train_ds = ColoredMNIST('./dataset/MNIST_source/train1_source.pt') # source domain training datasets\n",
    "train_dl = data.DataLoader(dataset=train_ds,batch_size=batch_size,shuffle=True)\n",
    "test_ds = ColoredMNIST('./dataset/MNIST_source/test_source.pt') # source domain testing datasets\n",
    "test_dl = data.DataLoader(dataset=test_ds,batch_size=batch_size,shuffle=False)\n",
    "train_m_ds = ColoredMNIST('./dataset/ColoredMNIST/train1.pt') # target domain training datasets\n",
    "train_m_dl = data.DataLoader(dataset=train_m_ds,batch_size=batch_size,shuffle=True)\n",
    "test_m_ds = ColoredMNIST('./dataset/ColoredMNIST/test.pt') # target domain testing datasets\n",
    "test_m_dl = data.DataLoader(dataset=test_m_ds,batch_size=batch_size,shuffle=False)\n"
   ]
  },
  {
   "cell_type": "code",
   "execution_count": 5,
   "metadata": {
    "pycharm": {
     "name": "#%%\n"
    }
   },
   "outputs": [
    {
     "data": {
      "text/plain": "<Figure size 432x288 with 1 Axes>",
      "image/png": "[encoded data removed]"
     },
     "metadata": {
      "needs_background": "light"
     },
     "output_type": "display_data"
    }
   ],
   "source": [
    "%matplotlib inline\n",
    "\n",
    "writer=SummaryWriter(log_dir)\n",
    "show_images=[train_ds[i][0] for i in range(8)]\n",
    "show_labels=[train_ds[i][1] for i in range(8)]\n",
    "show_img_grid=make_grid(show_images)\n",
    "matplotlib_imshow(show_img_grid,one_channel=True)\n",
    "writer.add_image(\"mnist_images\",show_img_grid)"
   ]
  },
  {
   "cell_type": "code",
   "execution_count": 6,
   "metadata": {
    "pycharm": {
     "name": "#%%\n"
    }
   },
   "outputs": [
    {
     "data": {
      "text/plain": "<Figure size 432x288 with 1 Axes>",
      "image/png": "[encoded data removed]"
     },
     "metadata": {
      "needs_background": "light"
     },
     "output_type": "display_data"
    }
   ],
   "source": [
    "show_images=[train_m_ds[i][0] for i in range(8)]\n",
    "show_labels=[train_m_ds[i][1] for i in range(8)]\n",
    "show_img_grid=make_grid(show_images)\n",
    "matplotlib_imshow(show_img_grid,one_channel=False)\n",
    "writer.add_image(\"mnist_m_images\",show_img_grid)"
   ]
  },
  {
   "cell_type": "markdown",
   "metadata": {
    "pycharm": {
     "name": "#%% md\n"
    }
   },
   "source": [
    "## Source-Only Training\n",
    "\n",
    "在源域上独立训练CNN模型"
   ]
  },
  {
   "cell_type": "code",
   "execution_count": 7,
   "metadata": {
    "pycharm": {
     "name": "#%%\n"
    }
   },
   "outputs": [],
   "source": [
    "class CNN(nn.Module):\n",
    "    def __init__(self,num_classes=10):\n",
    "        super(CNN,self).__init__()\n",
    "        self.features=nn.Sequential(\n",
    "            nn.Conv2d(3,32,5),\n",
    "            nn.ReLU(inplace=True),\n",
    "            nn.MaxPool2d(2),\n",
    "            nn.Conv2d(32,48,5),\n",
    "            nn.ReLU(inplace=True),\n",
    "            nn.MaxPool2d(2),\n",
    "        )\n",
    "        self.avgpool=nn.AdaptiveAvgPool2d((5,5))\n",
    "        self.classifier=nn.Sequential(\n",
    "            nn.Linear(48*5*5,100),\n",
    "            nn.ReLU(inplace=True),\n",
    "            nn.Linear(100,100),\n",
    "            nn.ReLU(inplace=True),\n",
    "            nn.Linear(100,num_classes)\n",
    "        )\n",
    "    def forward(self,x):\n",
    "        x=x.expand(x.data.shape[0],3,image_size,image_size)\n",
    "        x=self.features(x)\n",
    "        x=self.avgpool(x)\n",
    "        x=torch.flatten(x,1)\n",
    "        x=self.classifier(x)\n",
    "        return x"
   ]
  },
  {
   "cell_type": "markdown",
   "metadata": {
    "pycharm": {
     "name": "#%% md\n"
    }
   },
   "source": [
    "用一个5层的神经网络在mnist上使用Adam训练，准确率约为73%(考虑到理想的最高正确率为75%，这里CNN的表现已经足够)"
   ]
  },
  {
   "cell_type": "code",
   "execution_count": 8,
   "metadata": {
    "scrolled": false,
    "pycharm": {
     "name": "#%%\n"
    }
   },
   "outputs": [
    {
     "data": {
      "text/plain": "  0%|          | 0/625 [00:00<?, ?it/s]",
      "application/vnd.jupyter.widget-view+json": {
       "version_major": 2,
       "version_minor": 0,
       "model_id": "1bdcfdc024464381a9b243590f95b9ac"
      }
     },
     "metadata": {},
     "output_type": "display_data"
    },
    {
     "name": "stdout",
     "output_type": "stream",
     "text": [
      "Epoch:0[100/625],Loss:[0.717,0.793],prec[46.8750,50.3750]\n",
      "Epoch:0[200/625],Loss:[0.601,0.735],prec[65.6250,54.2969]\n",
      "Epoch:0[300/625],Loss:[0.624,0.705],prec[68.7500,57.8021]\n",
      "Epoch:0[400/625],Loss:[0.551,0.681],prec[75.0000,60.8203]\n",
      "Epoch:0[500/625],Loss:[0.585,0.667],prec[78.1250,62.7750]\n",
      "Epoch:0[600/625],Loss:[0.583,0.658],prec[75.0000,63.9948]\n"
     ]
    },
    {
     "data": {
      "text/plain": "  0%|          | 0/625 [00:00<?, ?it/s]",
      "application/vnd.jupyter.widget-view+json": {
       "version_major": 2,
       "version_minor": 0,
       "model_id": "3261c518bc4846338c975932c117372b"
      }
     },
     "metadata": {},
     "output_type": "display_data"
    },
    {
     "name": "stdout",
     "output_type": "stream",
     "text": [
      "Epoch:0,val,Loss:[0.601],prec[71.2350]\n"
     ]
    },
    {
     "data": {
      "text/plain": "  0%|          | 0/625 [00:00<?, ?it/s]",
      "application/vnd.jupyter.widget-view+json": {
       "version_major": 2,
       "version_minor": 0,
       "model_id": "ffbbce1e15a44ed08d8f8e36de282959"
      }
     },
     "metadata": {},
     "output_type": "display_data"
    },
    {
     "name": "stdout",
     "output_type": "stream",
     "text": [
      "Epoch:1[100/625],Loss:[0.616,0.603],prec[71.8750,71.2188]\n",
      "Epoch:1[200/625],Loss:[0.510,0.598],prec[81.2500,71.5000]\n",
      "Epoch:1[300/625],Loss:[0.689,0.597],prec[59.3750,71.6771]\n",
      "Epoch:1[400/625],Loss:[0.494,0.594],prec[78.1250,72.0469]\n",
      "Epoch:1[500/625],Loss:[0.788,0.592],prec[46.8750,72.2562]\n",
      "Epoch:1[600/625],Loss:[0.605,0.592],prec[65.6250,72.3333]\n"
     ]
    },
    {
     "data": {
      "text/plain": "  0%|          | 0/625 [00:00<?, ?it/s]",
      "application/vnd.jupyter.widget-view+json": {
       "version_major": 2,
       "version_minor": 0,
       "model_id": "94b76bad3c9141b8b9fd79c25182700e"
      }
     },
     "metadata": {},
     "output_type": "display_data"
    },
    {
     "name": "stdout",
     "output_type": "stream",
     "text": [
      "Epoch:1,val,Loss:[0.602],prec[71.8050]\n"
     ]
    },
    {
     "data": {
      "text/plain": "  0%|          | 0/625 [00:00<?, ?it/s]",
      "application/vnd.jupyter.widget-view+json": {
       "version_major": 2,
       "version_minor": 0,
       "model_id": "9dd6d130700845a9a14ce0c7494f5ef6"
      }
     },
     "metadata": {},
     "output_type": "display_data"
    },
    {
     "name": "stdout",
     "output_type": "stream",
     "text": [
      "Epoch:2[100/625],Loss:[0.587,0.590],prec[68.7500,72.3438]\n",
      "Epoch:2[200/625],Loss:[0.513,0.585],prec[81.2500,72.8750]\n",
      "Epoch:2[300/625],Loss:[0.651,0.583],prec[65.6250,73.0104]\n",
      "Epoch:2[400/625],Loss:[0.478,0.581],prec[81.2500,73.1406]\n",
      "Epoch:2[500/625],Loss:[0.535,0.583],prec[81.2500,72.9750]\n",
      "Epoch:2[600/625],Loss:[0.655,0.582],prec[65.6250,73.0365]\n"
     ]
    },
    {
     "data": {
      "text/plain": "  0%|          | 0/625 [00:00<?, ?it/s]",
      "application/vnd.jupyter.widget-view+json": {
       "version_major": 2,
       "version_minor": 0,
       "model_id": "4ac4fc3174464409994b128928a5798b"
      }
     },
     "metadata": {},
     "output_type": "display_data"
    },
    {
     "name": "stdout",
     "output_type": "stream",
     "text": [
      "Epoch:2,val,Loss:[0.584],prec[72.8750]\n"
     ]
    },
    {
     "data": {
      "text/plain": "  0%|          | 0/625 [00:00<?, ?it/s]",
      "application/vnd.jupyter.widget-view+json": {
       "version_major": 2,
       "version_minor": 0,
       "model_id": "022748708422466baa30a5a523ce5672"
      }
     },
     "metadata": {},
     "output_type": "display_data"
    },
    {
     "name": "stdout",
     "output_type": "stream",
     "text": [
      "Epoch:3[100/625],Loss:[0.339,0.586],prec[96.8750,72.1250]\n",
      "Epoch:3[200/625],Loss:[0.479,0.581],prec[87.5000,72.8750]\n",
      "Epoch:3[300/625],Loss:[0.599,0.576],prec[71.8750,73.4583]\n",
      "Epoch:3[400/625],Loss:[0.621,0.578],prec[68.7500,73.3984]\n",
      "Epoch:3[500/625],Loss:[0.618,0.579],prec[71.8750,73.3000]\n",
      "Epoch:3[600/625],Loss:[0.616,0.577],prec[71.8750,73.5365]\n"
     ]
    },
    {
     "data": {
      "text/plain": "  0%|          | 0/625 [00:00<?, ?it/s]",
      "application/vnd.jupyter.widget-view+json": {
       "version_major": 2,
       "version_minor": 0,
       "model_id": "5ccca6764a3a4f13bc85c0b1bda2be5c"
      }
     },
     "metadata": {},
     "output_type": "display_data"
    },
    {
     "name": "stdout",
     "output_type": "stream",
     "text": [
      "Epoch:3,val,Loss:[0.581],prec[73.1950]\n"
     ]
    },
    {
     "data": {
      "text/plain": "  0%|          | 0/625 [00:00<?, ?it/s]",
      "application/vnd.jupyter.widget-view+json": {
       "version_major": 2,
       "version_minor": 0,
       "model_id": "78d28fb65b1a4fb7a02569bc1c8750fe"
      }
     },
     "metadata": {},
     "output_type": "display_data"
    },
    {
     "name": "stdout",
     "output_type": "stream",
     "text": [
      "Epoch:4[100/625],Loss:[0.503,0.585],prec[81.2500,72.6562]\n",
      "Epoch:4[200/625],Loss:[0.573,0.577],prec[71.8750,73.4688]\n",
      "Epoch:4[300/625],Loss:[0.751,0.575],prec[59.3750,73.6562]\n",
      "Epoch:4[400/625],Loss:[0.642,0.573],prec[65.6250,73.7812]\n",
      "Epoch:4[500/625],Loss:[0.562,0.572],prec[75.0000,73.8438]\n",
      "Epoch:4[600/625],Loss:[0.590,0.574],prec[78.1250,73.7188]\n"
     ]
    },
    {
     "data": {
      "text/plain": "  0%|          | 0/625 [00:00<?, ?it/s]",
      "application/vnd.jupyter.widget-view+json": {
       "version_major": 2,
       "version_minor": 0,
       "model_id": "d25e3bfc5a384214b2a96577a3de6cc2"
      }
     },
     "metadata": {},
     "output_type": "display_data"
    },
    {
     "name": "stdout",
     "output_type": "stream",
     "text": [
      "Epoch:4,val,Loss:[0.589],prec[72.8700]\n"
     ]
    }
   ],
   "source": [
    "cnn_model=CNN()\n",
    "optimizer=Adam(cnn_model.parameters(),lr=0.001)\n",
    "Loss=nn.CrossEntropyLoss()\n",
    "epochs=5\n",
    "train_loss=AverageMeter()\n",
    "test_loss=AverageMeter()\n",
    "test_top1=AverageMeter()\n",
    "train_top1=AverageMeter()\n",
    "train_cnt=AverageMeter()\n",
    "print_freq=100\n",
    "# cnn_model.cuda()\n",
    "for epoch in range(epochs):\n",
    "    lr=adjust_learning_rate(optimizer,epoch)\n",
    "    writer.add_scalar(\"lr\",lr,epoch)\n",
    "    train_loss.reset()\n",
    "    train_top1.reset()\n",
    "    train_cnt.reset()\n",
    "    test_top1.reset()\n",
    "    test_loss.reset()\n",
    "    for images,labels in tqdm(train_dl):\n",
    "        # images=images.cuda()\n",
    "        # labels=labels.cuda()\n",
    "        optimizer.zero_grad()\n",
    "        predict=cnn_model(images)\n",
    "        losses=Loss(predict,labels)\n",
    "        train_loss.update(losses.data,images.size(0))\n",
    "        top1=accuracy(predict.data,labels,topk=(1,))[0]\n",
    "        train_top1.update(top1,images.size(0))\n",
    "        train_cnt.update(images.size(0),1)\n",
    "        losses.backward()\n",
    "        optimizer.step()\n",
    "        if train_cnt.count%print_freq==0:\n",
    "            print(\"Epoch:{}[{}/{}],Loss:[{:.3f},{:.3f}],prec[{:.4f},{:.4f}]\".format(epoch,train_cnt.count,len(train_dl),train_loss.val,train_loss.avg,\n",
    "                                                            train_top1.val,train_top1.avg))\n",
    "    for images,labels in tqdm(test_dl):\n",
    "        # images=images.cuda()\n",
    "        # labels=labels.cuda()\n",
    "        predict=cnn_model(images)\n",
    "        losses=Loss(predict,labels)\n",
    "        test_loss.update(losses.data,images.size(0))\n",
    "        top1=accuracy(predict.data,labels,topk=(1,))[0]\n",
    "        test_top1.update(top1,images.size(0))\n",
    "    print(\"Epoch:{},val,Loss:[{:.3f}],prec[{:.4f}]\".format(epoch,test_loss.avg,test_top1.avg))\n",
    "    writer.add_scalar(\"train_loss\",train_loss.avg,epoch)\n",
    "    writer.add_scalar(\"test_loss\",test_loss.avg,epoch)    \n",
    "    writer.add_scalar(\"train_top1\",train_top1.avg,epoch)\n",
    "    writer.add_scalar(\"test_top1\",test_top1.avg,epoch)"
   ]
  },
  {
   "cell_type": "markdown",
   "metadata": {
    "pycharm": {
     "name": "#%% md\n"
    }
   },
   "source": [
    "## Direct Transferring\n",
    "\n",
    "直接用mnist数据集训练的网络识别ColoredMNIST数据集，准确率约为72.3%.可以看作领域适应方法准确率的上界。"
   ]
  },
  {
   "cell_type": "code",
   "execution_count": 9,
   "metadata": {
    "pycharm": {
     "name": "#%%\n"
    }
   },
   "outputs": [
    {
     "data": {
      "text/plain": "  0%|          | 0/625 [00:00<?, ?it/s]",
      "application/vnd.jupyter.widget-view+json": {
       "version_major": 2,
       "version_minor": 0,
       "model_id": "0d36afc553c14cf8901bd9a82a00c49c"
      }
     },
     "metadata": {},
     "output_type": "display_data"
    },
    {
     "name": "stdout",
     "output_type": "stream",
     "text": [
      "Epoch:4,val,Loss:[0.643],prec[72.3050]\n"
     ]
    }
   ],
   "source": [
    "test_m_top1=AverageMeter()\n",
    "test_m_loss=AverageMeter()\n",
    "for images,labels in tqdm(test_m_dl):\n",
    "    # images=images.cuda()\n",
    "    # labels=labels.cuda()\n",
    "    predict=cnn_model(images)\n",
    "    losses=Loss(predict,labels)\n",
    "    test_m_loss.update(losses.data,images.size(0))\n",
    "    top1=accuracy(predict.data,labels,topk=(1,))[0]\n",
    "    test_m_top1.update(top1,images.size(0))\n",
    "print(\"Epoch:{},val,Loss:[{:.3f}],prec[{:.4f}]\".format(epoch,test_m_loss.avg,test_m_top1.avg))"
   ]
  },
  {
   "cell_type": "markdown",
   "metadata": {
    "pycharm": {
     "name": "#%% md\n"
    }
   },
   "source": [
    "## Direct Training\n",
    "\n",
    "直接使用ColoredMNIST训练，准确率约为30.3050%，可以看坐领域适应方法准确率的下界。"
   ]
  },
  {
   "cell_type": "code",
   "execution_count": 10,
   "metadata": {
    "pycharm": {
     "name": "#%%\n"
    }
   },
   "outputs": [
    {
     "data": {
      "text/plain": "  0%|          | 0/625 [00:00<?, ?it/s]",
      "application/vnd.jupyter.widget-view+json": {
       "version_major": 2,
       "version_minor": 0,
       "model_id": "92e276c13520400f988a2a2c62f6e440"
      }
     },
     "metadata": {},
     "output_type": "display_data"
    },
    {
     "name": "stdout",
     "output_type": "stream",
     "text": [
      "Epoch:0[200/625],Loss:[0.384,0.449],prec[81.2500,78.9219]\n",
      "Epoch:0[400/625],Loss:[0.479,0.444],prec[78.1250,78.7891]\n",
      "Epoch:0[600/625],Loss:[0.544,0.445],prec[75.0000,78.8958]\n"
     ]
    },
    {
     "data": {
      "text/plain": "  0%|          | 0/625 [00:00<?, ?it/s]",
      "application/vnd.jupyter.widget-view+json": {
       "version_major": 2,
       "version_minor": 0,
       "model_id": "289c2d0f5bfe4cd5abd8ef2c3d43dc45"
      }
     },
     "metadata": {},
     "output_type": "display_data"
    },
    {
     "name": "stdout",
     "output_type": "stream",
     "text": [
      "Epoch:0,val,Loss:[1.114],prec[24.1550]\n"
     ]
    },
    {
     "data": {
      "text/plain": "  0%|          | 0/625 [00:00<?, ?it/s]",
      "application/vnd.jupyter.widget-view+json": {
       "version_major": 2,
       "version_minor": 0,
       "model_id": "4a402a141d81479da2b189717ad00d69"
      }
     },
     "metadata": {},
     "output_type": "display_data"
    },
    {
     "name": "stdout",
     "output_type": "stream",
     "text": [
      "Epoch:1[200/625],Loss:[0.435,0.413],prec[87.5000,80.7656]\n",
      "Epoch:1[400/625],Loss:[0.484,0.421],prec[78.1250,80.0859]\n",
      "Epoch:1[600/625],Loss:[0.550,0.426],prec[75.0000,79.9323]\n"
     ]
    },
    {
     "data": {
      "text/plain": "  0%|          | 0/625 [00:00<?, ?it/s]",
      "application/vnd.jupyter.widget-view+json": {
       "version_major": 2,
       "version_minor": 0,
       "model_id": "aa997d7fd9ed43e5ba8cefc7602e19e8"
      }
     },
     "metadata": {},
     "output_type": "display_data"
    },
    {
     "name": "stdout",
     "output_type": "stream",
     "text": [
      "Epoch:1,val,Loss:[1.169],prec[21.8350]\n"
     ]
    },
    {
     "data": {
      "text/plain": "  0%|          | 0/625 [00:00<?, ?it/s]",
      "application/vnd.jupyter.widget-view+json": {
       "version_major": 2,
       "version_minor": 0,
       "model_id": "3047a2078a8c4b929d2da4ceee191e36"
      }
     },
     "metadata": {},
     "output_type": "display_data"
    },
    {
     "name": "stdout",
     "output_type": "stream",
     "text": [
      "Epoch:2[200/625],Loss:[0.516,0.420],prec[62.5000,80.0625]\n",
      "Epoch:2[400/625],Loss:[0.426,0.417],prec[84.3750,80.4297]\n",
      "Epoch:2[600/625],Loss:[0.362,0.419],prec[78.1250,80.0000]\n"
     ]
    },
    {
     "data": {
      "text/plain": "  0%|          | 0/625 [00:00<?, ?it/s]",
      "application/vnd.jupyter.widget-view+json": {
       "version_major": 2,
       "version_minor": 0,
       "model_id": "329e7de8c54143b3b96e754b80df5a53"
      }
     },
     "metadata": {},
     "output_type": "display_data"
    },
    {
     "name": "stdout",
     "output_type": "stream",
     "text": [
      "Epoch:2,val,Loss:[1.133],prec[29.4550]\n"
     ]
    },
    {
     "data": {
      "text/plain": "  0%|          | 0/625 [00:00<?, ?it/s]",
      "application/vnd.jupyter.widget-view+json": {
       "version_major": 2,
       "version_minor": 0,
       "model_id": "9c2982f96f8d40ab9adb217d6eccf083"
      }
     },
     "metadata": {},
     "output_type": "display_data"
    },
    {
     "name": "stdout",
     "output_type": "stream",
     "text": [
      "Epoch:3[200/625],Loss:[0.377,0.407],prec[78.1250,81.0938]\n",
      "Epoch:3[400/625],Loss:[0.509,0.413],prec[71.8750,80.2500]\n",
      "Epoch:3[600/625],Loss:[0.525,0.413],prec[81.2500,80.3177]\n"
     ]
    },
    {
     "data": {
      "text/plain": "  0%|          | 0/625 [00:00<?, ?it/s]",
      "application/vnd.jupyter.widget-view+json": {
       "version_major": 2,
       "version_minor": 0,
       "model_id": "cb113f87d4a24a0790d54c09426171ad"
      }
     },
     "metadata": {},
     "output_type": "display_data"
    },
    {
     "name": "stdout",
     "output_type": "stream",
     "text": [
      "Epoch:3,val,Loss:[1.103],prec[28.5550]\n"
     ]
    },
    {
     "data": {
      "text/plain": "  0%|          | 0/625 [00:00<?, ?it/s]",
      "application/vnd.jupyter.widget-view+json": {
       "version_major": 2,
       "version_minor": 0,
       "model_id": "d0ac6ea747c54e7e96de123ba7f98fba"
      }
     },
     "metadata": {},
     "output_type": "display_data"
    },
    {
     "name": "stdout",
     "output_type": "stream",
     "text": [
      "Epoch:4[200/625],Loss:[0.361,0.411],prec[78.1250,80.7031]\n",
      "Epoch:4[400/625],Loss:[0.363,0.410],prec[84.3750,80.7109]\n",
      "Epoch:4[600/625],Loss:[0.389,0.409],prec[84.3750,80.8594]\n"
     ]
    },
    {
     "data": {
      "text/plain": "  0%|          | 0/625 [00:00<?, ?it/s]",
      "application/vnd.jupyter.widget-view+json": {
       "version_major": 2,
       "version_minor": 0,
       "model_id": "0a65efd79c954fe3a934889db1d9785f"
      }
     },
     "metadata": {},
     "output_type": "display_data"
    },
    {
     "name": "stdout",
     "output_type": "stream",
     "text": [
      "Epoch:4,val,Loss:[1.174],prec[25.2050]\n"
     ]
    }
   ],
   "source": [
    "train_loss=AverageMeter()\n",
    "test_loss=AverageMeter()\n",
    "test_top1=AverageMeter()\n",
    "train_top1=AverageMeter()\n",
    "train_cnt=AverageMeter()\n",
    "print_freq=200\n",
    "# cnn_model.cuda()\n",
    "epochs=5\n",
    "for epoch in range(epochs):\n",
    "    lr=adjust_learning_rate(optimizer,epoch)\n",
    "    writer.add_scalar(\"lr\",lr,epoch)\n",
    "    train_loss.reset()\n",
    "    train_top1.reset()\n",
    "    train_cnt.reset()\n",
    "    test_top1.reset()\n",
    "    test_loss.reset()\n",
    "    for images,labels in tqdm(train_m_dl):\n",
    "        # images=images.cuda()\n",
    "        # labels=labels.cuda()\n",
    "        optimizer.zero_grad()\n",
    "        predict=cnn_model(images)\n",
    "        losses=Loss(predict,labels)\n",
    "        train_loss.update(losses.data,images.size(0))\n",
    "        top1=accuracy(predict.data,labels,topk=(1,))[0]\n",
    "        train_top1.update(top1,images.size(0))\n",
    "        train_cnt.update(images.size(0),1)\n",
    "        losses.backward()\n",
    "        optimizer.step()\n",
    "        if train_cnt.count%print_freq==0:\n",
    "            print(\"Epoch:{}[{}/{}],Loss:[{:.3f},{:.3f}],prec[{:.4f},{:.4f}]\".format(epoch,train_cnt.count,len(train_dl),train_loss.val,train_loss.avg,\n",
    "                                                                   train_top1.val,train_top1.avg))\n",
    "    for images,labels in tqdm(test_m_dl):\n",
    "        # images=images.cuda()\n",
    "        # labels=labels.cuda()\n",
    "        predict=cnn_model(images)\n",
    "        losses=Loss(predict,labels)\n",
    "        test_loss.update(losses.data,images.size(0))\n",
    "        top1=accuracy(predict.data,labels,topk=(1,))[0]\n",
    "        test_top1.update(top1,images.size(0))\n",
    "    print(\"Epoch:{},val,Loss:[{:.3f}],prec[{:.4f}]\".format(epoch,test_loss.avg,test_top1.avg))\n",
    "    writer.add_scalar(\"train_loss\",train_loss.avg,epoch)\n",
    "    writer.add_scalar(\"test_loss\",test_loss.avg,epoch)    \n",
    "    writer.add_scalar(\"train_top1\",train_top1.avg,epoch)\n",
    "    writer.add_scalar(\"test_top1\",test_top1.avg,epoch)"
   ]
  },
  {
   "cell_type": "markdown",
   "metadata": {
    "pycharm": {
     "name": "#%% md\n"
    }
   },
   "source": [
    "## Gradient Reverse Layer (GRL)\n",
    "\n",
    "梯度反转层，这一层正向表现为恒等变换，反向传播是改变梯度的符号，alpha用来平衡域损失的权重。"
   ]
  },
  {
   "cell_type": "code",
   "execution_count": 11,
   "metadata": {
    "pycharm": {
     "name": "#%%\n"
    }
   },
   "outputs": [],
   "source": [
    "from torch.autograd import Function\n",
    "\n",
    "class GRL(Function):\n",
    "    @staticmethod\n",
    "    def forward(ctx, x, alpha):\n",
    "        ctx.alpha = alpha\n",
    "        return x.view_as(x)\n",
    "\n",
    "    @staticmethod\n",
    "    def backward(ctx, grad_output):\n",
    "        output = grad_output.neg() * ctx.alpha\n",
    "        return output, None"
   ]
  },
  {
   "cell_type": "markdown",
   "metadata": {
    "pycharm": {
     "name": "#%% md\n"
    }
   },
   "source": [
    "## DANN"
   ]
  },
  {
   "cell_type": "code",
   "execution_count": 12,
   "metadata": {
    "pycharm": {
     "name": "#%%\n"
    }
   },
   "outputs": [],
   "source": [
    "class DANN(nn.Module):\n",
    "    def __init__(self,num_classes=10):\n",
    "        super(DANN,self).__init__()\n",
    "        self.features=nn.Sequential(\n",
    "            nn.Conv2d(3,32,5),\n",
    "            nn.ReLU(inplace=True),\n",
    "            nn.MaxPool2d(2),\n",
    "            nn.Conv2d(32,48,5),\n",
    "            nn.ReLU(inplace=True),\n",
    "            nn.MaxPool2d(2),\n",
    "        )\n",
    "        self.avgpool=nn.AdaptiveAvgPool2d((5,5))\n",
    "        self.task_classifier=nn.Sequential(\n",
    "            nn.Linear(48*5*5,100),\n",
    "            nn.ReLU(inplace=True),\n",
    "            nn.Linear(100,100),\n",
    "            nn.ReLU(inplace=True),\n",
    "            nn.Linear(100,num_classes)\n",
    "        )\n",
    "        self.domain_classifier=nn.Sequential(\n",
    "            nn.Linear(48*5*5,100),\n",
    "            nn.ReLU(inplace=True),\n",
    "            nn.Linear(100,2)\n",
    "        )\n",
    "        self.GRL=GRL()\n",
    "    def forward(self,x,alpha):\n",
    "        x = x.expand(x.data.shape[0], 3, image_size,image_size)\n",
    "        x=self.features(x)\n",
    "        x=self.avgpool(x)\n",
    "        x=torch.flatten(x,1)\n",
    "        task_predict=self.task_classifier(x)\n",
    "        x=GRL.apply(x,alpha)\n",
    "        domain_predict=self.domain_classifier(x)\n",
    "        return task_predict,domain_predict"
   ]
  },
  {
   "cell_type": "markdown",
   "metadata": {
    "pycharm": {
     "name": "#%% md\n"
    }
   },
   "source": [
    "## Domain Transfer Training\n",
    "\n",
    "使用DANN进行领域迁移训练，使用mnist上的有标签数据和ColoredMNIST上的无标签数据，准确率约为50.41%."
   ]
  },
  {
   "cell_type": "code",
   "execution_count": 13,
   "metadata": {
    "scrolled": false,
    "pycharm": {
     "name": "#%%\n"
    }
   },
   "outputs": [
    {
     "name": "stdout",
     "output_type": "stream",
     "text": [
      "Epoch:0[200/625],Loss:[1.742,1.889],domain loss:[0.139,0.786],label loss:[0.516,0.699],prec[81.2500,61.1719],alpha:0.015998634806462242\n",
      "Epoch:0[400/625],Loss:[3.192,2.600],domain loss:[0.845,1.267],label loss:[0.707,0.668],prec[53.1250,63.6172],alpha:0.03198908180540405\n",
      "Epoch:0[600/625],Loss:[0.679,3.192],domain loss:[0.001,1.828],label loss:[0.678,0.678],prec[62.5000,61.5677],alpha:0.04796316994220873\n"
     ]
    },
    {
     "data": {
      "text/plain": "  0%|          | 0/625 [00:00<?, ?it/s]",
      "application/vnd.jupyter.widget-view+json": {
       "version_major": 2,
       "version_minor": 0,
       "model_id": "725488ad9f5e4128801107b924392556"
      }
     },
     "metadata": {},
     "output_type": "display_data"
    },
    {
     "name": "stdout",
     "output_type": "stream",
     "text": [
      "Epoch:0,val,Loss:[0.504],prec[88.7650],domain_acc[100.0000]\n",
      "Epoch:1[200/625],Loss:[0.773,0.627],domain loss:[0.076,0.001],label loss:[0.658,0.624],prec[68.7500,67.5312],alpha:0.0659043346837902\n",
      "Epoch:1[400/625],Loss:[0.500,0.930],domain loss:[0.000,0.227],label loss:[0.500,0.621],prec[87.5000,67.9766],alpha:0.08181670364476323\n",
      "Epoch:1[600/625],Loss:[0.656,2.206],domain loss:[0.000,1.238],label loss:[0.656,0.637],prec[59.3750,65.0521],alpha:0.09768746989410348\n"
     ]
    },
    {
     "data": {
      "text/plain": "  0%|          | 0/625 [00:00<?, ?it/s]",
      "application/vnd.jupyter.widget-view+json": {
       "version_major": 2,
       "version_minor": 0,
       "model_id": "d9284864ec764c72ae767b0f17a7cad5"
      }
     },
     "metadata": {},
     "output_type": "display_data"
    },
    {
     "name": "stdout",
     "output_type": "stream",
     "text": [
      "Epoch:1,val,Loss:[0.679],prec[49.5900],domain_acc[100.0000]\n",
      "Epoch:2[200/625],Loss:[0.672,0.684],domain loss:[0.000,0.000],label loss:[0.672,0.684],prec[62.5000,55.7500],alpha:0.11548248661898008\n",
      "Epoch:2[400/625],Loss:[0.670,0.677],domain loss:[0.000,0.000],label loss:[0.670,0.677],prec[59.3750,57.7656],alpha:0.13123864986596323\n",
      "Epoch:2[600/625],Loss:[0.765,1.846],domain loss:[0.061,0.843],label loss:[0.704,0.669],prec[40.6250,60.0052],alpha:0.14692878722649882\n"
     ]
    },
    {
     "data": {
      "text/plain": "  0%|          | 0/625 [00:00<?, ?it/s]",
      "application/vnd.jupyter.widget-view+json": {
       "version_major": 2,
       "version_minor": 0,
       "model_id": "154eaf3a91c14832a04aa1a41604a92a"
      }
     },
     "metadata": {},
     "output_type": "display_data"
    },
    {
     "name": "stdout",
     "output_type": "stream",
     "text": [
      "Epoch:2,val,Loss:[1.280],prec[40.7200],domain_acc[100.0000]\n",
      "Epoch:3[200/625],Loss:[0.721,0.704],domain loss:[0.000,0.002],label loss:[0.721,0.700],prec[37.5000,51.0000],alpha:0.16449185585604442\n",
      "Epoch:3[400/625],Loss:[0.668,0.700],domain loss:[0.000,0.001],label loss:[0.668,0.698],prec[62.5000,49.8984],alpha:0.1800167504577601\n",
      "Epoch:3[600/625],Loss:[0.689,0.700],domain loss:[0.000,0.001],label loss:[0.689,0.699],prec[53.1250,50.1250],alpha:0.19545247777947417\n"
     ]
    },
    {
     "data": {
      "text/plain": "  0%|          | 0/625 [00:00<?, ?it/s]",
      "application/vnd.jupyter.widget-view+json": {
       "version_major": 2,
       "version_minor": 0,
       "model_id": "c29944efc48f4ff2a806c33171b30f1d"
      }
     },
     "metadata": {},
     "output_type": "display_data"
    },
    {
     "name": "stdout",
     "output_type": "stream",
     "text": [
      "Epoch:3,val,Loss:[0.768],prec[10.0650],domain_acc[100.0000]\n",
      "Epoch:4[200/625],Loss:[0.703,0.690],domain loss:[0.000,0.000],label loss:[0.703,0.690],prec[65.6250,52.9062],alpha:0.21270229740018176\n",
      "Epoch:4[400/625],Loss:[0.646,0.686],domain loss:[0.000,0.000],label loss:[0.646,0.686],prec[59.3750,54.2656],alpha:0.22792531458279308\n",
      "Epoch:4[600/625],Loss:[0.655,0.678],domain loss:[0.000,0.000],label loss:[0.655,0.678],prec[65.6250,56.5938],alpha:0.243037713855222\n"
     ]
    },
    {
     "data": {
      "text/plain": "  0%|          | 0/625 [00:00<?, ?it/s]",
      "application/vnd.jupyter.widget-view+json": {
       "version_major": 2,
       "version_minor": 0,
       "model_id": "5e780967513d43afba012cdcd9469ad7"
      }
     },
     "metadata": {},
     "output_type": "display_data"
    },
    {
     "name": "stdout",
     "output_type": "stream",
     "text": [
      "Epoch:4,val,Loss:[2.913],prec[10.0200],domain_acc[100.0000]\n",
      "Epoch:5[200/625],Loss:[0.556,0.640],domain loss:[0.000,0.000],label loss:[0.556,0.640],prec[75.0000,65.1562],alpha:0.2598989185823417\n",
      "Epoch:5[400/625],Loss:[0.585,0.638],domain loss:[0.000,0.000],label loss:[0.585,0.638],prec[71.8750,65.5000],alpha:0.27475511396339947\n",
      "Epoch:5[600/625],Loss:[35.010,1.281],domain loss:[34.389,0.580],label loss:[0.621,0.633],prec[71.8750,66.4219],alpha:0.2894812739857362\n"
     ]
    },
    {
     "data": {
      "text/plain": "  0%|          | 0/625 [00:00<?, ?it/s]",
      "application/vnd.jupyter.widget-view+json": {
       "version_major": 2,
       "version_minor": 0,
       "model_id": "1816f3c7561347afacea04c37b330d24"
      }
     },
     "metadata": {},
     "output_type": "display_data"
    },
    {
     "name": "stdout",
     "output_type": "stream",
     "text": [
      "Epoch:5,val,Loss:[1.244],prec[10.8600],domain_acc[100.0000]\n",
      "Epoch:6[200/625],Loss:[0.696,0.698],domain loss:[0.000,0.000],label loss:[0.696,0.698],prec[40.6250,49.5625],alpha:0.3058856354111792\n",
      "Epoch:6[400/625],Loss:[0.695,0.696],domain loss:[0.000,0.000],label loss:[0.695,0.696],prec[46.8750,50.2891],alpha:0.3203167194475147\n",
      "Epoch:6[600/625],Loss:[0.692,0.695],domain loss:[0.000,0.000],label loss:[0.692,0.695],prec[62.5000,49.9375],alpha:0.3346006496541831\n"
     ]
    },
    {
     "data": {
      "text/plain": "  0%|          | 0/625 [00:00<?, ?it/s]",
      "application/vnd.jupyter.widget-view+json": {
       "version_major": 2,
       "version_minor": 0,
       "model_id": "ea7606a1213a404690c072291f415ba5"
      }
     },
     "metadata": {},
     "output_type": "display_data"
    },
    {
     "name": "stdout",
     "output_type": "stream",
     "text": [
      "Epoch:6,val,Loss:[0.680],prec[76.0150],domain_acc[100.0000]\n",
      "Epoch:7[200/625],Loss:[0.689,0.693],domain loss:[0.000,0.000],label loss:[0.689,0.693],prec[56.2500,50.9219],alpha:0.3504880105676904\n",
      "Epoch:7[400/625],Loss:[0.694,0.694],domain loss:[0.000,0.000],label loss:[0.694,0.694],prec[43.7500,50.1406],alpha:0.364443092801352\n",
      "Epoch:7[600/625],Loss:[0.698,0.694],domain loss:[0.000,0.000],label loss:[0.698,0.694],prec[43.7500,50.3333],alpha:0.37823638558303885\n"
     ]
    },
    {
     "data": {
      "text/plain": "  0%|          | 0/625 [00:00<?, ?it/s]",
      "application/vnd.jupyter.widget-view+json": {
       "version_major": 2,
       "version_minor": 0,
       "model_id": "5aee1825fcbf4e2fab5af2abeed48948"
      }
     },
     "metadata": {},
     "output_type": "display_data"
    },
    {
     "name": "stdout",
     "output_type": "stream",
     "text": [
      "Epoch:7,val,Loss:[0.683],prec[77.3450],domain_acc[100.0000]\n",
      "Epoch:8[200/625],Loss:[0.690,0.693],domain loss:[0.000,0.000],label loss:[0.690,0.693],prec[56.2500,51.0312],alpha:0.3935553063167454\n",
      "Epoch:8[400/625],Loss:[0.693,0.694],domain loss:[0.000,0.000],label loss:[0.693,0.694],prec[46.8750,50.0859],alpha:0.4069913819036224\n",
      "Epoch:8[600/625],Loss:[0.701,0.694],domain loss:[0.000,0.000],label loss:[0.701,0.694],prec[43.7500,50.4323],alpha:0.42025361660945926\n"
     ]
    },
    {
     "data": {
      "text/plain": "  0%|          | 0/625 [00:00<?, ?it/s]",
      "application/vnd.jupyter.widget-view+json": {
       "version_major": 2,
       "version_minor": 0,
       "model_id": "f3a1f12bae8546b2b967331be78327cf"
      }
     },
     "metadata": {},
     "output_type": "display_data"
    },
    {
     "name": "stdout",
     "output_type": "stream",
     "text": [
      "Epoch:8,val,Loss:[0.682],prec[64.0500],domain_acc[100.0000]\n",
      "Epoch:9[200/625],Loss:[0.703,0.693],domain loss:[0.000,0.000],label loss:[0.703,0.693],prec[40.6250,50.6719],alpha:0.4349617318313266\n",
      "Epoch:9[400/625],Loss:[0.693,0.693],domain loss:[0.000,0.000],label loss:[0.693,0.693],prec[53.1250,50.7344],alpha:0.44784391314578276\n",
      "Epoch:9[600/625],Loss:[0.692,0.694],domain loss:[0.000,0.000],label loss:[0.692,0.694],prec[53.1250,50.3125],alpha:0.4605428088263632\n"
     ]
    },
    {
     "data": {
      "text/plain": "  0%|          | 0/625 [00:00<?, ?it/s]",
      "application/vnd.jupyter.widget-view+json": {
       "version_major": 2,
       "version_minor": 0,
       "model_id": "79798cd4c14f433ba68b4776ec0261c5"
      }
     },
     "metadata": {},
     "output_type": "display_data"
    },
    {
     "name": "stdout",
     "output_type": "stream",
     "text": [
      "Epoch:9,val,Loss:[0.687],prec[66.2700],domain_acc[100.0000]\n",
      "Epoch:10[200/625],Loss:[0.693,0.693],domain loss:[0.000,0.000],label loss:[0.693,0.693],prec[53.1250,51.0625],alpha:0.47460690756711865\n",
      "Epoch:10[400/625],Loss:[0.708,0.693],domain loss:[0.000,0.000],label loss:[0.708,0.693],prec[40.6250,50.6172],alpha:0.48690841629268755\n",
      "Epoch:10[600/625],Loss:[0.695,0.694],domain loss:[0.000,0.000],label loss:[0.695,0.694],prec[50.0000,50.3125],alpha:0.4990197521342994\n"
     ]
    },
    {
     "data": {
      "text/plain": "  0%|          | 0/625 [00:00<?, ?it/s]",
      "application/vnd.jupyter.widget-view+json": {
       "version_major": 2,
       "version_minor": 0,
       "model_id": "aaf8e0b4b98840a7a3d81c79bfb64aba"
      }
     },
     "metadata": {},
     "output_type": "display_data"
    },
    {
     "name": "stdout",
     "output_type": "stream",
     "text": [
      "Epoch:10,val,Loss:[0.692],prec[69.2750],domain_acc[100.0000]\n",
      "Epoch:11[200/625],Loss:[0.691,0.694],domain loss:[0.000,0.000],label loss:[0.691,0.694],prec[62.5000,50.0625],alpha:0.5124156062544918\n",
      "Epoch:11[400/625],Loss:[0.693,0.694],domain loss:[0.000,0.000],label loss:[0.693,0.694],prec[68.7500,50.1953],alpha:0.5241175514991385\n",
      "Epoch:11[600/625],Loss:[0.691,0.693],domain loss:[0.000,0.000],label loss:[0.691,0.693],prec[53.1250,50.9948],alpha:0.53562488312072\n"
     ]
    },
    {
     "data": {
      "text/plain": "  0%|          | 0/625 [00:00<?, ?it/s]",
      "application/vnd.jupyter.widget-view+json": {
       "version_major": 2,
       "version_minor": 0,
       "model_id": "a0ff5df5c00f4513a296297c3fec8f6b"
      }
     },
     "metadata": {},
     "output_type": "display_data"
    },
    {
     "name": "stdout",
     "output_type": "stream",
     "text": [
      "Epoch:11,val,Loss:[0.703],prec[58.9850],domain_acc[100.0000]\n",
      "Epoch:12[200/625],Loss:[0.677,0.693],domain loss:[0.000,0.000],label loss:[0.677,0.693],prec[62.5000,50.8281],alpha:0.5483368586719488\n",
      "Epoch:12[400/625],Loss:[0.692,0.693],domain loss:[0.000,0.000],label loss:[0.692,0.693],prec[53.1250,50.8125],alpha:0.5594278338412255\n",
      "Epoch:12[600/625],Loss:[0.695,0.693],domain loss:[0.000,0.000],label loss:[0.695,0.693],prec[50.0000,50.8385],alpha:0.5703220398447029\n"
     ]
    },
    {
     "data": {
      "text/plain": "  0%|          | 0/625 [00:00<?, ?it/s]",
      "application/vnd.jupyter.widget-view+json": {
       "version_major": 2,
       "version_minor": 0,
       "model_id": "c0a1c325b6c94cf6affe9d8f411ef0f5"
      }
     },
     "metadata": {},
     "output_type": "display_data"
    },
    {
     "name": "stdout",
     "output_type": "stream",
     "text": [
      "Epoch:12,val,Loss:[0.700],prec[66.2700],domain_acc[100.0000]\n",
      "Epoch:13[200/625],Loss:[0.695,0.693],domain loss:[0.000,0.000],label loss:[0.695,0.693],prec[50.0000,50.9375],alpha:0.582342531610339\n",
      "Epoch:13[400/625],Loss:[0.693,0.694],domain loss:[0.000,0.000],label loss:[0.693,0.694],prec[50.0000,50.7734],alpha:0.5928180669311505\n",
      "Epoch:13[600/625],Loss:[0.693,0.694],domain loss:[0.000,0.000],label loss:[0.693,0.694],prec[50.0000,50.7188],alpha:0.6030967633123072\n"
     ]
    },
    {
     "data": {
      "text/plain": "  0%|          | 0/625 [00:00<?, ?it/s]",
      "application/vnd.jupyter.widget-view+json": {
       "version_major": 2,
       "version_minor": 0,
       "model_id": "99763ddf7791451aaaa84057733764bd"
      }
     },
     "metadata": {},
     "output_type": "display_data"
    },
    {
     "name": "stdout",
     "output_type": "stream",
     "text": [
      "Epoch:13,val,Loss:[0.706],prec[29.8800],domain_acc[100.0000]\n",
      "Epoch:14[200/625],Loss:[0.692,0.693],domain loss:[0.000,0.000],label loss:[0.692,0.693],prec[53.1250,51.2812],alpha:0.614425495340025\n",
      "Epoch:14[400/625],Loss:[0.691,0.694],domain loss:[0.000,0.000],label loss:[0.691,0.694],prec[56.2500,50.5391],alpha:0.6242874042434383\n",
      "Epoch:14[600/625],Loss:[0.695,0.694],domain loss:[0.000,0.000],label loss:[0.695,0.694],prec[43.7500,50.8385],alpha:0.6339542647544443\n"
     ]
    },
    {
     "data": {
      "text/plain": "  0%|          | 0/625 [00:00<?, ?it/s]",
      "application/vnd.jupyter.widget-view+json": {
       "version_major": 2,
       "version_minor": 0,
       "model_id": "6b84420fa36144bcbbd24567508f09ed"
      }
     },
     "metadata": {},
     "output_type": "display_data"
    },
    {
     "name": "stdout",
     "output_type": "stream",
     "text": [
      "Epoch:14,val,Loss:[0.693],prec[48.6800],domain_acc[100.0000]\n",
      "Epoch:15[200/625],Loss:[0.692,0.694],domain loss:[0.000,0.000],label loss:[0.692,0.694],prec[53.1250,50.4688],alpha:0.6445974993027463\n",
      "Epoch:15[400/625],Loss:[0.694,0.694],domain loss:[0.000,0.000],label loss:[0.694,0.694],prec[46.8750,50.7109],alpha:0.65385315575444\n",
      "Epoch:15[600/625],Loss:[0.691,0.694],domain loss:[0.000,0.000],label loss:[0.691,0.694],prec[53.1250,50.4844],alpha:0.6629171745196893\n"
     ]
    },
    {
     "data": {
      "text/plain": "  0%|          | 0/625 [00:00<?, ?it/s]",
      "application/vnd.jupyter.widget-view+json": {
       "version_major": 2,
       "version_minor": 0,
       "model_id": "2cfa16c53715442e889e7bbaf98e235f"
      }
     },
     "metadata": {},
     "output_type": "display_data"
    },
    {
     "name": "stdout",
     "output_type": "stream",
     "text": [
      "Epoch:15,val,Loss:[0.717],prec[28.0100],domain_acc[100.0000]\n",
      "Epoch:16[200/625],Loss:[0.699,0.694],domain loss:[0.000,0.000],label loss:[0.699,0.694],prec[40.6250,50.0312],alpha:0.6728868690993062\n",
      "Epoch:16[400/625],Loss:[0.701,0.694],domain loss:[0.000,0.000],label loss:[0.701,0.694],prec[40.6250,50.2734],alpha:0.6815484499483511\n",
      "Epoch:16[600/625],Loss:[0.702,0.694],domain loss:[0.000,0.000],label loss:[0.702,0.694],prec[40.6250,50.3594],alpha:0.6900231791331366\n"
     ]
    },
    {
     "data": {
      "text/plain": "  0%|          | 0/625 [00:00<?, ?it/s]",
      "application/vnd.jupyter.widget-view+json": {
       "version_major": 2,
       "version_minor": 0,
       "model_id": "4ae19c928faf47f1a7136ac79f644b9a"
      }
     },
     "metadata": {},
     "output_type": "display_data"
    },
    {
     "name": "stdout",
     "output_type": "stream",
     "text": [
      "Epoch:16,val,Loss:[0.723],prec[26.9600],domain_acc[100.0000]\n",
      "Epoch:17[200/625],Loss:[0.695,0.694],domain loss:[0.000,0.000],label loss:[0.695,0.694],prec[43.7500,49.9062],alpha:0.6993361268805545\n",
      "Epoch:17[400/625],Loss:[0.686,0.693],domain loss:[0.000,0.000],label loss:[0.686,0.693],prec[62.5000,50.3359],alpha:0.7074198489653143\n",
      "Epoch:17[600/625],Loss:[0.686,0.694],domain loss:[0.000,0.000],label loss:[0.686,0.694],prec[71.8750,50.2969],alpha:0.7153226396659271\n"
     ]
    },
    {
     "data": {
      "text/plain": "  0%|          | 0/625 [00:00<?, ?it/s]",
      "application/vnd.jupyter.widget-view+json": {
       "version_major": 2,
       "version_minor": 0,
       "model_id": "a052fa1c97234169b7caf302dccf0357"
      }
     },
     "metadata": {},
     "output_type": "display_data"
    },
    {
     "name": "stdout",
     "output_type": "stream",
     "text": [
      "Epoch:17,val,Loss:[0.823],prec[50.4100],domain_acc[100.0000]\n",
      "Epoch:18[200/625],Loss:[0.693,0.694],domain loss:[0.000,0.000],label loss:[0.693,0.694],prec[50.0000,50.7344],alpha:0.723999622788764\n",
      "Epoch:18[400/625],Loss:[0.689,0.694],domain loss:[0.000,0.000],label loss:[0.689,0.694],prec[56.2500,50.4922],alpha:0.7315249994555852\n",
      "Epoch:18[600/625],Loss:[0.698,0.694],domain loss:[0.000,0.000],label loss:[0.698,0.694],prec[46.8750,50.3490],alpha:0.7388762687642882\n"
     ]
    },
    {
     "data": {
      "text/plain": "  0%|          | 0/625 [00:00<?, ?it/s]",
      "application/vnd.jupyter.widget-view+json": {
       "version_major": 2,
       "version_minor": 0,
       "model_id": "d4a81e947c2742d6886a4fc5f4154aa9"
      }
     },
     "metadata": {},
     "output_type": "display_data"
    },
    {
     "name": "stdout",
     "output_type": "stream",
     "text": [
      "Epoch:18,val,Loss:[0.788],prec[53.3450],domain_acc[100.0000]\n",
      "Epoch:19[200/625],Loss:[0.688,0.693],domain loss:[0.000,0.000],label loss:[0.688,0.693],prec[62.5000,50.4062],alpha:0.7469412488326295\n",
      "Epoch:19[400/625],Loss:[0.700,0.693],domain loss:[0.000,0.000],label loss:[0.700,0.693],prec[43.7500,50.8281],alpha:0.7539303851814612\n",
      "Epoch:19[600/625],Loss:[0.693,0.693],domain loss:[0.000,0.000],label loss:[0.693,0.693],prec[50.0000,50.3438],alpha:0.7607529270441293\n"
     ]
    },
    {
     "data": {
      "text/plain": "  0%|          | 0/625 [00:00<?, ?it/s]",
      "application/vnd.jupyter.widget-view+json": {
       "version_major": 2,
       "version_minor": 0,
       "model_id": "3ccbff368ad9453fb8442ea389c31a2a"
      }
     },
     "metadata": {},
     "output_type": "display_data"
    },
    {
     "name": "stdout",
     "output_type": "stream",
     "text": [
      "Epoch:19,val,Loss:[0.806],prec[52.8550],domain_acc[100.0000]\n",
      "Epoch:20[200/625],Loss:[0.675,0.693],domain loss:[0.000,0.000],label loss:[0.675,0.693],prec[71.8750,50.4219],alpha:0.7682322899522251\n",
      "Epoch:20[400/625],Loss:[0.693,0.693],domain loss:[0.000,0.000],label loss:[0.693,0.693],prec[37.5000,50.5391],alpha:0.7747092309184456\n",
      "Epoch:20[600/625],Loss:[0.693,0.693],domain loss:[0.000,0.000],label loss:[0.693,0.693],prec[53.1250,50.1615],alpha:0.7810275833073346\n"
     ]
    },
    {
     "data": {
      "text/plain": "  0%|          | 0/625 [00:00<?, ?it/s]",
      "application/vnd.jupyter.widget-view+json": {
       "version_major": 2,
       "version_minor": 0,
       "model_id": "cda22a9e35a64e4d8b82d62bc7d6e39c"
      }
     },
     "metadata": {},
     "output_type": "display_data"
    },
    {
     "name": "stdout",
     "output_type": "stream",
     "text": [
      "Epoch:20,val,Loss:[0.829],prec[52.2750],domain_acc[100.0000]\n",
      "Epoch:21[200/625],Loss:[0.690,0.694],domain loss:[0.000,0.000],label loss:[0.690,0.694],prec[62.5000,49.2812],alpha:0.7879494511608012\n",
      "Epoch:21[400/625],Loss:[0.692,0.693],domain loss:[0.000,0.000],label loss:[0.692,0.693],prec[53.1250,50.2344],alpha:0.7939395917615266\n",
      "Epoch:21[600/625],Loss:[0.693,0.693],domain loss:[0.000,0.000],label loss:[0.693,0.693],prec[50.0000,50.1979],alpha:0.7997794680836847\n"
     ]
    },
    {
     "data": {
      "text/plain": "  0%|          | 0/625 [00:00<?, ?it/s]",
      "application/vnd.jupyter.widget-view+json": {
       "version_major": 2,
       "version_minor": 0,
       "model_id": "0fe3ec45182a4869b6f6c29b252b5b07"
      }
     },
     "metadata": {},
     "output_type": "display_data"
    },
    {
     "name": "stdout",
     "output_type": "stream",
     "text": [
      "Epoch:21,val,Loss:[0.854],prec[51.7100],domain_acc[100.0000]\n",
      "Epoch:22[200/625],Loss:[0.704,0.693],domain loss:[0.000,0.000],label loss:[0.704,0.693],prec[37.5000,50.8750],alpha:0.8061730853233975\n",
      "Epoch:22[400/625],Loss:[0.697,0.693],domain loss:[0.000,0.000],label loss:[0.697,0.693],prec[46.8750,51.0391],alpha:0.8117026482228882\n",
      "Epoch:22[600/625],Loss:[0.698,0.693],domain loss:[0.000,0.000],label loss:[0.698,0.693],prec[37.5000,50.7656],alpha:0.8170904369288805\n"
     ]
    },
    {
     "data": {
      "text/plain": "  0%|          | 0/625 [00:00<?, ?it/s]",
      "application/vnd.jupyter.widget-view+json": {
       "version_major": 2,
       "version_minor": 0,
       "model_id": "25ada9a4cf144612b04ee9bdfdcde07b"
      }
     },
     "metadata": {},
     "output_type": "display_data"
    },
    {
     "name": "stdout",
     "output_type": "stream",
     "text": [
      "Epoch:22,val,Loss:[0.838],prec[18.3400],domain_acc[100.0000]\n",
      "Epoch:23[200/625],Loss:[0.701,0.693],domain loss:[0.000,0.000],label loss:[0.701,0.693],prec[40.6250,50.5156],alpha:0.8229856338211163\n",
      "Epoch:23[400/625],Loss:[0.701,0.693],domain loss:[0.000,0.000],label loss:[0.701,0.693],prec[40.6250,50.8203],alpha:0.8280812158964155\n",
      "Epoch:23[600/625],Loss:[0.692,0.693],domain loss:[0.000,0.000],label loss:[0.692,0.693],prec[56.2500,50.4531],alpha:0.83304354901185\n"
     ]
    },
    {
     "data": {
      "text/plain": "  0%|          | 0/625 [00:00<?, ?it/s]",
      "application/vnd.jupyter.widget-view+json": {
       "version_major": 2,
       "version_minor": 0,
       "model_id": "aa7df9c92d824ae49848dab66088aba4"
      }
     },
     "metadata": {},
     "output_type": "display_data"
    },
    {
     "name": "stdout",
     "output_type": "stream",
     "text": [
      "Epoch:23,val,Loss:[0.888],prec[51.6700],domain_acc[100.0000]\n",
      "Epoch:24[200/625],Loss:[0.696,0.693],domain loss:[0.000,0.000],label loss:[0.696,0.693],prec[43.7500,50.2031],alpha:0.8384702822631238\n",
      "Epoch:24[400/625],Loss:[0.701,0.693],domain loss:[0.000,0.000],label loss:[0.701,0.693],prec[46.8750,50.2891],alpha:0.8431584690981058\n",
      "Epoch:24[600/625],Loss:[0.691,0.693],domain loss:[0.000,0.000],label loss:[0.691,0.693],prec[56.2500,50.4323],alpha:0.8477218578730918\n"
     ]
    },
    {
     "data": {
      "text/plain": "  0%|          | 0/625 [00:00<?, ?it/s]",
      "application/vnd.jupyter.widget-view+json": {
       "version_major": 2,
       "version_minor": 0,
       "model_id": "b53316e8f3004d69b174846cc1129369"
      }
     },
     "metadata": {},
     "output_type": "display_data"
    },
    {
     "name": "stdout",
     "output_type": "stream",
     "text": [
      "Epoch:24,val,Loss:[0.904],prec[51.3950],domain_acc[100.0000]\n",
      "Epoch:25[200/625],Loss:[0.695,0.693],domain loss:[0.000,0.000],label loss:[0.695,0.693],prec[46.8750,50.4062],alpha:0.8527098255484877\n",
      "Epoch:25[400/625],Loss:[0.696,0.693],domain loss:[0.000,0.000],label loss:[0.696,0.693],prec[46.8750,50.2422],alpha:0.8570168707190711\n",
      "Epoch:25[600/625],Loss:[0.695,0.693],domain loss:[0.000,0.000],label loss:[0.695,0.693],prec[40.6250,50.1510],alpha:0.8612074047322389\n"
     ]
    },
    {
     "data": {
      "text/plain": "  0%|          | 0/625 [00:00<?, ?it/s]",
      "application/vnd.jupyter.widget-view+json": {
       "version_major": 2,
       "version_minor": 0,
       "model_id": "9914d163a0f741ffb2d4b039d19f65bd"
      }
     },
     "metadata": {},
     "output_type": "display_data"
    },
    {
     "name": "stdout",
     "output_type": "stream",
     "text": [
      "Epoch:25,val,Loss:[0.884],prec[17.2100],domain_acc[100.0000]\n",
      "Epoch:26[200/625],Loss:[0.692,0.693],domain loss:[0.000,0.000],label loss:[0.692,0.693],prec[59.3750,49.9062],alpha:0.8657857308026848\n",
      "Epoch:26[400/625],Loss:[0.695,0.693],domain loss:[0.000,0.000],label loss:[0.695,0.693],prec[40.6250,50.6797],alpha:0.8697372953702083\n",
      "Epoch:26[600/625],Loss:[0.698,0.693],domain loss:[0.000,0.000],label loss:[0.698,0.693],prec[40.6250,50.5885],alpha:0.8735804001585066\n"
     ]
    },
    {
     "data": {
      "text/plain": "  0%|          | 0/625 [00:00<?, ?it/s]",
      "application/vnd.jupyter.widget-view+json": {
       "version_major": 2,
       "version_minor": 0,
       "model_id": "998aceeec137468baeea0f227eaeab56"
      }
     },
     "metadata": {},
     "output_type": "display_data"
    },
    {
     "name": "stdout",
     "output_type": "stream",
     "text": [
      "Epoch:26,val,Loss:[0.913],prec[51.3450],domain_acc[100.0000]\n",
      "Epoch:27[200/625],Loss:[0.694,0.693],domain loss:[0.000,0.000],label loss:[0.694,0.693],prec[50.0000,50.2969],alpha:0.8777773827827478\n",
      "Epoch:27[400/625],Loss:[0.693,0.693],domain loss:[0.000,0.000],label loss:[0.693,0.693],prec[50.0000,50.3828],alpha:0.8813983294988619\n",
      "Epoch:27[600/625],Loss:[0.693,0.693],domain loss:[0.000,0.000],label loss:[0.693,0.693],prec[50.0000,50.3958],alpha:0.8849185770210712\n"
     ]
    },
    {
     "data": {
      "text/plain": "  0%|          | 0/625 [00:00<?, ?it/s]",
      "application/vnd.jupyter.widget-view+json": {
       "version_major": 2,
       "version_minor": 0,
       "model_id": "b6e0f45eb19e4594838402c5c2919911"
      }
     },
     "metadata": {},
     "output_type": "display_data"
    },
    {
     "name": "stdout",
     "output_type": "stream",
     "text": [
      "Epoch:27,val,Loss:[0.957],prec[50.4100],domain_acc[100.0000]\n",
      "Epoch:28[200/625],Loss:[0.697,0.694],domain loss:[0.000,0.000],label loss:[0.697,0.694],prec[43.7500,50.6406],alpha:0.8887614939769035\n",
      "Epoch:28[400/625],Loss:[0.693,0.693],domain loss:[0.000,0.000],label loss:[0.693,0.693],prec[53.1250,50.3594],alpha:0.8920757302271085\n",
      "Epoch:28[600/625],Loss:[0.691,0.693],domain loss:[0.000,0.000],label loss:[0.691,0.693],prec[56.2500,50.4375],alpha:0.8952966961127684\n"
     ]
    },
    {
     "data": {
      "text/plain": "  0%|          | 0/625 [00:00<?, ?it/s]",
      "application/vnd.jupyter.widget-view+json": {
       "version_major": 2,
       "version_minor": 0,
       "model_id": "6481388211da4eca9ff520dc8f5d6ad6"
      }
     },
     "metadata": {},
     "output_type": "display_data"
    },
    {
     "name": "stdout",
     "output_type": "stream",
     "text": [
      "Epoch:28,val,Loss:[0.917],prec[51.6050],domain_acc[100.0000]\n",
      "Epoch:29[200/625],Loss:[0.694,0.693],domain loss:[0.000,0.000],label loss:[0.694,0.693],prec[40.6250,51.0625],alpha:0.8988116605231198\n",
      "Epoch:29[400/625],Loss:[0.687,0.693],domain loss:[0.000,0.000],label loss:[0.687,0.693],prec[68.7500,51.1484],alpha:0.90184202390397\n",
      "Epoch:29[600/625],Loss:[0.693,0.693],domain loss:[0.000,0.000],label loss:[0.693,0.693],prec[43.7500,50.4688],alpha:0.9047861853988957\n"
     ]
    },
    {
     "data": {
      "text/plain": "  0%|          | 0/625 [00:00<?, ?it/s]",
      "application/vnd.jupyter.widget-view+json": {
       "version_major": 2,
       "version_minor": 0,
       "model_id": "6f8835db76ed42a4b3c52502d69ac56e"
      }
     },
     "metadata": {},
     "output_type": "display_data"
    },
    {
     "name": "stdout",
     "output_type": "stream",
     "text": [
      "Epoch:29,val,Loss:[0.942],prec[51.0200],domain_acc[100.0000]\n",
      "Epoch:30[200/625],Loss:[0.696,0.693],domain loss:[0.000,0.000],label loss:[0.696,0.693],prec[43.7500,50.6094],alpha:0.9079980449516107\n",
      "Epoch:30[400/625],Loss:[0.697,0.693],domain loss:[0.000,0.000],label loss:[0.697,0.693],prec[43.7500,50.8125],alpha:0.9107662255029345\n",
      "Epoch:30[600/625],Loss:[0.697,0.693],domain loss:[0.000,0.000],label loss:[0.697,0.693],prec[40.6250,50.7812],alpha:0.9134548942150438\n"
     ]
    },
    {
     "data": {
      "text/plain": "  0%|          | 0/625 [00:00<?, ?it/s]",
      "application/vnd.jupyter.widget-view+json": {
       "version_major": 2,
       "version_minor": 0,
       "model_id": "f74dd26cfe034954b459e78b1606af55"
      }
     },
     "metadata": {},
     "output_type": "display_data"
    },
    {
     "name": "stdout",
     "output_type": "stream",
     "text": [
      "Epoch:30,val,Loss:[0.992],prec[50.6300],domain_acc[100.0000]\n",
      "Epoch:31[200/625],Loss:[0.685,0.693],domain loss:[0.000,0.000],label loss:[0.685,0.693],prec[59.3750,52.0625],alpha:0.9163871673619761\n",
      "Epoch:31[400/625],Loss:[0.691,0.693],domain loss:[0.000,0.000],label loss:[0.691,0.693],prec[62.5000,51.3359],alpha:0.9189136607850381\n",
      "Epoch:31[600/625],Loss:[0.698,0.744],domain loss:[0.000,0.035],label loss:[0.698,0.693],prec[37.5000,51.0260],alpha:0.9213669446885957\n"
     ]
    },
    {
     "data": {
      "text/plain": "  0%|          | 0/625 [00:00<?, ?it/s]",
      "application/vnd.jupyter.widget-view+json": {
       "version_major": 2,
       "version_minor": 0,
       "model_id": "c91d67d978e44934bb9d7267189339fb"
      }
     },
     "metadata": {},
     "output_type": "display_data"
    },
    {
     "name": "stdout",
     "output_type": "stream",
     "text": [
      "Epoch:31,val,Loss:[0.693],prec[50.4100],domain_acc[99.5420]\n",
      "Epoch:32[200/625],Loss:[0.690,22.075],domain loss:[0.000,18.519],label loss:[0.690,0.695],prec[59.3750,49.7969],alpha:0.9240417877543237\n",
      "Epoch:32[400/625],Loss:[0.695,11.388],domain loss:[0.000,9.261],label loss:[0.695,0.694],prec[37.5000,50.3359],alpha:0.9263458743768787\n",
      "Epoch:32[600/625],Loss:[0.690,7.825],domain loss:[0.000,6.175],label loss:[0.690,0.694],prec[62.5000,50.3750],alpha:0.9285826639905344\n"
     ]
    },
    {
     "data": {
      "text/plain": "  0%|          | 0/625 [00:00<?, ?it/s]",
      "application/vnd.jupyter.widget-view+json": {
       "version_major": 2,
       "version_minor": 0,
       "model_id": "3962ab3f4248445aa53e2563b038f0d2"
      }
     },
     "metadata": {},
     "output_type": "display_data"
    },
    {
     "name": "stdout",
     "output_type": "stream",
     "text": [
      "Epoch:32,val,Loss:[0.693],prec[50.4100],domain_acc[99.5558]\n",
      "Epoch:33[200/625],Loss:[0.698,0.696],domain loss:[0.000,0.001],label loss:[0.698,0.693],prec[46.8750,50.8594],alpha:0.9310208636620754\n",
      "Epoch:33[400/625],Loss:[0.699,0.696],domain loss:[0.000,0.001],label loss:[0.699,0.693],prec[40.6250,50.7188],alpha:0.9331206084110155\n",
      "Epoch:33[600/625],Loss:[0.710,0.696],domain loss:[0.000,0.001],label loss:[0.691,0.693],prec[59.3750,50.3854],alpha:0.9351585825782751\n"
     ]
    },
    {
     "data": {
      "text/plain": "  0%|          | 0/625 [00:00<?, ?it/s]",
      "application/vnd.jupyter.widget-view+json": {
       "version_major": 2,
       "version_minor": 0,
       "model_id": "38c6a59028bb4d0698ed05508708a2c1"
      }
     },
     "metadata": {},
     "output_type": "display_data"
    },
    {
     "name": "stdout",
     "output_type": "stream",
     "text": [
      "Epoch:33,val,Loss:[0.693],prec[50.4100],domain_acc[99.5687]\n",
      "Epoch:34[200/625],Loss:[0.693,0.696],domain loss:[0.000,0.001],label loss:[0.693,0.693],prec[50.0000,50.4688],alpha:0.9373795688361879\n",
      "Epoch:34[400/625],Loss:[0.713,0.694],domain loss:[0.000,0.001],label loss:[0.713,0.693],prec[28.1250,51.2656],alpha:0.9392918380086868\n",
      "Epoch:34[600/625],Loss:[0.691,0.694],domain loss:[0.000,0.001],label loss:[0.691,0.693],prec[59.3750,50.6094],alpha:0.9411474852428101\n"
     ]
    },
    {
     "data": {
      "text/plain": "  0%|          | 0/625 [00:00<?, ?it/s]",
      "application/vnd.jupyter.widget-view+json": {
       "version_major": 2,
       "version_minor": 0,
       "model_id": "85a0c94dbb984ab4a2ba9a046a206a60"
      }
     },
     "metadata": {},
     "output_type": "display_data"
    },
    {
     "name": "stdout",
     "output_type": "stream",
     "text": [
      "Epoch:34,val,Loss:[0.693],prec[50.4100],domain_acc[99.5810]\n",
      "Epoch:35[200/625],Loss:[0.693,0.694],domain loss:[0.000,0.000],label loss:[0.693,0.693],prec[50.0000,49.5938],alpha:0.943169360394529\n",
      "Epoch:35[400/625],Loss:[0.693,0.694],domain loss:[0.000,0.000],label loss:[0.692,0.693],prec[53.1250,50.1484],alpha:0.9449098515500804\n",
      "Epoch:35[600/625],Loss:[0.691,0.694],domain loss:[0.000,0.000],label loss:[0.691,0.693],prec[53.1250,50.4479],alpha:0.9465985034325499\n"
     ]
    },
    {
     "data": {
      "text/plain": "  0%|          | 0/625 [00:00<?, ?it/s]",
      "application/vnd.jupyter.widget-view+json": {
       "version_major": 2,
       "version_minor": 0,
       "model_id": "c3bad08dcec44388a0e995ddc950076f"
      }
     },
     "metadata": {},
     "output_type": "display_data"
    },
    {
     "name": "stdout",
     "output_type": "stream",
     "text": [
      "Epoch:35,val,Loss:[0.694],prec[50.4100],domain_acc[99.5925]\n",
      "Epoch:36[200/625],Loss:[0.688,0.692],domain loss:[0.000,0.000],label loss:[0.688,0.692],prec[56.2500,52.1250],alpha:0.9484380834943789\n",
      "Epoch:36[400/625],Loss:[0.692,0.693],domain loss:[0.000,0.000],label loss:[0.692,0.693],prec[53.1250,50.9922],alpha:0.9500213653021949\n",
      "Epoch:36[600/625],Loss:[0.694,0.693],domain loss:[0.000,0.000],label loss:[0.694,0.693],prec[46.8750,50.5781],alpha:0.951557238926604\n"
     ]
    },
    {
     "data": {
      "text/plain": "  0%|          | 0/625 [00:00<?, ?it/s]",
      "application/vnd.jupyter.widget-view+json": {
       "version_major": 2,
       "version_minor": 0,
       "model_id": "aaf46ccf751e425cb9e56af59251ca9d"
      }
     },
     "metadata": {},
     "output_type": "display_data"
    },
    {
     "name": "stdout",
     "output_type": "stream",
     "text": [
      "Epoch:36,val,Loss:[0.693],prec[50.4100],domain_acc[99.6035]\n",
      "Epoch:37[200/625],Loss:[0.693,0.697],domain loss:[0.000,0.002],label loss:[0.693,0.693],prec[62.5000,50.9375],alpha:0.9532301041536\n",
      "Epoch:37[400/625],Loss:[0.700,0.695],domain loss:[0.000,0.001],label loss:[0.700,0.693],prec[34.3750,50.5156],alpha:0.954669663508837\n",
      "Epoch:37[600/625],Loss:[0.689,0.694],domain loss:[0.000,0.001],label loss:[0.689,0.693],prec[56.2500,50.8594],alpha:0.9560659104284508\n"
     ]
    },
    {
     "data": {
      "text/plain": "  0%|          | 0/625 [00:00<?, ?it/s]",
      "application/vnd.jupyter.widget-view+json": {
       "version_major": 2,
       "version_minor": 0,
       "model_id": "57102e398d1f47d2b39e6df269405666"
      }
     },
     "metadata": {},
     "output_type": "display_data"
    },
    {
     "name": "stdout",
     "output_type": "stream",
     "text": [
      "Epoch:37,val,Loss:[0.693],prec[50.4100],domain_acc[99.6140]\n",
      "Epoch:38[200/625],Loss:[0.705,0.693],domain loss:[0.000,0.000],label loss:[0.705,0.693],prec[40.6250,48.9531],alpha:0.9575864623003194\n",
      "Epoch:38[400/625],Loss:[0.695,0.693],domain loss:[0.000,0.000],label loss:[0.695,0.693],prec[40.6250,49.9141],alpha:0.9588947564602104\n",
      "Epoch:38[600/625],Loss:[0.693,0.693],domain loss:[0.000,0.000],label loss:[0.693,0.693],prec[50.0000,50.3333],alpha:0.9601635160208666\n"
     ]
    },
    {
     "data": {
      "text/plain": "  0%|          | 0/625 [00:00<?, ?it/s]",
      "application/vnd.jupyter.widget-view+json": {
       "version_major": 2,
       "version_minor": 0,
       "model_id": "7e75dcedd8274de0a8f79b89abfdfa03"
      }
     },
     "metadata": {},
     "output_type": "display_data"
    },
    {
     "name": "stdout",
     "output_type": "stream",
     "text": [
      "Epoch:38,val,Loss:[0.693],prec[50.4100],domain_acc[99.6239]\n",
      "Epoch:39[200/625],Loss:[0.693,0.693],domain loss:[0.000,0.000],label loss:[0.693,0.693],prec[50.0000,51.1406],alpha:0.9615450384509008\n",
      "Epoch:39[400/625],Loss:[0.695,0.693],domain loss:[0.000,0.000],label loss:[0.695,0.693],prec[43.7500,51.0312],alpha:0.9627335503341665\n",
      "Epoch:39[600/625],Loss:[0.694,0.693],domain loss:[0.000,0.000],label loss:[0.694,0.693],prec[46.8750,50.9844],alpha:0.963886005651577\n"
     ]
    },
    {
     "data": {
      "text/plain": "  0%|          | 0/625 [00:00<?, ?it/s]",
      "application/vnd.jupyter.widget-view+json": {
       "version_major": 2,
       "version_minor": 0,
       "model_id": "e01be635ff0a459d8211edc876cc5088"
      }
     },
     "metadata": {},
     "output_type": "display_data"
    },
    {
     "name": "stdout",
     "output_type": "stream",
     "text": [
      "Epoch:39,val,Loss:[0.693],prec[50.4100],domain_acc[99.6333]\n",
      "Epoch:40[200/625],Loss:[0.691,0.693],domain loss:[0.000,0.000],label loss:[0.691,0.693],prec[56.2500,51.3281],alpha:0.9651407285924827\n",
      "Epoch:40[400/625],Loss:[0.692,0.693],domain loss:[0.000,0.000],label loss:[0.692,0.693],prec[53.1250,51.1016],alpha:0.9662200237312486\n",
      "Epoch:40[600/625],Loss:[0.693,0.693],domain loss:[0.000,0.000],label loss:[0.693,0.693],prec[50.0000,50.5938],alpha:0.9672664589029609\n"
     ]
    },
    {
     "data": {
      "text/plain": "  0%|          | 0/625 [00:00<?, ?it/s]",
      "application/vnd.jupyter.widget-view+json": {
       "version_major": 2,
       "version_minor": 0,
       "model_id": "ca10bce70871485f8713ca892f1f83e6"
      }
     },
     "metadata": {},
     "output_type": "display_data"
    },
    {
     "name": "stdout",
     "output_type": "stream",
     "text": [
      "Epoch:40,val,Loss:[0.693],prec[50.4100],domain_acc[99.6422]\n",
      "Epoch:41[200/625],Loss:[0.699,0.693],domain loss:[0.000,0.000],label loss:[0.699,0.693],prec[40.6250,50.0938],alpha:0.9684056228786844\n",
      "Epoch:41[400/625],Loss:[0.693,0.693],domain loss:[0.000,0.000],label loss:[0.693,0.693],prec[53.1250,50.2344],alpha:0.9693854068127776\n",
      "Epoch:41[600/625],Loss:[0.699,0.693],domain loss:[0.000,0.000],label loss:[0.699,0.693],prec[37.5000,50.7188],alpha:0.9703352642417122\n"
     ]
    },
    {
     "data": {
      "text/plain": "  0%|          | 0/625 [00:00<?, ?it/s]",
      "application/vnd.jupyter.widget-view+json": {
       "version_major": 2,
       "version_minor": 0,
       "model_id": "fe64f5f5916f421cabe4b58f37e4cf73"
      }
     },
     "metadata": {},
     "output_type": "display_data"
    },
    {
     "name": "stdout",
     "output_type": "stream",
     "text": [
      "Epoch:41,val,Loss:[0.693],prec[50.4100],domain_acc[99.6507]\n",
      "Epoch:42[200/625],Loss:[0.691,0.693],domain loss:[0.000,0.000],label loss:[0.691,0.693],prec[59.3750,50.2344],alpha:0.9713691846405414\n",
      "Epoch:42[400/625],Loss:[31.839,1.528],domain loss:[31.147,0.691],label loss:[0.691,0.693],prec[56.2500,50.5312],alpha:0.9722583598020222\n",
      "Epoch:42[600/625],Loss:[0.689,6.296],domain loss:[0.000,4.839],label loss:[0.689,0.693],prec[56.2500,50.6875],alpha:0.9731202967535377\n"
     ]
    },
    {
     "data": {
      "text/plain": "  0%|          | 0/625 [00:00<?, ?it/s]",
      "application/vnd.jupyter.widget-view+json": {
       "version_major": 2,
       "version_minor": 0,
       "model_id": "02ecea7dde6043d88a98a62edc23629e"
      }
     },
     "metadata": {},
     "output_type": "display_data"
    },
    {
     "name": "stdout",
     "output_type": "stream",
     "text": [
      "Epoch:42,val,Loss:[0.693],prec[50.4100],domain_acc[99.6588]\n",
      "Epoch:43[200/625],Loss:[0.698,0.693],domain loss:[0.000,0.000],label loss:[0.698,0.693],prec[43.7500,51.6875],alpha:0.9740584269783656\n",
      "Epoch:43[400/625],Loss:[0.695,0.693],domain loss:[0.000,0.000],label loss:[0.695,0.693],prec[37.5000,50.2656],alpha:0.9748651483328992\n",
      "Epoch:43[600/625],Loss:[0.690,0.693],domain loss:[0.000,0.000],label loss:[0.690,0.693],prec[56.2500,50.3385],alpha:0.9756470920543165\n"
     ]
    },
    {
     "data": {
      "text/plain": "  0%|          | 0/625 [00:00<?, ?it/s]",
      "application/vnd.jupyter.widget-view+json": {
       "version_major": 2,
       "version_minor": 0,
       "model_id": "0d2636c6a2494445a7e4ddb3ecceb492"
      }
     },
     "metadata": {},
     "output_type": "display_data"
    },
    {
     "name": "stdout",
     "output_type": "stream",
     "text": [
      "Epoch:43,val,Loss:[0.694],prec[50.4100],domain_acc[99.6666]\n",
      "Epoch:44[200/625],Loss:[0.696,0.693],domain loss:[0.000,0.000],label loss:[0.696,0.693],prec[46.8750,51.5781],alpha:0.9764980848453131\n",
      "Epoch:44[400/625],Loss:[0.687,0.693],domain loss:[0.000,0.000],label loss:[0.687,0.693],prec[62.5000,50.2188],alpha:0.9772298137403739\n",
      "Epoch:44[600/625],Loss:[0.687,0.693],domain loss:[0.000,0.000],label loss:[0.687,0.693],prec[65.6250,50.3125],alpha:0.9779390146448363\n"
     ]
    },
    {
     "data": {
      "text/plain": "  0%|          | 0/625 [00:00<?, ?it/s]",
      "application/vnd.jupyter.widget-view+json": {
       "version_major": 2,
       "version_minor": 0,
       "model_id": "137c62ee2da84d329e599e51ad40cc91"
      }
     },
     "metadata": {},
     "output_type": "display_data"
    },
    {
     "name": "stdout",
     "output_type": "stream",
     "text": [
      "Epoch:44,val,Loss:[0.694],prec[50.4100],domain_acc[99.6740]\n",
      "Epoch:45[200/625],Loss:[0.697,0.693],domain loss:[0.000,0.000],label loss:[0.697,0.693],prec[46.8750,51.4062],alpha:0.9787107810723079\n",
      "Epoch:45[400/625],Loss:[0.692,0.693],domain loss:[0.000,0.000],label loss:[0.692,0.693],prec[56.2500,50.9844],alpha:0.9793743368942611\n",
      "Epoch:45[600/625],Loss:[0.693,0.693],domain loss:[0.000,0.000],label loss:[0.693,0.693],prec[50.0000,50.7917],alpha:0.980017419453663\n"
     ]
    },
    {
     "data": {
      "text/plain": "  0%|          | 0/625 [00:00<?, ?it/s]",
      "application/vnd.jupyter.widget-view+json": {
       "version_major": 2,
       "version_minor": 0,
       "model_id": "48554a8ab97a4f02b201540eed27a22f"
      }
     },
     "metadata": {},
     "output_type": "display_data"
    },
    {
     "name": "stdout",
     "output_type": "stream",
     "text": [
      "Epoch:45,val,Loss:[0.693],prec[50.4100],domain_acc[99.6811]\n",
      "Epoch:46[200/625],Loss:[0.700,0.693],domain loss:[0.000,0.000],label loss:[0.700,0.693],prec[43.7500,51.9688],alpha:0.9807171852291141\n",
      "Epoch:46[400/625],Loss:[0.694,0.693],domain loss:[0.000,0.000],label loss:[0.694,0.693],prec[46.8750,50.9297],alpha:0.9813187945958814\n",
      "Epoch:46[600/625],Loss:[0.693,0.693],domain loss:[0.000,0.000],label loss:[0.693,0.693],prec[53.1250,50.8490],alpha:0.9819018057042852\n"
     ]
    },
    {
     "data": {
      "text/plain": "  0%|          | 0/625 [00:00<?, ?it/s]",
      "application/vnd.jupyter.widget-view+json": {
       "version_major": 2,
       "version_minor": 0,
       "model_id": "9374a94fdb834c869f0833aff6fad677"
      }
     },
     "metadata": {},
     "output_type": "display_data"
    },
    {
     "name": "stdout",
     "output_type": "stream",
     "text": [
      "Epoch:46,val,Loss:[0.693],prec[50.4100],domain_acc[99.6879]\n",
      "Epoch:47[200/625],Loss:[0.696,0.693],domain loss:[0.000,0.000],label loss:[0.696,0.693],prec[34.3750,50.2969],alpha:0.9825361645799322\n",
      "Epoch:47[400/625],Loss:[0.693,0.693],domain loss:[0.000,0.000],label loss:[0.693,0.693],prec[50.0000,50.0078],alpha:0.9830815078969468\n",
      "Epoch:47[600/625],Loss:[0.692,0.693],domain loss:[0.000,0.000],label loss:[0.692,0.693],prec[53.1250,50.6250],alpha:0.9836099625601018\n"
     ]
    },
    {
     "data": {
      "text/plain": "  0%|          | 0/625 [00:00<?, ?it/s]",
      "application/vnd.jupyter.widget-view+json": {
       "version_major": 2,
       "version_minor": 0,
       "model_id": "ee5d099a29a84310b878ddb763df789f"
      }
     },
     "metadata": {},
     "output_type": "display_data"
    },
    {
     "name": "stdout",
     "output_type": "stream",
     "text": [
      "Epoch:47,val,Loss:[0.693],prec[50.4100],domain_acc[99.6944]\n",
      "Epoch:48[200/625],Loss:[0.693,0.693],domain loss:[0.000,0.000],label loss:[0.693,0.693],prec[50.0000,50.7031],alpha:0.9841849266853127\n",
      "Epoch:48[400/625],Loss:[0.694,0.693],domain loss:[0.000,0.000],label loss:[0.694,0.693],prec[43.7500,50.8672],alpha:0.9846791819732785\n",
      "Epoch:48[600/625],Loss:[0.697,0.693],domain loss:[0.000,0.000],label loss:[0.697,0.693],prec[43.7500,51.0000],alpha:0.9851581062548682\n"
     ]
    },
    {
     "data": {
      "text/plain": "  0%|          | 0/625 [00:00<?, ?it/s]",
      "application/vnd.jupyter.widget-view+json": {
       "version_major": 2,
       "version_minor": 0,
       "model_id": "86461a09bd2449cb8006282d18fd4fa8"
      }
     },
     "metadata": {},
     "output_type": "display_data"
    },
    {
     "name": "stdout",
     "output_type": "stream",
     "text": [
      "Epoch:48,val,Loss:[0.693],prec[50.4100],domain_acc[99.7006]\n",
      "Epoch:49[200/625],Loss:[0.685,0.693],domain loss:[0.000,0.000],label loss:[0.685,0.693],prec[75.0000,50.4688],alpha:0.9856791534358604\n",
      "Epoch:49[400/625],Loss:[0.692,0.693],domain loss:[0.000,0.000],label loss:[0.692,0.693],prec[53.1250,51.0156],alpha:0.9861270374025659\n",
      "Epoch:49[600/625],Loss:[0.693,0.693],domain loss:[0.000,0.000],label loss:[0.693,0.693],prec[62.5000,50.4792],alpha:0.9865610086166827\n"
     ]
    },
    {
     "data": {
      "text/plain": "  0%|          | 0/625 [00:00<?, ?it/s]",
      "application/vnd.jupyter.widget-view+json": {
       "version_major": 2,
       "version_minor": 0,
       "model_id": "3a0a0f8e6fb54f588c332415a0153d01"
      }
     },
     "metadata": {},
     "output_type": "display_data"
    },
    {
     "name": "stdout",
     "output_type": "stream",
     "text": [
      "Epoch:49,val,Loss:[0.693],prec[50.4100],domain_acc[99.7066]\n",
      "Epoch:50[200/625],Loss:[0.699,0.693],domain loss:[0.000,0.000],label loss:[0.699,0.693],prec[40.6250,50.8438],alpha:0.9870331264865702\n",
      "Epoch:50[400/625],Loss:[0.691,0.693],domain loss:[0.000,0.000],label loss:[0.691,0.693],prec[53.1250,51.2812],alpha:0.9874389328644344\n",
      "Epoch:50[600/625],Loss:[0.693,0.693],domain loss:[0.000,0.000],label loss:[0.693,0.693],prec[56.2500,50.4375],alpha:0.987832117049158\n"
     ]
    },
    {
     "data": {
      "text/plain": "  0%|          | 0/625 [00:00<?, ?it/s]",
      "application/vnd.jupyter.widget-view+json": {
       "version_major": 2,
       "version_minor": 0,
       "model_id": "72093003788344fdab72b183f1c864a9"
      }
     },
     "metadata": {},
     "output_type": "display_data"
    },
    {
     "name": "stdout",
     "output_type": "stream",
     "text": [
      "Epoch:50,val,Loss:[0.693],prec[50.4100],domain_acc[99.7124]\n",
      "Epoch:51[200/625],Loss:[0.690,0.693],domain loss:[0.000,0.000],label loss:[0.690,0.693],prec[59.3750,51.1562],alpha:0.9882598442019548\n",
      "Epoch:51[400/625],Loss:[0.692,0.693],domain loss:[0.000,0.000],label loss:[0.692,0.693],prec[56.2500,51.0859],alpha:0.9886274794105359\n",
      "Epoch:51[600/625],Loss:[0.695,0.693],domain loss:[0.000,0.000],label loss:[0.695,0.693],prec[40.6250,51.0365],alpha:0.9889836661517206\n"
     ]
    },
    {
     "data": {
      "text/plain": "  0%|          | 0/625 [00:00<?, ?it/s]",
      "application/vnd.jupyter.widget-view+json": {
       "version_major": 2,
       "version_minor": 0,
       "model_id": "91deee931dea4873937d74840c6e0c2e"
      }
     },
     "metadata": {},
     "output_type": "display_data"
    },
    {
     "name": "stdout",
     "output_type": "stream",
     "text": [
      "Epoch:51,val,Loss:[0.693],prec[50.4100],domain_acc[99.7179]\n",
      "Epoch:52[200/625],Loss:[0.689,0.693],domain loss:[0.000,0.000],label loss:[0.689,0.693],prec[56.2500,51.5938],alpha:0.9893711303286652\n",
      "Epoch:52[400/625],Loss:[0.693,0.693],domain loss:[0.000,0.000],label loss:[0.693,0.693],prec[53.1250,51.1484],alpha:0.9897041465491687\n",
      "Epoch:52[600/625],Loss:[0.692,0.693],domain loss:[0.000,0.000],label loss:[0.692,0.693],prec[53.1250,50.9740],alpha:0.990026781248601\n"
     ]
    },
    {
     "data": {
      "text/plain": "  0%|          | 0/625 [00:00<?, ?it/s]",
      "application/vnd.jupyter.widget-view+json": {
       "version_major": 2,
       "version_minor": 0,
       "model_id": "0842e2fee22942baa2a3dade66f8697a"
      }
     },
     "metadata": {},
     "output_type": "display_data"
    },
    {
     "name": "stdout",
     "output_type": "stream",
     "text": [
      "Epoch:52,val,Loss:[0.693],prec[50.4100],domain_acc[99.7232]\n",
      "Epoch:53[200/625],Loss:[0.694,0.693],domain loss:[0.000,0.000],label loss:[0.694,0.693],prec[43.7500,50.6250],alpha:0.9903777346903249\n",
      "Epoch:53[400/625],Loss:[0.691,0.693],domain loss:[0.000,0.000],label loss:[0.691,0.693],prec[59.3750,50.7188],alpha:0.9906793604589783\n",
      "Epoch:53[600/625],Loss:[0.702,0.693],domain loss:[0.000,0.000],label loss:[0.702,0.693],prec[34.3750,50.9792],alpha:0.990971574158706\n"
     ]
    },
    {
     "data": {
      "text/plain": "  0%|          | 0/625 [00:00<?, ?it/s]",
      "application/vnd.jupyter.widget-view+json": {
       "version_major": 2,
       "version_minor": 0,
       "model_id": "3feaf3c1855b4cc68601417fa75ecb24"
      }
     },
     "metadata": {},
     "output_type": "display_data"
    },
    {
     "name": "stdout",
     "output_type": "stream",
     "text": [
      "Epoch:53,val,Loss:[0.693],prec[50.4100],domain_acc[99.7283]\n",
      "Epoch:54[200/625],Loss:[0.696,0.693],domain loss:[0.000,0.000],label loss:[0.696,0.693],prec[40.6250,49.5469],alpha:0.9912894262541458\n",
      "Epoch:54[400/625],Loss:[0.694,0.693],domain loss:[0.000,0.000],label loss:[0.694,0.693],prec[50.0000,50.3906],alpha:0.99156259469473\n",
      "Epoch:54[600/625],Loss:[0.696,0.693],domain loss:[0.000,0.000],label loss:[0.696,0.693],prec[43.7500,50.6562],alpha:0.991827231581002\n"
     ]
    },
    {
     "data": {
      "text/plain": "  0%|          | 0/625 [00:00<?, ?it/s]",
      "application/vnd.jupyter.widget-view+json": {
       "version_major": 2,
       "version_minor": 0,
       "model_id": "d558c130c6e64289955dfbe0e750e980"
      }
     },
     "metadata": {},
     "output_type": "display_data"
    },
    {
     "name": "stdout",
     "output_type": "stream",
     "text": [
      "Epoch:54,val,Loss:[0.693],prec[50.4100],domain_acc[99.7333]\n",
      "Epoch:55[200/625],Loss:[0.690,0.693],domain loss:[0.000,0.000],label loss:[0.690,0.693],prec[56.2500,51.2031],alpha:0.9921150789551008\n",
      "Epoch:55[400/625],Loss:[0.693,0.693],domain loss:[0.000,0.000],label loss:[0.693,0.693],prec[46.8750,50.6641],alpha:0.9923624537792108\n",
      "Epoch:55[600/625],Loss:[0.692,0.693],domain loss:[0.000,0.000],label loss:[0.692,0.693],prec[56.2500,50.8073],alpha:0.9926020964963598\n"
     ]
    },
    {
     "data": {
      "text/plain": "  0%|          | 0/625 [00:00<?, ?it/s]",
      "application/vnd.jupyter.widget-view+json": {
       "version_major": 2,
       "version_minor": 0,
       "model_id": "453d38b0f6b04e71b769e132225795e9"
      }
     },
     "metadata": {},
     "output_type": "display_data"
    },
    {
     "name": "stdout",
     "output_type": "stream",
     "text": [
      "Epoch:55,val,Loss:[0.693],prec[50.4100],domain_acc[99.7380]\n",
      "Epoch:56[200/625],Loss:[0.696,0.693],domain loss:[0.000,0.000],label loss:[0.696,0.693],prec[40.6250,50.8594],alpha:0.992862750684784\n",
      "Epoch:56[400/625],Loss:[0.699,0.693],domain loss:[0.000,0.000],label loss:[0.699,0.693],prec[40.6250,50.3281],alpha:0.9930867500926446\n",
      "Epoch:56[600/625],Loss:[0.698,0.693],domain loss:[0.000,0.000],label loss:[0.698,0.693],prec[43.7500,50.6875],alpha:0.9933037430003746\n"
     ]
    },
    {
     "data": {
      "text/plain": "  0%|          | 0/625 [00:00<?, ?it/s]",
      "application/vnd.jupyter.widget-view+json": {
       "version_major": 2,
       "version_minor": 0,
       "model_id": "f3ff1c88c872426aaac812b0a83bcdd7"
      }
     },
     "metadata": {},
     "output_type": "display_data"
    },
    {
     "name": "stdout",
     "output_type": "stream",
     "text": [
      "Epoch:56,val,Loss:[0.693],prec[50.4100],domain_acc[99.7426]\n",
      "Epoch:57[200/625],Loss:[0.691,0.693],domain loss:[0.000,0.000],label loss:[0.691,0.693],prec[59.3750,50.8125],alpha:0.9935397558618257\n",
      "Epoch:57[400/625],Loss:[0.694,0.693],domain loss:[0.000,0.000],label loss:[0.694,0.693],prec[50.0000,50.9844],alpha:0.9937425744775579\n",
      "Epoch:57[600/625],Loss:[0.690,0.693],domain loss:[0.000,0.000],label loss:[0.690,0.693],prec[56.2500,50.9792],alpha:0.9939390449853602\n"
     ]
    },
    {
     "data": {
      "text/plain": "  0%|          | 0/625 [00:00<?, ?it/s]",
      "application/vnd.jupyter.widget-view+json": {
       "version_major": 2,
       "version_minor": 0,
       "model_id": "414f1c9e816048d79f9d4c158510fce5"
      }
     },
     "metadata": {},
     "output_type": "display_data"
    },
    {
     "name": "stdout",
     "output_type": "stream",
     "text": [
      "Epoch:57,val,Loss:[0.693],prec[50.4100],domain_acc[99.7471]\n",
      "Epoch:58[200/625],Loss:[0.691,0.693],domain loss:[0.000,0.000],label loss:[0.691,0.693],prec[56.2500,50.9844],alpha:0.9941527320013903\n",
      "Epoch:58[400/625],Loss:[0.693,0.693],domain loss:[0.000,0.000],label loss:[0.693,0.693],prec[50.0000,51.1016],alpha:0.9943363609753142\n",
      "Epoch:58[600/625],Loss:[0.687,0.693],domain loss:[0.000,0.000],label loss:[0.687,0.693],prec[68.7500,51.0104],alpha:0.9945142390857507\n"
     ]
    },
    {
     "data": {
      "text/plain": "  0%|          | 0/625 [00:00<?, ?it/s]",
      "application/vnd.jupyter.widget-view+json": {
       "version_major": 2,
       "version_minor": 0,
       "model_id": "c51fc8af2cb54dcf8ab77e5fae00cae2"
      }
     },
     "metadata": {},
     "output_type": "display_data"
    },
    {
     "name": "stdout",
     "output_type": "stream",
     "text": [
      "Epoch:58,val,Loss:[0.693],prec[50.4100],domain_acc[99.7514]\n",
      "Epoch:59[200/625],Loss:[0.699,0.693],domain loss:[0.000,0.000],label loss:[0.699,0.693],prec[43.7500,51.2656],alpha:0.9947077006950968\n",
      "Epoch:59[400/625],Loss:[0.692,0.693],domain loss:[0.000,0.000],label loss:[0.692,0.693],prec[53.1250,50.8984],alpha:0.9948739461025184\n",
      "Epoch:59[600/625],Loss:[0.694,0.693],domain loss:[0.000,0.000],label loss:[0.694,0.693],prec[40.6250,50.9062],alpha:0.9950349822915197\n"
     ]
    },
    {
     "data": {
      "text/plain": "  0%|          | 0/625 [00:00<?, ?it/s]",
      "application/vnd.jupyter.widget-view+json": {
       "version_major": 2,
       "version_minor": 0,
       "model_id": "7c71995719184932906b9a46074b4139"
      }
     },
     "metadata": {},
     "output_type": "display_data"
    },
    {
     "name": "stdout",
     "output_type": "stream",
     "text": [
      "Epoch:59,val,Loss:[0.693],prec[50.4100],domain_acc[99.7555]\n",
      "Epoch:60[200/625],Loss:[0.684,0.693],domain loss:[0.000,0.000],label loss:[0.684,0.693],prec[62.5000,51.5000],alpha:0.995210123401417\n",
      "Epoch:60[400/625],Loss:[0.695,0.693],domain loss:[0.000,0.000],label loss:[0.695,0.693],prec[43.7500,50.8672],alpha:0.9953606230628813\n",
      "Epoch:60[600/625],Loss:[0.698,0.693],domain loss:[0.000,0.000],label loss:[0.698,0.693],prec[40.6250,50.9635],alpha:0.9955064046204105\n"
     ]
    },
    {
     "data": {
      "text/plain": "  0%|          | 0/625 [00:00<?, ?it/s]",
      "application/vnd.jupyter.widget-view+json": {
       "version_major": 2,
       "version_minor": 0,
       "model_id": "13a37b04293449f48b58027d14b01b45"
      }
     },
     "metadata": {},
     "output_type": "display_data"
    },
    {
     "name": "stdout",
     "output_type": "stream",
     "text": [
      "Epoch:60,val,Loss:[0.693],prec[50.4100],domain_acc[99.7595]\n",
      "Epoch:61[200/625],Loss:[0.697,0.693],domain loss:[0.000,0.000],label loss:[0.697,0.693],prec[40.6250,50.7188],alpha:0.9956649524315859\n",
      "Epoch:61[400/625],Loss:[0.693,0.693],domain loss:[0.000,0.000],label loss:[0.693,0.693],prec[46.8750,50.2891],alpha:0.9958011912742082\n",
      "Epoch:61[600/625],Loss:[0.685,0.693],domain loss:[0.000,0.000],label loss:[0.685,0.693],prec[62.5000,50.8281],alpha:0.9959331572230312\n"
     ]
    },
    {
     "data": {
      "text/plain": "  0%|          | 0/625 [00:00<?, ?it/s]",
      "application/vnd.jupyter.widget-view+json": {
       "version_major": 2,
       "version_minor": 0,
       "model_id": "2df294ef9ea749afb27bd30e900d0555"
      }
     },
     "metadata": {},
     "output_type": "display_data"
    },
    {
     "name": "stdout",
     "output_type": "stream",
     "text": [
      "Epoch:61,val,Loss:[0.693],prec[50.4100],domain_acc[99.7634]\n",
      "Epoch:62[200/625],Loss:[0.686,0.693],domain loss:[0.000,0.000],label loss:[0.686,0.693],prec[65.6250,51.0000],alpha:0.9960766774985441\n",
      "Epoch:62[400/625],Loss:[0.699,0.693],domain loss:[0.000,0.000],label loss:[0.699,0.693],prec[37.5000,50.8984],alpha:0.9962000015720307\n",
      "Epoch:62[600/625],Loss:[0.693,0.693],domain loss:[0.000,0.000],label loss:[0.693,0.693],prec[50.0000,51.0365],alpha:0.9963194562761988\n"
     ]
    },
    {
     "data": {
      "text/plain": "  0%|          | 0/625 [00:00<?, ?it/s]",
      "application/vnd.jupyter.widget-view+json": {
       "version_major": 2,
       "version_minor": 0,
       "model_id": "f5178157f92b488cb4c991e6cffc34b4"
      }
     },
     "metadata": {},
     "output_type": "display_data"
    },
    {
     "name": "stdout",
     "output_type": "stream",
     "text": [
      "Epoch:62,val,Loss:[0.693],prec[50.4100],domain_acc[99.7672]\n",
      "Epoch:63[200/625],Loss:[0.694,0.693],domain loss:[0.000,0.000],label loss:[0.694,0.693],prec[40.6250,49.1094],alpha:0.9964493681772524\n",
      "Epoch:63[400/625],Loss:[0.687,0.693],domain loss:[0.000,0.000],label loss:[0.687,0.693],prec[71.8750,50.1172],alpha:0.9965609974318614\n",
      "Epoch:63[600/625],Loss:[0.702,0.693],domain loss:[0.000,0.000],label loss:[0.702,0.693],prec[37.5000,50.7500],alpha:0.9966691230000799\n"
     ]
    },
    {
     "data": {
      "text/plain": "  0%|          | 0/625 [00:00<?, ?it/s]",
      "application/vnd.jupyter.widget-view+json": {
       "version_major": 2,
       "version_minor": 0,
       "model_id": "ae9c1ac7cda244d984d7d2899d0aeccc"
      }
     },
     "metadata": {},
     "output_type": "display_data"
    },
    {
     "name": "stdout",
     "output_type": "stream",
     "text": [
      "Epoch:63,val,Loss:[0.693],prec[50.4100],domain_acc[99.7708]\n",
      "Epoch:64[200/625],Loss:[0.701,0.693],domain loss:[0.000,0.000],label loss:[0.701,0.693],prec[40.6250,51.2812],alpha:0.9967867126046208\n",
      "Epoch:64[400/625],Loss:[0.692,0.693],domain loss:[0.000,0.000],label loss:[0.692,0.693],prec[53.1250,51.2578],alpha:0.9968877525317827\n",
      "Epoch:64[600/625],Loss:[0.694,0.693],domain loss:[0.000,0.000],label loss:[0.694,0.693],prec[46.8750,51.0000],alpha:0.9969856201142824\n"
     ]
    },
    {
     "data": {
      "text/plain": "  0%|          | 0/625 [00:00<?, ?it/s]",
      "application/vnd.jupyter.widget-view+json": {
       "version_major": 2,
       "version_minor": 0,
       "model_id": "570a9fb025ad416cbaa1bbfd0a6e42f3"
      }
     },
     "metadata": {},
     "output_type": "display_data"
    },
    {
     "name": "stdout",
     "output_type": "stream",
     "text": [
      "Epoch:64,val,Loss:[0.693],prec[50.4100],domain_acc[99.7743]\n",
      "Epoch:65[200/625],Loss:[0.683,0.693],domain loss:[0.000,0.000],label loss:[0.683,0.693],prec[71.8750,50.9531],alpha:0.997092052726829\n",
      "Epoch:65[400/625],Loss:[0.694,0.693],domain loss:[0.000,0.000],label loss:[0.694,0.693],prec[50.0000,50.9766],alpha:0.9971835049565982\n",
      "Epoch:65[600/625],Loss:[0.696,0.693],domain loss:[0.000,0.000],label loss:[0.696,0.693],prec[43.7500,50.8490],alpha:0.9972720850276031\n"
     ]
    },
    {
     "data": {
      "text/plain": "  0%|          | 0/625 [00:00<?, ?it/s]",
      "application/vnd.jupyter.widget-view+json": {
       "version_major": 2,
       "version_minor": 0,
       "model_id": "e3140f37aa7749eea949544b671b5c88"
      }
     },
     "metadata": {},
     "output_type": "display_data"
    },
    {
     "name": "stdout",
     "output_type": "stream",
     "text": [
      "Epoch:65,val,Loss:[0.693],prec[50.4100],domain_acc[99.7777]\n",
      "Epoch:66[200/625],Loss:[0.698,0.693],domain loss:[0.000,0.000],label loss:[0.698,0.693],prec[37.5000,50.7500],alpha:0.9973684163814251\n",
      "Epoch:66[400/625],Loss:[0.690,0.693],domain loss:[0.000,0.000],label loss:[0.690,0.693],prec[56.2500,51.2031],alpha:0.9974511883244686\n",
      "Epoch:66[600/625],Loss:[0.698,0.693],domain loss:[0.000,0.000],label loss:[0.698,0.693],prec[34.3750,50.9792],alpha:0.9975313600359259\n"
     ]
    },
    {
     "data": {
      "text/plain": "  0%|          | 0/625 [00:00<?, ?it/s]",
      "application/vnd.jupyter.widget-view+json": {
       "version_major": 2,
       "version_minor": 0,
       "model_id": "d7bfd0cf918046c0927080ffbe546715"
      }
     },
     "metadata": {},
     "output_type": "display_data"
    },
    {
     "name": "stdout",
     "output_type": "stream",
     "text": [
      "Epoch:66,val,Loss:[0.693],prec[50.4100],domain_acc[99.7811]\n",
      "Epoch:67[200/625],Loss:[0.693,0.693],domain loss:[0.000,0.000],label loss:[0.693,0.693],prec[50.0000,51.0781],alpha:0.9976185464815546\n",
      "Epoch:67[400/625],Loss:[0.695,0.693],domain loss:[0.000,0.000],label loss:[0.695,0.693],prec[43.7500,51.0781],alpha:0.9976934600970955\n",
      "Epoch:67[600/625],Loss:[0.695,0.693],domain loss:[0.000,0.000],label loss:[0.695,0.693],prec[46.8750,51.0365],alpha:0.9977660197831255\n"
     ]
    },
    {
     "data": {
      "text/plain": "  0%|          | 0/625 [00:00<?, ?it/s]",
      "application/vnd.jupyter.widget-view+json": {
       "version_major": 2,
       "version_minor": 0,
       "model_id": "b4119d3468fa4caa95425ce27c9f3980"
      }
     },
     "metadata": {},
     "output_type": "display_data"
    },
    {
     "name": "stdout",
     "output_type": "stream",
     "text": [
      "Epoch:67,val,Loss:[0.693],prec[50.4100],domain_acc[99.7843]\n",
      "Epoch:68[200/625],Loss:[0.692,0.693],domain loss:[0.000,0.000],label loss:[0.692,0.693],prec[53.1250,50.7031],alpha:0.9978449275502639\n",
      "Epoch:68[400/625],Loss:[0.698,0.693],domain loss:[0.000,0.000],label loss:[0.698,0.693],prec[40.6250,51.0234],alpha:0.9979127273153512\n",
      "Epoch:68[600/625],Loss:[0.692,0.693],domain loss:[0.000,0.000],label loss:[0.692,0.693],prec[53.1250,51.0208],alpha:0.9979783962209063\n"
     ]
    },
    {
     "data": {
      "text/plain": "  0%|          | 0/625 [00:00<?, ?it/s]",
      "application/vnd.jupyter.widget-view+json": {
       "version_major": 2,
       "version_minor": 0,
       "model_id": "93c7adc781004c668eebb83d81e63f1f"
      }
     },
     "metadata": {},
     "output_type": "display_data"
    },
    {
     "name": "stdout",
     "output_type": "stream",
     "text": [
      "Epoch:68,val,Loss:[0.693],prec[50.4100],domain_acc[99.7874]\n",
      "Epoch:69[200/625],Loss:[0.694,0.693],domain loss:[0.000,0.000],label loss:[0.694,0.693],prec[46.8750,50.6719],alpha:0.9980498098341986\n",
      "Epoch:69[400/625],Loss:[0.693,0.693],domain loss:[0.000,0.000],label loss:[0.693,0.693],prec[53.1250,50.5781],alpha:0.9981111699838889\n",
      "Epoch:69[600/625],Loss:[0.687,0.693],domain loss:[0.000,0.000],label loss:[0.687,0.693],prec[59.3750,50.8385],alpha:0.9981706012854239\n"
     ]
    },
    {
     "data": {
      "text/plain": "  0%|          | 0/625 [00:00<?, ?it/s]",
      "application/vnd.jupyter.widget-view+json": {
       "version_major": 2,
       "version_minor": 0,
       "model_id": "18fc4db618a14ccda512befac08f72af"
      }
     },
     "metadata": {},
     "output_type": "display_data"
    },
    {
     "name": "stdout",
     "output_type": "stream",
     "text": [
      "Epoch:69,val,Loss:[0.693],prec[50.4100],domain_acc[99.7904]\n",
      "Epoch:70[200/625],Loss:[0.694,0.693],domain loss:[0.000,0.000],label loss:[0.694,0.693],prec[43.7500,50.2812],alpha:0.9982352312082727\n",
      "Epoch:70[400/625],Loss:[0.696,0.693],domain loss:[0.000,0.000],label loss:[0.696,0.693],prec[46.8750,51.1172],alpha:0.9982907623108446\n",
      "Epoch:70[600/625],Loss:[0.694,0.693],domain loss:[0.000,0.000],label loss:[0.694,0.693],prec[46.8750,51.0312],alpha:0.9983445474914285\n"
     ]
    },
    {
     "data": {
      "text/plain": "  0%|          | 0/625 [00:00<?, ?it/s]",
      "application/vnd.jupyter.widget-view+json": {
       "version_major": 2,
       "version_minor": 0,
       "model_id": "46b7c9b4cb6547c197201d8b8595d296"
      }
     },
     "metadata": {},
     "output_type": "display_data"
    },
    {
     "name": "stdout",
     "output_type": "stream",
     "text": [
      "Epoch:70,val,Loss:[0.693],prec[50.4100],domain_acc[99.7934]\n",
      "Epoch:71[200/625],Loss:[0.689,0.693],domain loss:[0.000,0.000],label loss:[0.689,0.693],prec[62.5000,50.8125],alpha:0.9984030370661214\n",
      "Epoch:71[400/625],Loss:[0.696,0.693],domain loss:[0.000,0.000],label loss:[0.696,0.693],prec[40.6250,50.9375],alpha:0.9984532919922742\n",
      "Epoch:71[600/625],Loss:[0.697,0.693],domain loss:[0.000,0.000],label loss:[0.697,0.693],prec[43.7500,51.0156],alpha:0.9985019666285204\n"
     ]
    },
    {
     "data": {
      "text/plain": "  0%|          | 0/625 [00:00<?, ?it/s]",
      "application/vnd.jupyter.widget-view+json": {
       "version_major": 2,
       "version_minor": 0,
       "model_id": "3e287d1c6e8a4f999893f79ab5101e6b"
      }
     },
     "metadata": {},
     "output_type": "display_data"
    },
    {
     "name": "stdout",
     "output_type": "stream",
     "text": [
      "Epoch:71,val,Loss:[0.693],prec[50.4100],domain_acc[99.7963]\n",
      "Epoch:72[200/625],Loss:[0.698,0.693],domain loss:[0.000,0.000],label loss:[0.698,0.693],prec[40.6250,51.0938],alpha:0.9985548983753569\n",
      "Epoch:72[400/625],Loss:[0.690,0.693],domain loss:[0.000,0.000],label loss:[0.690,0.693],prec[59.3750,50.5625],alpha:0.9986003777155226\n",
      "Epoch:72[600/625],Loss:[0.692,0.693],domain loss:[0.000,0.000],label loss:[0.692,0.693],prec[53.1250,50.8385],alpha:0.9986444267289765\n"
     ]
    },
    {
     "data": {
      "text/plain": "  0%|          | 0/625 [00:00<?, ?it/s]",
      "application/vnd.jupyter.widget-view+json": {
       "version_major": 2,
       "version_minor": 0,
       "model_id": "65b26c07fabe4e4cba503272452dc5ce"
      }
     },
     "metadata": {},
     "output_type": "display_data"
    },
    {
     "name": "stdout",
     "output_type": "stream",
     "text": [
      "Epoch:72,val,Loss:[0.693],prec[50.4100],domain_acc[99.7990]\n",
      "Epoch:73[200/625],Loss:[0.691,0.693],domain loss:[0.000,0.000],label loss:[0.691,0.693],prec[56.2500,51.0156],alpha:0.9986923280618965\n",
      "Epoch:73[400/625],Loss:[0.690,0.693],domain loss:[0.000,0.000],label loss:[0.690,0.693],prec[59.3750,51.0625],alpha:0.9987334850412664\n",
      "Epoch:73[600/625],Loss:[0.696,0.693],domain loss:[0.000,0.000],label loss:[0.696,0.693],prec[40.6250,51.0208],alpha:0.9987733474624905\n"
     ]
    },
    {
     "data": {
      "text/plain": "  0%|          | 0/625 [00:00<?, ?it/s]",
      "application/vnd.jupyter.widget-view+json": {
       "version_major": 2,
       "version_minor": 0,
       "model_id": "09a9b877c25d4dd8a84c006b5391398f"
      }
     },
     "metadata": {},
     "output_type": "display_data"
    },
    {
     "name": "stdout",
     "output_type": "stream",
     "text": [
      "Epoch:73,val,Loss:[0.693],prec[50.4100],domain_acc[99.8018]\n",
      "Epoch:74[200/625],Loss:[0.693,0.693],domain loss:[0.000,0.000],label loss:[0.693,0.693],prec[43.7500,49.6562],alpha:0.9988166958738547\n",
      "Epoch:74[400/625],Loss:[0.688,0.693],domain loss:[0.000,0.000],label loss:[0.688,0.693],prec[59.3750,50.3984],alpha:0.9988539408105392\n",
      "Epoch:74[600/625],Loss:[0.696,0.693],domain loss:[0.000,0.000],label loss:[0.696,0.693],prec[46.8750,50.9740],alpha:0.9988900141000159\n"
     ]
    },
    {
     "data": {
      "text/plain": "  0%|          | 0/625 [00:00<?, ?it/s]",
      "application/vnd.jupyter.widget-view+json": {
       "version_major": 2,
       "version_minor": 0,
       "model_id": "3a6fb8093c044bb1b8f131a9bfbe1cf0"
      }
     },
     "metadata": {},
     "output_type": "display_data"
    },
    {
     "name": "stdout",
     "output_type": "stream",
     "text": [
      "Epoch:74,val,Loss:[0.693],prec[50.4100],domain_acc[99.8044]\n",
      "Epoch:75[200/625],Loss:[0.698,0.693],domain loss:[0.000,0.000],label loss:[0.698,0.693],prec[37.5000,51.2031],alpha:0.998929241862704\n",
      "Epoch:75[400/625],Loss:[0.694,0.693],domain loss:[0.000,0.000],label loss:[0.694,0.693],prec[46.8750,50.7500],alpha:0.9989629462105367\n",
      "Epoch:75[600/625],Loss:[0.691,0.693],domain loss:[0.000,0.000],label loss:[0.691,0.693],prec[56.2500,50.8906],alpha:0.9989955901767371\n"
     ]
    },
    {
     "data": {
      "text/plain": "  0%|          | 0/625 [00:00<?, ?it/s]",
      "application/vnd.jupyter.widget-view+json": {
       "version_major": 2,
       "version_minor": 0,
       "model_id": "7e5fcae80085455baa4703c0d763d6d9"
      }
     },
     "metadata": {},
     "output_type": "display_data"
    },
    {
     "name": "stdout",
     "output_type": "stream",
     "text": [
      "Epoch:75,val,Loss:[0.693],prec[50.4100],domain_acc[99.8070]\n",
      "Epoch:76[200/625],Loss:[0.695,0.693],domain loss:[0.000,0.000],label loss:[0.695,0.693],prec[43.7500,50.5781],alpha:0.999031088607558\n",
      "Epoch:76[400/625],Loss:[0.691,0.693],domain loss:[0.000,0.000],label loss:[0.691,0.693],prec[59.3750,50.7266],alpha:0.9990615886214704\n",
      "Epoch:76[600/625],Loss:[0.687,0.693],domain loss:[0.000,0.000],label loss:[0.687,0.693],prec[62.5000,50.9531],alpha:0.9990911289729083\n"
     ]
    },
    {
     "data": {
      "text/plain": "  0%|          | 0/625 [00:00<?, ?it/s]",
      "application/vnd.jupyter.widget-view+json": {
       "version_major": 2,
       "version_minor": 0,
       "model_id": "018dfa6b5c8c459f9ef58faa0960b4b5"
      }
     },
     "metadata": {},
     "output_type": "display_data"
    },
    {
     "name": "stdout",
     "output_type": "stream",
     "text": [
      "Epoch:76,val,Loss:[0.693],prec[50.4100],domain_acc[99.8095]\n",
      "Epoch:77[200/625],Loss:[0.688,0.692],domain loss:[0.000,0.000],label loss:[0.688,0.692],prec[56.2500,51.9219],alpha:0.9991232522974864\n",
      "Epoch:77[400/625],Loss:[0.692,0.693],domain loss:[0.000,0.000],label loss:[0.692,0.693],prec[53.1250,51.5625],alpha:0.999150852356053\n",
      "Epoch:77[600/625],Loss:[0.696,0.693],domain loss:[0.000,0.000],label loss:[0.696,0.693],prec[37.5000,51.1875],alpha:0.9991775839209238\n"
     ]
    },
    {
     "data": {
      "text/plain": "  0%|          | 0/625 [00:00<?, ?it/s]",
      "application/vnd.jupyter.widget-view+json": {
       "version_major": 2,
       "version_minor": 0,
       "model_id": "4d666c7442c245308bc826990966cdb2"
      }
     },
     "metadata": {},
     "output_type": "display_data"
    },
    {
     "name": "stdout",
     "output_type": "stream",
     "text": [
      "Epoch:77,val,Loss:[0.693],prec[49.5900],domain_acc[99.8119]\n",
      "Epoch:78[200/625],Loss:[0.690,0.693],domain loss:[0.000,0.000],label loss:[0.690,0.693],prec[56.2500,51.0469],alpha:0.999206652776691\n",
      "Epoch:78[400/625],Loss:[0.689,0.693],domain loss:[0.000,0.000],label loss:[0.689,0.693],prec[62.5000,50.9922],alpha:0.999231628393386\n",
      "Epoch:78[600/625],Loss:[0.695,0.693],domain loss:[0.000,0.000],label loss:[0.695,0.693],prec[40.6250,50.7812],alpha:0.9992558180374127\n"
     ]
    },
    {
     "data": {
      "text/plain": "  0%|          | 0/625 [00:00<?, ?it/s]",
      "application/vnd.jupyter.widget-view+json": {
       "version_major": 2,
       "version_minor": 0,
       "model_id": "5181d50cf33043568aec31b64772982c"
      }
     },
     "metadata": {},
     "output_type": "display_data"
    },
    {
     "name": "stdout",
     "output_type": "stream",
     "text": [
      "Epoch:78,val,Loss:[0.693],prec[50.4100],domain_acc[99.8143]\n",
      "Epoch:79[200/625],Loss:[0.692,0.693],domain loss:[0.000,0.000],label loss:[0.692,0.693],prec[56.2500,50.9844],alpha:0.9992821226480726\n",
      "Epoch:79[400/625],Loss:[0.690,0.693],domain loss:[0.000,0.000],label loss:[0.690,0.693],prec[65.6250,50.7734],alpha:0.999304723199981\n",
      "Epoch:79[600/625],Loss:[0.701,0.693],domain loss:[0.000,0.000],label loss:[0.701,0.693],prec[37.5000,50.9740],alpha:0.9993266124703513\n"
     ]
    },
    {
     "data": {
      "text/plain": "  0%|          | 0/625 [00:00<?, ?it/s]",
      "application/vnd.jupyter.widget-view+json": {
       "version_major": 2,
       "version_minor": 0,
       "model_id": "e964d99244e4432a92ca0548d4862936"
      }
     },
     "metadata": {},
     "output_type": "display_data"
    },
    {
     "name": "stdout",
     "output_type": "stream",
     "text": [
      "Epoch:79,val,Loss:[0.693],prec[50.4100],domain_acc[99.8166]\n",
      "Epoch:80[200/625],Loss:[0.691,0.692],domain loss:[0.000,0.000],label loss:[0.691,0.692],prec[53.1250,52.1719],alpha:0.9993504155222135\n",
      "Epoch:80[400/625],Loss:[0.693,0.693],domain loss:[0.000,0.000],label loss:[0.693,0.693],prec[50.0000,51.1016],alpha:0.9993708667223578\n",
      "Epoch:80[600/625],Loss:[0.693,0.693],domain loss:[0.000,0.000],label loss:[0.693,0.693],prec[50.0000,51.1719],alpha:0.9993906742431429\n"
     ]
    },
    {
     "data": {
      "text/plain": "  0%|          | 0/625 [00:00<?, ?it/s]",
      "application/vnd.jupyter.widget-view+json": {
       "version_major": 2,
       "version_minor": 0,
       "model_id": "3a24c637699a406887cbe0ecab8e23c5"
      }
     },
     "metadata": {},
     "output_type": "display_data"
    },
    {
     "name": "stdout",
     "output_type": "stream",
     "text": [
      "Epoch:80,val,Loss:[0.693],prec[50.4100],domain_acc[99.8189]\n",
      "Epoch:81[200/625],Loss:[0.696,0.693],domain loss:[0.000,0.000],label loss:[0.696,0.693],prec[40.6250,50.3750],alpha:0.999412213490978\n",
      "Epoch:81[400/625],Loss:[0.697,0.693],domain loss:[0.000,0.000],label loss:[0.697,0.693],prec[43.7500,50.7812],alpha:0.9994307196280645\n",
      "Epoch:81[600/625],Loss:[0.691,0.693],domain loss:[0.000,0.000],label loss:[0.691,0.693],prec[56.2500,50.8073],alpha:0.9994486432702092\n"
     ]
    },
    {
     "data": {
      "text/plain": "  0%|          | 0/625 [00:00<?, ?it/s]",
      "application/vnd.jupyter.widget-view+json": {
       "version_major": 2,
       "version_minor": 0,
       "model_id": "e05488c483ce4ba4a6ceb6519cd6f521"
      }
     },
     "metadata": {},
     "output_type": "display_data"
    },
    {
     "name": "stdout",
     "output_type": "stream",
     "text": [
      "Epoch:81,val,Loss:[0.693],prec[50.4100],domain_acc[99.8211]\n",
      "Epoch:82[200/625],Loss:[0.693,0.693],domain loss:[0.000,0.000],label loss:[0.693,0.693],prec[50.0000,50.3438],alpha:0.9994681338977802\n",
      "Epoch:82[400/625],Loss:[0.693,0.693],domain loss:[0.000,0.000],label loss:[0.693,0.693],prec[50.0000,50.9219],alpha:0.9994848798650116\n",
      "Epoch:82[600/625],Loss:[0.698,0.693],domain loss:[0.000,0.000],label loss:[0.698,0.693],prec[40.6250,50.9531],alpha:0.9995010987118909\n"
     ]
    },
    {
     "data": {
      "text/plain": "  0%|          | 0/625 [00:00<?, ?it/s]",
      "application/vnd.jupyter.widget-view+json": {
       "version_major": 2,
       "version_minor": 0,
       "model_id": "5dcccf1ac50e4d048728c11fe1b3cd80"
      }
     },
     "metadata": {},
     "output_type": "display_data"
    },
    {
     "name": "stdout",
     "output_type": "stream",
     "text": [
      "Epoch:82,val,Loss:[0.693],prec[50.4100],domain_acc[99.8233]\n",
      "Epoch:83[200/625],Loss:[0.696,0.693],domain loss:[0.000,0.000],label loss:[0.696,0.693],prec[40.6250,50.0000],alpha:0.9995187354700246\n",
      "Epoch:83[400/625],Loss:[0.692,0.693],domain loss:[0.000,0.000],label loss:[0.692,0.693],prec[53.1250,50.2656],alpha:0.9995338886026508\n",
      "Epoch:83[600/625],Loss:[0.689,0.693],domain loss:[0.000,0.000],label loss:[0.689,0.693],prec[56.2500,50.9271],alpha:0.9995485647302764\n"
     ]
    },
    {
     "data": {
      "text/plain": "  0%|          | 0/625 [00:00<?, ?it/s]",
      "application/vnd.jupyter.widget-view+json": {
       "version_major": 2,
       "version_minor": 0,
       "model_id": "a38895741b6b43468fd262953f7d8dbd"
      }
     },
     "metadata": {},
     "output_type": "display_data"
    },
    {
     "name": "stdout",
     "output_type": "stream",
     "text": [
      "Epoch:83,val,Loss:[0.693],prec[50.4100],domain_acc[99.8254]\n",
      "Epoch:84[200/625],Loss:[0.685,0.693],domain loss:[0.000,0.000],label loss:[0.685,0.693],prec[65.6250,51.6094],alpha:0.9995645238732556\n",
      "Epoch:84[400/625],Loss:[0.692,0.693],domain loss:[0.000,0.000],label loss:[0.692,0.693],prec[71.8750,50.7266],alpha:0.9995782356127378\n",
      "Epoch:84[600/625],Loss:[0.686,0.693],domain loss:[0.000,0.000],label loss:[0.686,0.693],prec[65.6250,50.8281],alpha:0.9995915157019419\n"
     ]
    },
    {
     "data": {
      "text/plain": "  0%|          | 0/625 [00:00<?, ?it/s]",
      "application/vnd.jupyter.widget-view+json": {
       "version_major": 2,
       "version_minor": 0,
       "model_id": "dadc418ec0a445c395b0df077734e150"
      }
     },
     "metadata": {},
     "output_type": "display_data"
    },
    {
     "name": "stdout",
     "output_type": "stream",
     "text": [
      "Epoch:84,val,Loss:[0.693],prec[50.4100],domain_acc[99.8274]\n",
      "Epoch:85[200/625],Loss:[0.688,0.693],domain loss:[0.000,0.000],label loss:[0.688,0.693],prec[62.5000,50.6094],alpha:0.9996059567410802\n",
      "Epoch:85[400/625],Loss:[0.693,0.693],domain loss:[0.000,0.000],label loss:[0.693,0.693],prec[50.0000,50.6797],alpha:0.9996183641421059\n",
      "Epoch:85[600/625],Loss:[0.694,0.693],domain loss:[0.000,0.000],label loss:[0.694,0.693],prec[50.0000,51.0312],alpha:0.9996303809384433\n"
     ]
    },
    {
     "data": {
      "text/plain": "  0%|          | 0/625 [00:00<?, ?it/s]",
      "application/vnd.jupyter.widget-view+json": {
       "version_major": 2,
       "version_minor": 0,
       "model_id": "28ed3cf8950148c59ec0e524292510e0"
      }
     },
     "metadata": {},
     "output_type": "display_data"
    },
    {
     "name": "stdout",
     "output_type": "stream",
     "text": [
      "Epoch:85,val,Loss:[0.693],prec[50.4100],domain_acc[99.8294]\n",
      "Epoch:86[200/625],Loss:[0.692,0.693],domain loss:[0.000,0.000],label loss:[0.692,0.693],prec[56.2500,50.8281],alpha:0.9996434482299843\n",
      "Epoch:86[400/625],Loss:[0.697,0.693],domain loss:[0.000,0.000],label loss:[0.697,0.693],prec[40.6250,50.7266],alpha:0.9996546753250566\n",
      "Epoch:86[600/625],Loss:[0.696,0.693],domain loss:[0.000,0.000],label loss:[0.696,0.693],prec[46.8750,50.9740],alpha:0.9996655489607096\n"
     ]
    },
    {
     "data": {
      "text/plain": "  0%|          | 0/625 [00:00<?, ?it/s]",
      "application/vnd.jupyter.widget-view+json": {
       "version_major": 2,
       "version_minor": 0,
       "model_id": "178b7aac153c4af1ade0884e484c0367"
      }
     },
     "metadata": {},
     "output_type": "display_data"
    },
    {
     "name": "stdout",
     "output_type": "stream",
     "text": [
      "Epoch:86,val,Loss:[0.693],prec[50.4100],domain_acc[99.8314]\n",
      "Epoch:87[200/625],Loss:[0.693,0.693],domain loss:[0.000,0.000],label loss:[0.693,0.693],prec[50.0000,50.7656],alpha:0.9996773731435962\n",
      "Epoch:87[400/625],Loss:[0.690,0.693],domain loss:[0.000,0.000],label loss:[0.690,0.693],prec[56.2500,51.0312],alpha:0.9996875321785834\n",
      "Epoch:87[600/625],Loss:[0.699,0.693],domain loss:[0.000,0.000],label loss:[0.699,0.693],prec[37.5000,50.9635],alpha:0.9996973713692345\n"
     ]
    },
    {
     "data": {
      "text/plain": "  0%|          | 0/625 [00:00<?, ?it/s]",
      "application/vnd.jupyter.widget-view+json": {
       "version_major": 2,
       "version_minor": 0,
       "model_id": "971e149537df4e279e512d0c49841580"
      }
     },
     "metadata": {},
     "output_type": "display_data"
    },
    {
     "name": "stdout",
     "output_type": "stream",
     "text": [
      "Epoch:87,val,Loss:[0.693],prec[50.4100],domain_acc[99.8333]\n",
      "Epoch:88[200/625],Loss:[0.702,0.693],domain loss:[0.000,0.000],label loss:[0.702,0.693],prec[25.0000,51.0781],alpha:0.9997080706668544\n",
      "Epoch:88[400/625],Loss:[0.698,0.693],domain loss:[0.000,0.000],label loss:[0.698,0.693],prec[31.2500,50.8047],alpha:0.9997172632196265\n",
      "Epoch:88[600/625],Loss:[0.691,0.693],domain loss:[0.000,0.000],label loss:[0.691,0.693],prec[56.2500,51.0312],alpha:0.9997261663480574\n"
     ]
    },
    {
     "data": {
      "text/plain": "  0%|          | 0/625 [00:00<?, ?it/s]",
      "application/vnd.jupyter.widget-view+json": {
       "version_major": 2,
       "version_minor": 0,
       "model_id": "18e9e55885244807b4611ec94f2fddcb"
      }
     },
     "metadata": {},
     "output_type": "display_data"
    },
    {
     "name": "stdout",
     "output_type": "stream",
     "text": [
      "Epoch:88,val,Loss:[0.693],prec[50.4100],domain_acc[99.8352]\n",
      "Epoch:89[200/625],Loss:[0.678,0.692],domain loss:[0.000,0.000],label loss:[0.678,0.692],prec[68.7500,52.3906],alpha:0.9997358477467739\n",
      "Epoch:89[400/625],Loss:[0.695,0.693],domain loss:[0.000,0.000],label loss:[0.695,0.693],prec[46.8750,51.6094],alpha:0.9997441657399297\n",
      "Epoch:89[600/625],Loss:[0.692,0.693],domain loss:[0.000,0.000],label loss:[0.692,0.693],prec[65.6250,50.9688],alpha:0.9997522218370141\n"
     ]
    },
    {
     "data": {
      "text/plain": "  0%|          | 0/625 [00:00<?, ?it/s]",
      "application/vnd.jupyter.widget-view+json": {
       "version_major": 2,
       "version_minor": 0,
       "model_id": "eb9a14966bf84e9d9b6df49116b4e5fd"
      }
     },
     "metadata": {},
     "output_type": "display_data"
    },
    {
     "name": "stdout",
     "output_type": "stream",
     "text": [
      "Epoch:89,val,Loss:[0.693],prec[49.5900],domain_acc[99.8370]\n",
      "Epoch:90[200/625],Loss:[0.690,0.693],domain loss:[0.000,0.000],label loss:[0.690,0.693],prec[59.3750,50.8594],alpha:0.9997609821530777\n",
      "Epoch:90[400/625],Loss:[0.693,0.693],domain loss:[0.000,0.000],label loss:[0.693,0.693],prec[56.2500,50.4688],alpha:0.9997685087707475\n",
      "Epoch:90[600/625],Loss:[0.686,0.693],domain loss:[0.000,0.000],label loss:[0.686,0.693],prec[65.6250,50.9323],alpha:0.9997757984035103\n"
     ]
    },
    {
     "data": {
      "text/plain": "  0%|          | 0/625 [00:00<?, ?it/s]",
      "application/vnd.jupyter.widget-view+json": {
       "version_major": 2,
       "version_minor": 0,
       "model_id": "e2166893271e4f7aa4ccc4ff04e784b3"
      }
     },
     "metadata": {},
     "output_type": "display_data"
    },
    {
     "name": "stdout",
     "output_type": "stream",
     "text": [
      "Epoch:90,val,Loss:[0.693],prec[50.4100],domain_acc[99.8388]\n",
      "Epoch:91[200/625],Loss:[0.695,0.693],domain loss:[0.000,0.000],label loss:[0.695,0.693],prec[46.8750,51.0469],alpha:0.9997837252488815\n",
      "Epoch:91[400/625],Loss:[0.692,0.693],domain loss:[0.000,0.000],label loss:[0.692,0.693],prec[59.3750,50.7422],alpha:0.9997905357666497\n",
      "Epoch:91[600/625],Loss:[0.692,0.693],domain loss:[0.000,0.000],label loss:[0.692,0.693],prec[53.1250,50.9896],alpha:0.9997971318421552\n"
     ]
    },
    {
     "data": {
      "text/plain": "  0%|          | 0/625 [00:00<?, ?it/s]",
      "application/vnd.jupyter.widget-view+json": {
       "version_major": 2,
       "version_minor": 0,
       "model_id": "8f26405074ac455c8bdfb13caf63f24c"
      }
     },
     "metadata": {},
     "output_type": "display_data"
    },
    {
     "name": "stdout",
     "output_type": "stream",
     "text": [
      "Epoch:91,val,Loss:[0.693],prec[50.4100],domain_acc[99.8405]\n",
      "Epoch:92[200/625],Loss:[0.696,0.693],domain loss:[0.000,0.000],label loss:[0.696,0.693],prec[43.7500,50.6562],alpha:0.9998043044987812\n",
      "Epoch:92[400/625],Loss:[0.693,0.693],domain loss:[0.000,0.000],label loss:[0.693,0.693],prec[50.0000,50.6875],alpha:0.9998104670349293\n",
      "Epoch:92[600/625],Loss:[0.690,0.693],domain loss:[0.000,0.000],label loss:[0.690,0.693],prec[56.2500,50.9323],alpha:0.9998164355279562\n"
     ]
    },
    {
     "data": {
      "text/plain": "  0%|          | 0/625 [00:00<?, ?it/s]",
      "application/vnd.jupyter.widget-view+json": {
       "version_major": 2,
       "version_minor": 0,
       "model_id": "42d106ed51d54249955fc6ac0a69e68f"
      }
     },
     "metadata": {},
     "output_type": "display_data"
    },
    {
     "name": "stdout",
     "output_type": "stream",
     "text": [
      "Epoch:92,val,Loss:[0.693],prec[50.4100],domain_acc[99.8423]\n",
      "Epoch:93[200/625],Loss:[0.698,0.693],domain loss:[0.000,0.000],label loss:[0.698,0.693],prec[40.6250,51.0625],alpha:0.9998229257391389\n",
      "Epoch:93[400/625],Loss:[0.694,0.693],domain loss:[0.000,0.000],label loss:[0.694,0.693],prec[43.7500,50.3438],alpha:0.9998285019346449\n",
      "Epoch:93[600/625],Loss:[0.703,0.693],domain loss:[0.000,0.000],label loss:[0.703,0.693],prec[34.3750,50.8021],alpha:0.9998339025463385\n"
     ]
    },
    {
     "data": {
      "text/plain": "  0%|          | 0/625 [00:00<?, ?it/s]",
      "application/vnd.jupyter.widget-view+json": {
       "version_major": 2,
       "version_minor": 0,
       "model_id": "dfa0cbe1f70a4a7cbcfeae366b942f42"
      }
     },
     "metadata": {},
     "output_type": "display_data"
    },
    {
     "name": "stdout",
     "output_type": "stream",
     "text": [
      "Epoch:93,val,Loss:[0.693],prec[50.4100],domain_acc[99.8439]\n",
      "Epoch:94[200/625],Loss:[0.695,0.693],domain loss:[0.000,0.000],label loss:[0.695,0.693],prec[46.8750,50.8594],alpha:0.9998397752330406\n",
      "Epoch:94[400/625],Loss:[0.692,0.693],domain loss:[0.000,0.000],label loss:[0.692,0.693],prec[53.1250,50.9141],alpha:0.9998448208670689\n",
      "Epoch:94[600/625],Loss:[0.693,0.693],domain loss:[0.000,0.000],label loss:[0.693,0.693],prec[50.0000,50.9688],alpha:0.9998497076211059\n"
     ]
    },
    {
     "data": {
      "text/plain": "  0%|          | 0/625 [00:00<?, ?it/s]",
      "application/vnd.jupyter.widget-view+json": {
       "version_major": 2,
       "version_minor": 0,
       "model_id": "f094cd3ff0474cc0956a64b16f5c75ca"
      }
     },
     "metadata": {},
     "output_type": "display_data"
    },
    {
     "name": "stdout",
     "output_type": "stream",
     "text": [
      "Epoch:94,val,Loss:[0.693],prec[50.4100],domain_acc[99.8456]\n",
      "Epoch:95[200/625],Loss:[0.693,0.693],domain loss:[0.000,0.000],label loss:[0.693,0.693],prec[50.0000,50.4062],alpha:0.9998550215302866\n",
      "Epoch:95[400/625],Loss:[0.691,0.693],domain loss:[0.000,0.000],label loss:[0.691,0.693],prec[56.2500,50.6328],alpha:0.9998595870772691\n",
      "Epoch:95[600/625],Loss:[0.687,0.693],domain loss:[0.000,0.000],label loss:[0.687,0.693],prec[62.5000,50.9479],alpha:0.9998640088594442\n"
     ]
    },
    {
     "data": {
      "text/plain": "  0%|          | 0/625 [00:00<?, ?it/s]",
      "application/vnd.jupyter.widget-view+json": {
       "version_major": 2,
       "version_minor": 0,
       "model_id": "1e26e0cc379e48af99504caf7ca1be0a"
      }
     },
     "metadata": {},
     "output_type": "display_data"
    },
    {
     "name": "stdout",
     "output_type": "stream",
     "text": [
      "Epoch:95,val,Loss:[0.693],prec[50.4100],domain_acc[99.8472]\n",
      "Epoch:96[200/625],Loss:[0.706,0.693],domain loss:[0.000,0.000],label loss:[0.706,0.693],prec[28.1250,51.1719],alpha:0.9998688171508601\n",
      "Epoch:96[400/625],Loss:[0.696,0.693],domain loss:[0.000,0.000],label loss:[0.696,0.693],prec[43.7500,51.1719],alpha:0.9998729482847011\n",
      "Epoch:96[600/625],Loss:[0.699,0.693],domain loss:[0.000,0.000],label loss:[0.699,0.693],prec[37.5000,51.0833],alpha:0.999876949331288\n"
     ]
    },
    {
     "data": {
      "text/plain": "  0%|          | 0/625 [00:00<?, ?it/s]",
      "application/vnd.jupyter.widget-view+json": {
       "version_major": 2,
       "version_minor": 0,
       "model_id": "c2df3725d481444382beafe807f70960"
      }
     },
     "metadata": {},
     "output_type": "display_data"
    },
    {
     "name": "stdout",
     "output_type": "stream",
     "text": [
      "Epoch:96,val,Loss:[0.693],prec[50.4100],domain_acc[99.8488]\n",
      "Epoch:97[200/625],Loss:[0.696,0.693],domain loss:[0.000,0.000],label loss:[0.696,0.693],prec[43.7500,50.9531],alpha:0.9998813001085862\n",
      "Epoch:97[400/625],Loss:[0.694,0.693],domain loss:[0.000,0.000],label loss:[0.694,0.693],prec[50.0000,51.2812],alpha:0.9998850381589948\n",
      "Epoch:97[600/625],Loss:[0.696,0.693],domain loss:[0.000,0.000],label loss:[0.696,0.693],prec[40.6250,50.9375],alpha:0.9998886584987405\n"
     ]
    },
    {
     "data": {
      "text/plain": "  0%|          | 0/625 [00:00<?, ?it/s]",
      "application/vnd.jupyter.widget-view+json": {
       "version_major": 2,
       "version_minor": 0,
       "model_id": "1ba4c5961e9046c887ea2272686f9c27"
      }
     },
     "metadata": {},
     "output_type": "display_data"
    },
    {
     "name": "stdout",
     "output_type": "stream",
     "text": [
      "Epoch:97,val,Loss:[0.693],prec[50.4100],domain_acc[99.8503]\n",
      "Epoch:98[200/625],Loss:[0.684,0.693],domain loss:[0.000,0.000],label loss:[0.684,0.693],prec[68.7500,50.5938],alpha:0.9998925952901221\n",
      "Epoch:98[400/625],Loss:[0.690,0.693],domain loss:[0.000,0.000],label loss:[0.690,0.693],prec[59.3750,50.7031],alpha:0.9998959776556069\n",
      "Epoch:98[600/625],Loss:[0.690,0.693],domain loss:[0.000,0.000],label loss:[0.690,0.693],prec[56.2500,50.9167],alpha:0.9998992535097484\n"
     ]
    },
    {
     "data": {
      "text/plain": "  0%|          | 0/625 [00:00<?, ?it/s]",
      "application/vnd.jupyter.widget-view+json": {
       "version_major": 2,
       "version_minor": 0,
       "model_id": "32b040f51f564887a72af54a35a0c37c"
      }
     },
     "metadata": {},
     "output_type": "display_data"
    },
    {
     "name": "stdout",
     "output_type": "stream",
     "text": [
      "Epoch:98,val,Loss:[0.693],prec[50.4100],domain_acc[99.8518]\n",
      "Epoch:99[200/625],Loss:[0.687,0.693],domain loss:[0.000,0.000],label loss:[0.687,0.693],prec[65.6250,51.6406],alpha:0.9999028157029728\n",
      "Epoch:99[400/625],Loss:[0.689,0.693],domain loss:[0.000,0.000],label loss:[0.689,0.693],prec[62.5000,51.2812],alpha:0.999905876224614\n",
      "Epoch:99[600/625],Loss:[0.696,0.693],domain loss:[0.000,0.000],label loss:[0.696,0.693],prec[40.6250,51.0990],alpha:0.9999088403688972\n"
     ]
    },
    {
     "data": {
      "text/plain": "  0%|          | 0/625 [00:00<?, ?it/s]",
      "application/vnd.jupyter.widget-view+json": {
       "version_major": 2,
       "version_minor": 0,
       "model_id": "88793bd1ecec4229a2f10f57f72f5efd"
      }
     },
     "metadata": {},
     "output_type": "display_data"
    },
    {
     "name": "stdout",
     "output_type": "stream",
     "text": [
      "Epoch:99,val,Loss:[0.693],prec[50.4100],domain_acc[99.8533]\n"
     ]
    }
   ],
   "source": [
    "train_loss=AverageMeter()\n",
    "train_domain_loss=AverageMeter()\n",
    "train_task_loss=AverageMeter()\n",
    "test_loss=AverageMeter()\n",
    "test_top1=AverageMeter()\n",
    "test_domain_acc=AverageMeter()\n",
    "train_top1=AverageMeter()\n",
    "train_cnt=AverageMeter()\n",
    "\n",
    "print_freq=200\n",
    "domain_model=DANN()\n",
    "# domain_model.cuda()\n",
    "domain_loss=nn.CrossEntropyLoss()\n",
    "task_loss=nn.CrossEntropyLoss()\n",
    "lr=0.001\n",
    "optimizer=Adam(domain_model.parameters(),lr=lr)\n",
    "epochs=100\n",
    "states=[]\n",
    "\n",
    "for epoch in range(epochs):\n",
    "\n",
    "    #lr=adjust_learning_rate(optimizer,epoch)\n",
    "    writer.add_scalar(\"lr\",lr,epoch)\n",
    "    train_loss.reset()\n",
    "    train_domain_loss.reset()\n",
    "    train_task_loss.reset()\n",
    "    train_top1.reset()\n",
    "    train_cnt.reset()\n",
    "    test_top1.reset()\n",
    "    test_loss.reset()\n",
    "    for source,target in zip(train_dl,train_m_dl):\n",
    "        train_cnt.update(images.size(0),1)\n",
    "        p = float(train_cnt.count + epoch * len(train_dl)) / (epochs *len(train_dl))\n",
    "        alpha = torch.tensor(2. / (1. + np.exp(-10 * p)) - 1)\n",
    "        src_imgs=source[0]\n",
    "        src_labels=source[1]\n",
    "        dst_imgs=target[0]\n",
    "        optimizer.zero_grad()\n",
    "        \n",
    "        src_predict,src_domains=domain_model(src_imgs,alpha)\n",
    "        src_label_loss=task_loss(src_predict,src_labels)\n",
    "        src_domain_loss=domain_loss(src_domains,torch.ones(len(src_domains)).long())\n",
    "        \n",
    "        _,dst_domains=domain_model(dst_imgs,alpha)\n",
    "        dst_domain_loss=domain_loss(dst_domains,torch.zeros(len(dst_domains)).long())\n",
    "        \n",
    "        losses=src_label_loss+src_domain_loss+dst_domain_loss\n",
    "        \n",
    "        train_loss.update(losses.data,images.size(0))\n",
    "        train_domain_loss.update(dst_domain_loss.data,images.size(0))\n",
    "        train_task_loss.update(src_label_loss.data,images.size(0))\n",
    "        top1=accuracy(src_predict.data,src_labels,topk=(1,))[0]\n",
    "        train_top1.update(top1,images.size(0))\n",
    "        \n",
    "        losses.backward()\n",
    "        optimizer.step()\n",
    "        if train_cnt.count%print_freq==0:\n",
    "            print(\"Epoch:{}[{}/{}],Loss:[{:.3f},{:.3f}],domain loss:[{:.3f},{:.3f}],label loss:[{:.3f},{:.3f}],prec[{:.4f},{:.4f}],alpha:{}\".format(\n",
    "                epoch,train_cnt.count,len(train_dl),train_loss.val,train_loss.avg,\n",
    "                train_domain_loss.val,train_domain_loss.avg,\n",
    "                train_task_loss.val,train_task_loss.avg,train_top1.val,train_top1.avg,alpha))\n",
    "    for images,labels in tqdm(test_m_dl):\n",
    "        # images=images.cuda()\n",
    "        # labels=labels.cuda()\n",
    "        predicts,domains=domain_model(images,0)\n",
    "        losses=task_loss(predicts,labels)\n",
    "        test_loss.update(losses.data,images.size(0))\n",
    "        top1=accuracy(predicts.data,labels,topk=(1,))[0]\n",
    "        domain_acc=accuracy(domains.data,torch.zeros(len(domains)).long(),topk=(1,))[0]\n",
    "        test_top1.update(top1,images.size(0))\n",
    "        test_domain_acc.update(domain_acc,images.size(0))\n",
    "    print(\"Epoch:{},val,Loss:[{:.3f}],prec[{:.4f}],domain_acc[{:.4f}]\".format(epoch,test_loss.avg,test_top1.avg,test_domain_acc.avg))\n",
    "    states.append([test_loss.avg.item(), test_top1.avg.item(),test_domain_acc.avg.item()])\n",
    "    writer.add_scalar(\"train_loss\",train_loss.avg,epoch)\n",
    "    writer.add_scalar(\"test_loss\",test_loss.avg,epoch)    \n",
    "    writer.add_scalar(\"train_top1\",train_top1.avg,epoch)\n",
    "    writer.add_scalar(\"test_top1\",test_top1.avg,epoch)\n",
    "    writer.add_scalar(\"test_domain\",test_domain_acc.avg,epoch)"
   ]
  },
  {
   "cell_type": "markdown",
   "source": [
    "## Learning States Plot"
   ],
   "metadata": {
    "collapsed": false,
    "pycharm": {
     "name": "#%% md\n"
    }
   }
  },
  {
   "cell_type": "code",
   "execution_count": 24,
   "outputs": [
    {
     "data": {
      "text/plain": "<Figure size 432x288 with 1 Axes>",
      "image/png": "[encoded data removed]"
     },
     "metadata": {
      "needs_background": "light"
     },
     "output_type": "display_data"
    },
    {
     "name": "stdout",
     "output_type": "stream",
     "text": [
      "[[  0.50427383  88.76499939 100.        ]\n",
      " [  0.67879945  49.59000015 100.        ]\n",
      " [  1.28041744  40.72000122 100.        ]\n",
      " [  0.76799119  10.06499958 100.        ]\n",
      " [  2.91323376  10.02000046 100.        ]\n",
      " [  1.2436806   10.85999966 100.        ]\n",
      " [  0.68026936  76.01499939 100.        ]\n",
      " [  0.68312234  77.34500122 100.        ]\n",
      " [  0.68239307  64.05000305 100.        ]\n",
      " [  0.6870575   66.26999664 100.        ]\n",
      " [  0.69157881  69.27500153 100.        ]\n",
      " [  0.70319784  58.98500061 100.        ]\n",
      " [  0.70022893  66.26999664 100.        ]\n",
      " [  0.70622987  29.87999916 100.        ]\n",
      " [  0.69322515  48.68000031 100.        ]\n",
      " [  0.71667928  28.01000023 100.        ]\n",
      " [  0.72317845  26.95999908 100.        ]\n",
      " [  0.82333899  50.40999985 100.        ]\n",
      " [  0.78836018  53.34500122 100.        ]\n",
      " [  0.80584234  52.85499954 100.        ]\n",
      " [  0.82912219  52.27500153 100.        ]\n",
      " [  0.85397238  51.70999908 100.        ]\n",
      " [  0.83794707  18.34000015 100.        ]\n",
      " [  0.88827568  51.66999817 100.        ]\n",
      " [  0.90412933  51.39500046 100.        ]\n",
      " [  0.88446814  17.20999908 100.        ]\n",
      " [  0.91342205  51.34500122 100.        ]\n",
      " [  0.9567247   50.40999985 100.        ]\n",
      " [  0.91657138  51.60499954 100.        ]\n",
      " [  0.94163543  51.02000046 100.        ]\n",
      " [  0.99207783  50.63000107 100.        ]\n",
      " [  0.69311637  50.40999985  99.54203033]\n",
      " [  0.69320339  50.40999985  99.55575562]\n",
      " [  0.69315588  50.40999985  99.56867981]\n",
      " [  0.69311517  50.40999985  99.58100891]\n",
      " [  0.69356805  50.40999985  99.59251404]\n",
      " [  0.69312751  50.40999985  99.60352325]\n",
      " [  0.69334382  50.40999985  99.61396027]\n",
      " [  0.69330245  50.40999985  99.62385559]\n",
      " [  0.69315237  50.40999985  99.63326263]\n",
      " [  0.69311512  50.40999985  99.64220428]\n",
      " [  0.6933198   50.40999985  99.65072632]\n",
      " [  0.69335377  50.40999985  99.65884399]\n",
      " [  0.69427037  50.40999985  99.66660309]\n",
      " [  0.69352531  50.40999985  99.67401123]\n",
      " [  0.69326931  50.40999985  99.68109894]\n",
      " [  0.69311988  50.40999985  99.68788147]\n",
      " [  0.69320953  50.40999985  99.69438171]\n",
      " [  0.69317746  50.40999985  99.70062256]\n",
      " [  0.69311917  50.40999985  99.70661163]\n",
      " [  0.69319105  50.40999985  99.7123642 ]\n",
      " [  0.6931234   50.40999985  99.71789551]\n",
      " [  0.69324934  50.40999985  99.7232132 ]\n",
      " [  0.69339055  50.40999985  99.72834015]\n",
      " [  0.69338495  50.40999985  99.73327637]\n",
      " [  0.69318724  50.40999985  99.73804474]\n",
      " [  0.69342631  50.40999985  99.74263763]\n",
      " [  0.69331765  50.40999985  99.74707794]\n",
      " [  0.69314003  50.40999985  99.75136566]\n",
      " [  0.6931448   50.40999985  99.75550842]\n",
      " [  0.69318706  50.40999985  99.75951385]\n",
      " [  0.69326383  50.40999985  99.76339722]\n",
      " [  0.69314265  50.40999985  99.76715088]\n",
      " [  0.6933766   50.40999985  99.7707901 ]\n",
      " [  0.69311351  50.40999985  99.77431488]\n",
      " [  0.69332927  50.40999985  99.77773285]\n",
      " [  0.6931144   50.40999985  99.78105164]\n",
      " [  0.69315112  50.40999985  99.78427124]\n",
      " [  0.69314563  50.40999985  99.78739929]\n",
      " [  0.69336826  50.40999985  99.79043579]\n",
      " [  0.69311637  50.40999985  99.79338837]\n",
      " [  0.69315833  50.40999985  99.79625702]\n",
      " [  0.69332469  50.40999985  99.79904938]\n",
      " [  0.69312066  50.40999985  99.80176544]\n",
      " [  0.69330198  50.40999985  99.80440521]\n",
      " [  0.69333458  50.40999985  99.80697632]\n",
      " [  0.69341373  50.40999985  99.80948639]\n",
      " [  0.69316912  49.59000015  99.8119278 ]\n",
      " [  0.6931203   50.40999985  99.81430817]\n",
      " [  0.6934489   50.40999985  99.8166275 ]\n",
      " [  0.69311404  50.40999985  99.81889343]\n",
      " [  0.6931982   50.40999985  99.82110596]\n",
      " [  0.69326741  50.40999985  99.82325745]\n",
      " [  0.69328487  50.40999985  99.82536316]\n",
      " [  0.69334573  50.40999985  99.82741547]\n",
      " [  0.69323158  50.40999985  99.829422  ]\n",
      " [  0.69341922  50.40999985  99.83138275]\n",
      " [  0.69324887  50.40999985  99.83329773]\n",
      " [  0.69314158  50.40999985  99.83517456]\n",
      " [  0.69316268  49.59000015  99.83700562]\n",
      " [  0.69323581  50.40999985  99.83879852]\n",
      " [  0.69333345  50.40999985  99.84054565]\n",
      " [  0.69334853  50.40999985  99.84226227]\n",
      " [  0.69347012  50.40999985  99.84394073]\n",
      " [  0.69314158  50.40999985  99.84558105]\n",
      " [  0.69332612  50.40999985  99.84719086]\n",
      " [  0.69312364  50.40999985  99.84877014]\n",
      " [  0.69312739  50.40999985  99.85031128]\n",
      " [  0.69318521  50.40999985  99.8518219 ]\n",
      " [  0.69311452  50.40999985  99.853302  ]]\n"
     ]
    }
   ],
   "source": [
    "steps = np.linspace(0, 100, 100)\n",
    "states = np.array(states)\n",
    "\n",
    "plt.figure()\n",
    "# plt.plot(steps, states[:, 0], c='blue', label='Loss')\n",
    "plt.plot(steps, states[:, 1], label='Precision')\n",
    "plt.plot(steps, states[:,2], label='Domain Accuracy')\n",
    "plt.xlabel('Epoch')\n",
    "plt.title('DANN Performance on ColoredMNIST')\n",
    "plt.legend()\n",
    "plt.show()\n",
    "print(states)"
   ],
   "metadata": {
    "collapsed": false,
    "pycharm": {
     "name": "#%%\n"
    }
   }
  },
  {
   "cell_type": "code",
   "execution_count": 25,
   "outputs": [
    {
     "data": {
      "text/plain": "<Figure size 432x288 with 1 Axes>",
      "image/png": "[encoded data removed]"
     },
     "metadata": {
      "needs_background": "light"
     },
     "output_type": "display_data"
    }
   ],
   "source": [
    "plt.figure()\n",
    "plt.plot(steps, states[:, 0],  label='Loss')\n",
    "plt.xlabel('Epoch')\n",
    "plt.title('DANN Loss Performance on ColoredMNIST')\n",
    "plt.legend()\n",
    "plt.show()"
   ],
   "metadata": {
    "collapsed": false,
    "pycharm": {
     "name": "#%%\n"
    }
   }
  },
  {
   "cell_type": "code",
   "execution_count": null,
   "outputs": [],
   "source": [],
   "metadata": {
    "collapsed": false,
    "pycharm": {
     "name": "#%%\n"
    }
   }
  }
 ],
 "metadata": {
  "kernelspec": {
   "display_name": "Python 3",
   "language": "python",
   "name": "python3"
  },
  "language_info": {
   "codemirror_mode": {
    "name": "ipython",
    "version": 3
   },
   "file_extension": ".py",
   "mimetype": "text/x-python",
   "name": "python",
   "nbconvert_exporter": "python",
   "pygments_lexer": "ipython3",
   "version": "3.6.10"
  }
 },
 "nbformat": 4,
 "nbformat_minor": 4
}