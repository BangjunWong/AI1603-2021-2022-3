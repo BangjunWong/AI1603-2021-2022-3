{
 "cells": [
  {
   "cell_type": "markdown",
   "metadata": {
    "pycharm": {
     "name": "#%% md\n"
    }
   },
   "source": [
    "# Domain-Adversarial Training of Neural Networks (DANN)\n",
    "\n"
   ]
  },
  {
   "cell_type": "code",
   "execution_count": 1,
   "metadata": {
    "pycharm": {
     "name": "#%%\n"
    }
   },
   "outputs": [],
   "source": [
    "import torch\n",
    "from torch import nn\n",
    "from torch.nn import functional as F\n",
    "from torch.optim import Adam\n",
    "from torch.utils.tensorboard import SummaryWriter\n",
    "from torch.utils.data import RandomSampler,Dataset,DataLoader\n",
    "\n",
    "import torchvision\n",
    "from torchvision import datasets, transforms\n",
    "from torchvision.utils import make_grid\n",
    "\n",
    "from PIL import Image\n",
    "import matplotlib.pyplot as plt\n",
    "from tqdm.notebook import tqdm\n",
    "import numpy as np\n",
    "import shutil\n",
    "import os\n",
    "from torch.utils import data"
   ]
  },
  {
   "cell_type": "markdown",
   "metadata": {
    "pycharm": {
     "name": "#%% md\n"
    }
   },
   "source": [
    "## Tool Functions"
   ]
  },
  {
   "cell_type": "code",
   "execution_count": 2,
   "metadata": {
    "pycharm": {
     "name": "#%%\n"
    }
   },
   "outputs": [],
   "source": [
    "def adjust_learning_rate(optimizer,epoch):\n",
    "    lr=0.001*0.1**(epoch//10)\n",
    "    for param_group in optimizer.param_groups:\n",
    "        param_group['lr']=lr\n",
    "    return lr\n",
    "\n",
    "def accuracy(output,target,topk=(1,)):\n",
    "    maxk=max(topk)\n",
    "    batch_size=target.size(0)\n",
    "    _,pred=output.topk(maxk,1,True,True)\n",
    "    pred=pred.t()\n",
    "    correct=pred.eq(target.view(1,-1).expand_as(pred))\n",
    "    res=[]\n",
    "    for k in topk:\n",
    "        correct_k=correct[:k].view(-1).float().sum(0)\n",
    "        res.append(correct_k.mul_(100/batch_size))\n",
    "    return res\n",
    "\n",
    "def matplotlib_imshow(img,one_channel=False):\n",
    "    if one_channel:\n",
    "        img=img.mean(dim=0)\n",
    "    np_img=img.numpy()\n",
    "    np_img=(np_img-np.min(np_img))/(np.max(np_img)-np.min(np_img))\n",
    "    if one_channel:\n",
    "        plt.imshow(np_img,cmap=\"Greys\")\n",
    "    else:\n",
    "        plt.imshow(np.transpose(np_img,(1,2,0)))\n",
    "\n",
    "class ColoredMNIST(Dataset):\n",
    "    def __init__(self, file_name):\n",
    "        self.data_label = torch.load(file_name)\n",
    "        # self.data_label=transforms.ToTensor()(self.data_label)\n",
    "\n",
    "    def __getitem__(self, index):\n",
    "        img, target = self.data_label[index]\n",
    "        img = transforms.ToTensor()(img)\n",
    "        return img, target\n",
    "\n",
    "    def __len__(self):\n",
    "        return len(self.data_label)\n",
    "\n",
    "    def __add__(self,other):\n",
    "        pass\n",
    "\n",
    "class AverageMeter(object):\n",
    "    def __init__(self):\n",
    "        self.reset()\n",
    "    def reset(self):\n",
    "        self.val=0\n",
    "        self.avg=0\n",
    "        self.sum=0\n",
    "        self.count=0\n",
    "    def update(self,val,n=1):\n",
    "        self.val=val\n",
    "        self.sum+=val*n\n",
    "        self.count+=n\n",
    "        self.avg=self.sum/self.count"
   ]
  },
  {
   "cell_type": "markdown",
   "metadata": {
    "pycharm": {
     "name": "#%% md\n"
    }
   },
   "source": [
    "## Tensorboard"
   ]
  },
  {
   "cell_type": "code",
   "execution_count": 3,
   "metadata": {
    "pycharm": {
     "name": "#%%\n"
    }
   },
   "outputs": [],
   "source": [
    "log_dir=\"minist_experiment_1\"\n",
    "remove_log_dir=True\n",
    "if remove_log_dir and os.path.exists(log_dir):\n",
    "    shutil.rmtree(log_dir)"
   ]
  },
  {
   "cell_type": "markdown",
   "metadata": {
    "pycharm": {
     "name": "#%% md\n"
    }
   },
   "source": [
    "## Loading Data"
   ]
  },
  {
   "cell_type": "code",
   "execution_count": 4,
   "metadata": {
    "pycharm": {
     "name": "#%%\n"
    }
   },
   "outputs": [],
   "source": [
    "image_size=28\n",
    "batch_size=32\n",
    "\n",
    "transform = transforms.Compose([transforms.Resize(image_size),\n",
    "                                transforms.ToTensor(),\n",
    "                               transforms.Normalize(mean=[0.5],std=[0.5])])\n",
    "train_ds = ColoredMNIST('./dataset/ColoredMNIST/train1.pt') # source domain training datasets\n",
    "train_dl = data.DataLoader(dataset=train_ds,batch_size=batch_size,shuffle=True)\n",
    "test_ds = ColoredMNIST('./dataset/ColoredMNIST/train2.pt') # source domain testing datasets\n",
    "test_dl = data.DataLoader(dataset=test_ds,batch_size=batch_size,shuffle=False)\n",
    "train_m_ds = ColoredMNIST('./dataset/ColoredMNIST/test.pt') # target domain training datasets\n",
    "train_m_dl = data.DataLoader(dataset=train_m_ds,batch_size=batch_size,shuffle=True)\n",
    "test_m_ds = ColoredMNIST('./dataset/ColoredMNIST/test.pt') # target domain testing datasets\n",
    "test_m_dl = data.DataLoader(dataset=test_m_ds,batch_size=batch_size,shuffle=False)\n"
   ]
  },
  {
   "cell_type": "code",
   "execution_count": 5,
   "metadata": {
    "pycharm": {
     "name": "#%%\n"
    }
   },
   "outputs": [
    {
     "data": {
      "text/plain": "<Figure size 432x288 with 1 Axes>",
      "image/png": "[encoded data removed]"
     },
     "metadata": {
      "needs_background": "light"
     },
     "output_type": "display_data"
    }
   ],
   "source": [
    "%matplotlib inline\n",
    "\n",
    "writer=SummaryWriter(log_dir)\n",
    "show_images=[train_ds[i][0] for i in range(8)]\n",
    "show_labels=[train_ds[i][1] for i in range(8)]\n",
    "show_img_grid=make_grid(show_images)\n",
    "matplotlib_imshow(show_img_grid,one_channel=True)\n",
    "writer.add_image(\"mnist_images\",show_img_grid)"
   ]
  },
  {
   "cell_type": "code",
   "execution_count": 6,
   "metadata": {
    "pycharm": {
     "name": "#%%\n"
    }
   },
   "outputs": [
    {
     "data": {
      "text/plain": "<Figure size 432x288 with 1 Axes>",
      "image/png": "[encoded data removed]"
     },
     "metadata": {
      "needs_background": "light"
     },
     "output_type": "display_data"
    }
   ],
   "source": [
    "show_images=[train_m_ds[i][0] for i in range(8)]\n",
    "show_labels=[train_m_ds[i][1] for i in range(8)]\n",
    "show_img_grid=make_grid(show_images)\n",
    "matplotlib_imshow(show_img_grid,one_channel=False)\n",
    "writer.add_image(\"mnist_m_images\",show_img_grid)"
   ]
  },
  {
   "cell_type": "markdown",
   "metadata": {
    "pycharm": {
     "name": "#%% md\n"
    }
   },
   "source": [
    "## Source-Only Training\n",
    "\n",
    "在源域上独立训练CNN模型"
   ]
  },
  {
   "cell_type": "code",
   "execution_count": 7,
   "metadata": {
    "pycharm": {
     "name": "#%%\n"
    }
   },
   "outputs": [],
   "source": [
    "class CNN(nn.Module):\n",
    "    def __init__(self,num_classes=10):\n",
    "        super(CNN,self).__init__()\n",
    "        self.features=nn.Sequential(\n",
    "            nn.Conv2d(3,32,5),\n",
    "            nn.ReLU(inplace=True),\n",
    "            nn.MaxPool2d(2),\n",
    "            nn.Conv2d(32,48,5),\n",
    "            nn.ReLU(inplace=True),\n",
    "            nn.MaxPool2d(2),\n",
    "        )\n",
    "        self.avgpool=nn.AdaptiveAvgPool2d((5,5))\n",
    "        self.classifier=nn.Sequential(\n",
    "            nn.Linear(48*5*5,100),\n",
    "            nn.ReLU(inplace=True),\n",
    "            nn.Linear(100,100),\n",
    "            nn.ReLU(inplace=True),\n",
    "            nn.Linear(100,num_classes)\n",
    "        )\n",
    "    def forward(self,x):\n",
    "        x=x.expand(x.data.shape[0],3,image_size,image_size)\n",
    "        x=self.features(x)\n",
    "        x=self.avgpool(x)\n",
    "        x=torch.flatten(x,1)\n",
    "        x=self.classifier(x)\n",
    "        return x"
   ]
  },
  {
   "cell_type": "markdown",
   "metadata": {
    "pycharm": {
     "name": "#%% md\n"
    }
   },
   "source": [
    "用一个5层的神经网络在mnist上使用Adam训练，准确率约为73%(考虑到理想的最高正确率为75%，这里CNN的表现已经足够)"
   ]
  },
  {
   "cell_type": "code",
   "execution_count": 8,
   "metadata": {
    "scrolled": false,
    "pycharm": {
     "name": "#%%\n"
    }
   },
   "outputs": [
    {
     "data": {
      "text/plain": "  0%|          | 0/625 [00:00<?, ?it/s]",
      "application/vnd.jupyter.widget-view+json": {
       "version_major": 2,
       "version_minor": 0,
       "model_id": "94ed53b4fb6648ad8fa85b565b3776df"
      }
     },
     "metadata": {},
     "output_type": "display_data"
    },
    {
     "ename": "RuntimeError",
     "evalue": "mat1 and mat2 shapes cannot be multiplied (2688x28 and 2352x128)",
     "output_type": "error",
     "traceback": [
      "\u001B[0;31m---------------------------------------------------------------------------\u001B[0m",
      "\u001B[0;31mRuntimeError\u001B[0m                              Traceback (most recent call last)",
      "Input \u001B[0;32mIn [8]\u001B[0m, in \u001B[0;36m<cell line: 12>\u001B[0;34m()\u001B[0m\n\u001B[1;32m     20\u001B[0m \u001B[38;5;28;01mfor\u001B[39;00m images,labels \u001B[38;5;129;01min\u001B[39;00m tqdm(train_dl):\n\u001B[1;32m     21\u001B[0m     \u001B[38;5;66;03m# images=images.cuda()\u001B[39;00m\n\u001B[1;32m     22\u001B[0m     \u001B[38;5;66;03m# labels=labels.cuda()\u001B[39;00m\n\u001B[1;32m     23\u001B[0m     optimizer\u001B[38;5;241m.\u001B[39mzero_grad()\n\u001B[0;32m---> 24\u001B[0m     predict\u001B[38;5;241m=\u001B[39m\u001B[43mcnn_model\u001B[49m\u001B[43m(\u001B[49m\u001B[43mimages\u001B[49m\u001B[43m)\u001B[49m\n\u001B[1;32m     25\u001B[0m     losses\u001B[38;5;241m=\u001B[39mLoss(predict,labels)\n\u001B[1;32m     26\u001B[0m     train_loss\u001B[38;5;241m.\u001B[39mupdate(losses\u001B[38;5;241m.\u001B[39mdata,images\u001B[38;5;241m.\u001B[39msize(\u001B[38;5;241m0\u001B[39m))\n",
      "File \u001B[0;32m~/opt/anaconda3/lib/python3.9/site-packages/torch/nn/modules/module.py:1130\u001B[0m, in \u001B[0;36mModule._call_impl\u001B[0;34m(self, *input, **kwargs)\u001B[0m\n\u001B[1;32m   1126\u001B[0m \u001B[38;5;66;03m# If we don't have any hooks, we want to skip the rest of the logic in\u001B[39;00m\n\u001B[1;32m   1127\u001B[0m \u001B[38;5;66;03m# this function, and just call forward.\u001B[39;00m\n\u001B[1;32m   1128\u001B[0m \u001B[38;5;28;01mif\u001B[39;00m \u001B[38;5;129;01mnot\u001B[39;00m (\u001B[38;5;28mself\u001B[39m\u001B[38;5;241m.\u001B[39m_backward_hooks \u001B[38;5;129;01mor\u001B[39;00m \u001B[38;5;28mself\u001B[39m\u001B[38;5;241m.\u001B[39m_forward_hooks \u001B[38;5;129;01mor\u001B[39;00m \u001B[38;5;28mself\u001B[39m\u001B[38;5;241m.\u001B[39m_forward_pre_hooks \u001B[38;5;129;01mor\u001B[39;00m _global_backward_hooks\n\u001B[1;32m   1129\u001B[0m         \u001B[38;5;129;01mor\u001B[39;00m _global_forward_hooks \u001B[38;5;129;01mor\u001B[39;00m _global_forward_pre_hooks):\n\u001B[0;32m-> 1130\u001B[0m     \u001B[38;5;28;01mreturn\u001B[39;00m \u001B[43mforward_call\u001B[49m\u001B[43m(\u001B[49m\u001B[38;5;241;43m*\u001B[39;49m\u001B[38;5;28;43minput\u001B[39;49m\u001B[43m,\u001B[49m\u001B[43m \u001B[49m\u001B[38;5;241;43m*\u001B[39;49m\u001B[38;5;241;43m*\u001B[39;49m\u001B[43mkwargs\u001B[49m\u001B[43m)\u001B[49m\n\u001B[1;32m   1131\u001B[0m \u001B[38;5;66;03m# Do not call functions when jit is used\u001B[39;00m\n\u001B[1;32m   1132\u001B[0m full_backward_hooks, non_full_backward_hooks \u001B[38;5;241m=\u001B[39m [], []\n",
      "Input \u001B[0;32mIn [7]\u001B[0m, in \u001B[0;36mAutoEncoder.forward\u001B[0;34m(self, x)\u001B[0m\n\u001B[1;32m     28\u001B[0m \u001B[38;5;28;01mdef\u001B[39;00m \u001B[38;5;21mforward\u001B[39m(\u001B[38;5;28mself\u001B[39m, x):\n\u001B[0;32m---> 29\u001B[0m     encoded \u001B[38;5;241m=\u001B[39m \u001B[38;5;28;43mself\u001B[39;49m\u001B[38;5;241;43m.\u001B[39;49m\u001B[43mencoder\u001B[49m\u001B[43m(\u001B[49m\u001B[43mx\u001B[49m\u001B[43m)\u001B[49m\n\u001B[1;32m     30\u001B[0m     decoded \u001B[38;5;241m=\u001B[39m \u001B[38;5;28mself\u001B[39m\u001B[38;5;241m.\u001B[39mdecoder(encoded)\n\u001B[1;32m     31\u001B[0m     \u001B[38;5;28;01mreturn\u001B[39;00m decoded\n",
      "File \u001B[0;32m~/opt/anaconda3/lib/python3.9/site-packages/torch/nn/modules/module.py:1130\u001B[0m, in \u001B[0;36mModule._call_impl\u001B[0;34m(self, *input, **kwargs)\u001B[0m\n\u001B[1;32m   1126\u001B[0m \u001B[38;5;66;03m# If we don't have any hooks, we want to skip the rest of the logic in\u001B[39;00m\n\u001B[1;32m   1127\u001B[0m \u001B[38;5;66;03m# this function, and just call forward.\u001B[39;00m\n\u001B[1;32m   1128\u001B[0m \u001B[38;5;28;01mif\u001B[39;00m \u001B[38;5;129;01mnot\u001B[39;00m (\u001B[38;5;28mself\u001B[39m\u001B[38;5;241m.\u001B[39m_backward_hooks \u001B[38;5;129;01mor\u001B[39;00m \u001B[38;5;28mself\u001B[39m\u001B[38;5;241m.\u001B[39m_forward_hooks \u001B[38;5;129;01mor\u001B[39;00m \u001B[38;5;28mself\u001B[39m\u001B[38;5;241m.\u001B[39m_forward_pre_hooks \u001B[38;5;129;01mor\u001B[39;00m _global_backward_hooks\n\u001B[1;32m   1129\u001B[0m         \u001B[38;5;129;01mor\u001B[39;00m _global_forward_hooks \u001B[38;5;129;01mor\u001B[39;00m _global_forward_pre_hooks):\n\u001B[0;32m-> 1130\u001B[0m     \u001B[38;5;28;01mreturn\u001B[39;00m \u001B[43mforward_call\u001B[49m\u001B[43m(\u001B[49m\u001B[38;5;241;43m*\u001B[39;49m\u001B[38;5;28;43minput\u001B[39;49m\u001B[43m,\u001B[49m\u001B[43m \u001B[49m\u001B[38;5;241;43m*\u001B[39;49m\u001B[38;5;241;43m*\u001B[39;49m\u001B[43mkwargs\u001B[49m\u001B[43m)\u001B[49m\n\u001B[1;32m   1131\u001B[0m \u001B[38;5;66;03m# Do not call functions when jit is used\u001B[39;00m\n\u001B[1;32m   1132\u001B[0m full_backward_hooks, non_full_backward_hooks \u001B[38;5;241m=\u001B[39m [], []\n",
      "File \u001B[0;32m~/opt/anaconda3/lib/python3.9/site-packages/torch/nn/modules/container.py:139\u001B[0m, in \u001B[0;36mSequential.forward\u001B[0;34m(self, input)\u001B[0m\n\u001B[1;32m    137\u001B[0m \u001B[38;5;28;01mdef\u001B[39;00m \u001B[38;5;21mforward\u001B[39m(\u001B[38;5;28mself\u001B[39m, \u001B[38;5;28minput\u001B[39m):\n\u001B[1;32m    138\u001B[0m     \u001B[38;5;28;01mfor\u001B[39;00m module \u001B[38;5;129;01min\u001B[39;00m \u001B[38;5;28mself\u001B[39m:\n\u001B[0;32m--> 139\u001B[0m         \u001B[38;5;28minput\u001B[39m \u001B[38;5;241m=\u001B[39m \u001B[43mmodule\u001B[49m\u001B[43m(\u001B[49m\u001B[38;5;28;43minput\u001B[39;49m\u001B[43m)\u001B[49m\n\u001B[1;32m    140\u001B[0m     \u001B[38;5;28;01mreturn\u001B[39;00m \u001B[38;5;28minput\u001B[39m\n",
      "File \u001B[0;32m~/opt/anaconda3/lib/python3.9/site-packages/torch/nn/modules/module.py:1130\u001B[0m, in \u001B[0;36mModule._call_impl\u001B[0;34m(self, *input, **kwargs)\u001B[0m\n\u001B[1;32m   1126\u001B[0m \u001B[38;5;66;03m# If we don't have any hooks, we want to skip the rest of the logic in\u001B[39;00m\n\u001B[1;32m   1127\u001B[0m \u001B[38;5;66;03m# this function, and just call forward.\u001B[39;00m\n\u001B[1;32m   1128\u001B[0m \u001B[38;5;28;01mif\u001B[39;00m \u001B[38;5;129;01mnot\u001B[39;00m (\u001B[38;5;28mself\u001B[39m\u001B[38;5;241m.\u001B[39m_backward_hooks \u001B[38;5;129;01mor\u001B[39;00m \u001B[38;5;28mself\u001B[39m\u001B[38;5;241m.\u001B[39m_forward_hooks \u001B[38;5;129;01mor\u001B[39;00m \u001B[38;5;28mself\u001B[39m\u001B[38;5;241m.\u001B[39m_forward_pre_hooks \u001B[38;5;129;01mor\u001B[39;00m _global_backward_hooks\n\u001B[1;32m   1129\u001B[0m         \u001B[38;5;129;01mor\u001B[39;00m _global_forward_hooks \u001B[38;5;129;01mor\u001B[39;00m _global_forward_pre_hooks):\n\u001B[0;32m-> 1130\u001B[0m     \u001B[38;5;28;01mreturn\u001B[39;00m \u001B[43mforward_call\u001B[49m\u001B[43m(\u001B[49m\u001B[38;5;241;43m*\u001B[39;49m\u001B[38;5;28;43minput\u001B[39;49m\u001B[43m,\u001B[49m\u001B[43m \u001B[49m\u001B[38;5;241;43m*\u001B[39;49m\u001B[38;5;241;43m*\u001B[39;49m\u001B[43mkwargs\u001B[49m\u001B[43m)\u001B[49m\n\u001B[1;32m   1131\u001B[0m \u001B[38;5;66;03m# Do not call functions when jit is used\u001B[39;00m\n\u001B[1;32m   1132\u001B[0m full_backward_hooks, non_full_backward_hooks \u001B[38;5;241m=\u001B[39m [], []\n",
      "File \u001B[0;32m~/opt/anaconda3/lib/python3.9/site-packages/torch/nn/modules/linear.py:114\u001B[0m, in \u001B[0;36mLinear.forward\u001B[0;34m(self, input)\u001B[0m\n\u001B[1;32m    113\u001B[0m \u001B[38;5;28;01mdef\u001B[39;00m \u001B[38;5;21mforward\u001B[39m(\u001B[38;5;28mself\u001B[39m, \u001B[38;5;28minput\u001B[39m: Tensor) \u001B[38;5;241m-\u001B[39m\u001B[38;5;241m>\u001B[39m Tensor:\n\u001B[0;32m--> 114\u001B[0m     \u001B[38;5;28;01mreturn\u001B[39;00m \u001B[43mF\u001B[49m\u001B[38;5;241;43m.\u001B[39;49m\u001B[43mlinear\u001B[49m\u001B[43m(\u001B[49m\u001B[38;5;28;43minput\u001B[39;49m\u001B[43m,\u001B[49m\u001B[43m \u001B[49m\u001B[38;5;28;43mself\u001B[39;49m\u001B[38;5;241;43m.\u001B[39;49m\u001B[43mweight\u001B[49m\u001B[43m,\u001B[49m\u001B[43m \u001B[49m\u001B[38;5;28;43mself\u001B[39;49m\u001B[38;5;241;43m.\u001B[39;49m\u001B[43mbias\u001B[49m\u001B[43m)\u001B[49m\n",
      "\u001B[0;31mRuntimeError\u001B[0m: mat1 and mat2 shapes cannot be multiplied (2688x28 and 2352x128)"
     ]
    }
   ],
   "source": [
    "cnn_model=CNN()\n",
    "optimizer=Adam(cnn_model.parameters(),lr=0.001)\n",
    "Loss=nn.CrossEntropyLoss()\n",
    "epochs=5\n",
    "train_loss=AverageMeter()\n",
    "test_loss=AverageMeter()\n",
    "test_top1=AverageMeter()\n",
    "train_top1=AverageMeter()\n",
    "train_cnt=AverageMeter()\n",
    "print_freq=100\n",
    "# cnn_model.cuda()\n",
    "for epoch in range(epochs):\n",
    "    lr=adjust_learning_rate(optimizer,epoch)\n",
    "    writer.add_scalar(\"lr\",lr,epoch)\n",
    "    train_loss.reset()\n",
    "    train_top1.reset()\n",
    "    train_cnt.reset()\n",
    "    test_top1.reset()\n",
    "    test_loss.reset()\n",
    "    for images,labels in tqdm(train_dl):\n",
    "        # images=images.cuda()\n",
    "        # labels=labels.cuda()\n",
    "        optimizer.zero_grad()\n",
    "        predict=cnn_model(images)\n",
    "        losses=Loss(predict,labels)\n",
    "        train_loss.update(losses.data,images.size(0))\n",
    "        top1=accuracy(predict.data,labels,topk=(1,))[0]\n",
    "        train_top1.update(top1,images.size(0))\n",
    "        train_cnt.update(images.size(0),1)\n",
    "        losses.backward()\n",
    "        optimizer.step()\n",
    "        if train_cnt.count%print_freq==0:\n",
    "            print(\"Epoch:{}[{}/{}],Loss:[{:.3f},{:.3f}],prec[{:.4f},{:.4f}]\".format(epoch,train_cnt.count,len(train_dl),train_loss.val,train_loss.avg,\n",
    "                                                            train_top1.val,train_top1.avg))\n",
    "    for images,labels in tqdm(test_dl):\n",
    "        # images=images.cuda()\n",
    "        # labels=labels.cuda()\n",
    "        predict=cnn_model(images)\n",
    "        losses=Loss(predict,labels)\n",
    "        test_loss.update(losses.data,images.size(0))\n",
    "        top1=accuracy(predict.data,labels,topk=(1,))[0]\n",
    "        test_top1.update(top1,images.size(0))\n",
    "    print(\"Epoch:{},val,Loss:[{:.3f}],prec[{:.4f}]\".format(epoch,test_loss.avg,test_top1.avg))\n",
    "    writer.add_scalar(\"train_loss\",train_loss.avg,epoch)\n",
    "    writer.add_scalar(\"test_loss\",test_loss.avg,epoch)\n",
    "    writer.add_scalar(\"train_top1\",train_top1.avg,epoch)\n",
    "    writer.add_scalar(\"test_top1\",test_top1.avg,epoch)"
   ]
  },
  {
   "cell_type": "markdown",
   "metadata": {
    "pycharm": {
     "name": "#%% md\n"
    }
   },
   "source": [
    "## Direct Transferring\n",
    "\n",
    "直接用mnist数据集训练的网络识别ColoredMNIST数据集，准确率约为72.3%.可以看作领域适应方法准确率的上界。"
   ]
  },
  {
   "cell_type": "code",
   "execution_count": null,
   "metadata": {
    "pycharm": {
     "name": "#%%\n"
    }
   },
   "outputs": [],
   "source": [
    "test_m_top1=AverageMeter()\n",
    "test_m_loss=AverageMeter()\n",
    "for images,labels in tqdm(test_m_dl):\n",
    "    # images=images.cuda()\n",
    "    # labels=labels.cuda()\n",
    "    predict=cnn_model(images)\n",
    "    losses=Loss(predict,labels)\n",
    "    test_m_loss.update(losses.data,images.size(0))\n",
    "    top1=accuracy(predict.data,labels,topk=(1,))[0]\n",
    "    test_m_top1.update(top1,images.size(0))\n",
    "print(\"Epoch:{},val,Loss:[{:.3f}],prec[{:.4f}]\".format(epoch,test_m_loss.avg,test_m_top1.avg))"
   ]
  },
  {
   "cell_type": "markdown",
   "metadata": {
    "pycharm": {
     "name": "#%% md\n"
    }
   },
   "source": [
    "## Direct Training\n",
    "\n",
    "直接使用ColoredMNIST训练，准确率约为30.3050%，可以看坐领域适应方法准确率的下界。"
   ]
  },
  {
   "cell_type": "code",
   "execution_count": null,
   "metadata": {
    "pycharm": {
     "name": "#%%\n"
    }
   },
   "outputs": [],
   "source": [
    "train_loss=AverageMeter()\n",
    "test_loss=AverageMeter()\n",
    "test_top1=AverageMeter()\n",
    "train_top1=AverageMeter()\n",
    "train_cnt=AverageMeter()\n",
    "print_freq=200\n",
    "# cnn_model.cuda()\n",
    "epochs=5\n",
    "for epoch in range(epochs):\n",
    "    lr=adjust_learning_rate(optimizer,epoch)\n",
    "    writer.add_scalar(\"lr\",lr,epoch)\n",
    "    train_loss.reset()\n",
    "    train_top1.reset()\n",
    "    train_cnt.reset()\n",
    "    test_top1.reset()\n",
    "    test_loss.reset()\n",
    "    for images,labels in tqdm(train_m_dl):\n",
    "        # images=images.cuda()\n",
    "        # labels=labels.cuda()\n",
    "        optimizer.zero_grad()\n",
    "        predict=cnn_model(images)\n",
    "        losses=Loss(predict,labels)\n",
    "        train_loss.update(losses.data,images.size(0))\n",
    "        top1=accuracy(predict.data,labels,topk=(1,))[0]\n",
    "        train_top1.update(top1,images.size(0))\n",
    "        train_cnt.update(images.size(0),1)\n",
    "        losses.backward()\n",
    "        optimizer.step()\n",
    "        if train_cnt.count%print_freq==0:\n",
    "            print(\"Epoch:{}[{}/{}],Loss:[{:.3f},{:.3f}],prec[{:.4f},{:.4f}]\".format(epoch,train_cnt.count,len(train_dl),train_loss.val,train_loss.avg,\n",
    "                                                                   train_top1.val,train_top1.avg))\n",
    "    for images,labels in tqdm(test_m_dl):\n",
    "        # images=images.cuda()\n",
    "        # labels=labels.cuda()\n",
    "        predict=cnn_model(images)\n",
    "        losses=Loss(predict,labels)\n",
    "        test_loss.update(losses.data,images.size(0))\n",
    "        top1=accuracy(predict.data,labels,topk=(1,))[0]\n",
    "        test_top1.update(top1,images.size(0))\n",
    "    print(\"Epoch:{},val,Loss:[{:.3f}],prec[{:.4f}]\".format(epoch,test_loss.avg,test_top1.avg))\n",
    "    writer.add_scalar(\"train_loss\",train_loss.avg,epoch)\n",
    "    writer.add_scalar(\"test_loss\",test_loss.avg,epoch)    \n",
    "    writer.add_scalar(\"train_top1\",train_top1.avg,epoch)\n",
    "    writer.add_scalar(\"test_top1\",test_top1.avg,epoch)"
   ]
  },
  {
   "cell_type": "markdown",
   "metadata": {
    "pycharm": {
     "name": "#%% md\n"
    }
   },
   "source": [
    "## Gradient Reverse Layer (GRL)\n",
    "\n",
    "梯度反转层，这一层正向表现为恒等变换，反向传播是改变梯度的符号，alpha用来平衡域损失的权重。"
   ]
  },
  {
   "cell_type": "code",
   "execution_count": null,
   "metadata": {
    "pycharm": {
     "name": "#%%\n"
    }
   },
   "outputs": [],
   "source": [
    "from torch.autograd import Function\n",
    "\n",
    "class GRL(Function):\n",
    "    @staticmethod\n",
    "    def forward(ctx, x, alpha):\n",
    "        ctx.alpha = alpha\n",
    "        return x.view_as(x)\n",
    "\n",
    "    @staticmethod\n",
    "    def backward(ctx, grad_output):\n",
    "        output = grad_output.neg() * ctx.alpha\n",
    "        return output, None"
   ]
  },
  {
   "cell_type": "markdown",
   "metadata": {
    "pycharm": {
     "name": "#%% md\n"
    }
   },
   "source": [
    "## DANN"
   ]
  },
  {
   "cell_type": "code",
   "execution_count": null,
   "metadata": {
    "pycharm": {
     "name": "#%%\n"
    }
   },
   "outputs": [],
   "source": [
    "class DANN(nn.Module):\n",
    "    def __init__(self,num_classes=10):\n",
    "        super(DANN,self).__init__()\n",
    "        self.features=nn.Sequential(\n",
    "            nn.Conv2d(3,32,5),\n",
    "            nn.ReLU(inplace=True),\n",
    "            nn.MaxPool2d(2),\n",
    "            nn.Conv2d(32,48,5),\n",
    "            nn.ReLU(inplace=True),\n",
    "            nn.MaxPool2d(2),\n",
    "        )\n",
    "        self.avgpool=nn.AdaptiveAvgPool2d((5,5))\n",
    "        self.task_classifier=nn.Sequential(\n",
    "            nn.Linear(48*5*5,100),\n",
    "            nn.ReLU(inplace=True),\n",
    "            nn.Linear(100,100),\n",
    "            nn.ReLU(inplace=True),\n",
    "            nn.Linear(100,num_classes)\n",
    "        )\n",
    "        self.domain_classifier=nn.Sequential(\n",
    "            nn.Linear(48*5*5,100),\n",
    "            nn.ReLU(inplace=True),\n",
    "            nn.Linear(100,2)\n",
    "        )\n",
    "        self.GRL=GRL()\n",
    "    def forward(self,x,alpha):\n",
    "        x = x.expand(x.data.shape[0], 3, image_size,image_size)\n",
    "        x=self.features(x)\n",
    "        x=self.avgpool(x)\n",
    "        x=torch.flatten(x,1)\n",
    "        task_predict=self.task_classifier(x)\n",
    "        x=GRL.apply(x,alpha)\n",
    "        domain_predict=self.domain_classifier(x)\n",
    "        return task_predict,domain_predict"
   ]
  },
  {
   "cell_type": "markdown",
   "metadata": {
    "pycharm": {
     "name": "#%% md\n"
    }
   },
   "source": [
    "## Domain Transfer Training\n",
    "\n",
    "使用DANN进行领域迁移训练，使用mnist上的有标签数据和ColoredMNIST上的无标签数据，准确率约为50.41%."
   ]
  },
  {
   "cell_type": "code",
   "execution_count": null,
   "metadata": {
    "scrolled": false,
    "pycharm": {
     "name": "#%%\n"
    }
   },
   "outputs": [],
   "source": [
    "train_loss=AverageMeter()\n",
    "train_domain_loss=AverageMeter()\n",
    "train_task_loss=AverageMeter()\n",
    "test_loss=AverageMeter()\n",
    "test_top1=AverageMeter()\n",
    "test_domain_acc=AverageMeter()\n",
    "train_top1=AverageMeter()\n",
    "train_cnt=AverageMeter()\n",
    "\n",
    "print_freq=200\n",
    "domain_model=DANN()\n",
    "# domain_model.cuda()\n",
    "domain_loss=nn.CrossEntropyLoss()\n",
    "task_loss=nn.CrossEntropyLoss()\n",
    "lr=0.001\n",
    "optimizer=Adam(domain_model.parameters(),lr=lr)\n",
    "epochs=100\n",
    "states=[]\n",
    "\n",
    "for epoch in range(epochs):\n",
    "\n",
    "    #lr=adjust_learning_rate(optimizer,epoch)\n",
    "    writer.add_scalar(\"lr\",lr,epoch)\n",
    "    train_loss.reset()\n",
    "    train_domain_loss.reset()\n",
    "    train_task_loss.reset()\n",
    "    train_top1.reset()\n",
    "    train_cnt.reset()\n",
    "    test_top1.reset()\n",
    "    test_loss.reset()\n",
    "    for source,target in zip(train_dl,train_m_dl):\n",
    "        train_cnt.update(images.size(0),1)\n",
    "        p = float(train_cnt.count + epoch * len(train_dl)) / (epochs *len(train_dl))\n",
    "        alpha = torch.tensor(2. / (1. + np.exp(-10 * p)) - 1)\n",
    "        src_imgs=source[0]\n",
    "        src_labels=source[1]\n",
    "        dst_imgs=target[0]\n",
    "        optimizer.zero_grad()\n",
    "        \n",
    "        src_predict,src_domains=domain_model(src_imgs,alpha)\n",
    "        src_label_loss=task_loss(src_predict,src_labels)\n",
    "        src_domain_loss=domain_loss(src_domains,torch.ones(len(src_domains)).long())\n",
    "        \n",
    "        _,dst_domains=domain_model(dst_imgs,alpha)\n",
    "        dst_domain_loss=domain_loss(dst_domains,torch.zeros(len(dst_domains)).long())\n",
    "        \n",
    "        losses=src_label_loss+src_domain_loss+dst_domain_loss\n",
    "        \n",
    "        train_loss.update(losses.data,images.size(0))\n",
    "        train_domain_loss.update(dst_domain_loss.data,images.size(0))\n",
    "        train_task_loss.update(src_label_loss.data,images.size(0))\n",
    "        top1=accuracy(src_predict.data,src_labels,topk=(1,))[0]\n",
    "        train_top1.update(top1,images.size(0))\n",
    "        \n",
    "        losses.backward()\n",
    "        optimizer.step()\n",
    "        if train_cnt.count%print_freq==0:\n",
    "            print(\"Epoch:{}[{}/{}],Loss:[{:.3f},{:.3f}],domain loss:[{:.3f},{:.3f}],label loss:[{:.3f},{:.3f}],prec[{:.4f},{:.4f}],alpha:{}\".format(\n",
    "                epoch,train_cnt.count,len(train_dl),train_loss.val,train_loss.avg,\n",
    "                train_domain_loss.val,train_domain_loss.avg,\n",
    "                train_task_loss.val,train_task_loss.avg,train_top1.val,train_top1.avg,alpha))\n",
    "    for images,labels in tqdm(test_m_dl):\n",
    "        # images=images.cuda()\n",
    "        # labels=labels.cuda()\n",
    "        predicts,domains=domain_model(images,0)\n",
    "        losses=task_loss(predicts,labels)\n",
    "        test_loss.update(losses.data,images.size(0))\n",
    "        top1=accuracy(predicts.data,labels,topk=(1,))[0]\n",
    "        domain_acc=accuracy(domains.data,torch.zeros(len(domains)).long(),topk=(1,))[0]\n",
    "        test_top1.update(top1,images.size(0))\n",
    "        test_domain_acc.update(domain_acc,images.size(0))\n",
    "    print(\"Epoch:{},val,Loss:[{:.3f}],prec[{:.4f}],domain_acc[{:.4f}]\".format(epoch,test_loss.avg,test_top1.avg,test_domain_acc.avg))\n",
    "    states.append([test_loss.avg.item(), test_top1.avg.item(),test_domain_acc.avg.item()])\n",
    "    writer.add_scalar(\"train_loss\",train_loss.avg,epoch)\n",
    "    writer.add_scalar(\"test_loss\",test_loss.avg,epoch)    \n",
    "    writer.add_scalar(\"train_top1\",train_top1.avg,epoch)\n",
    "    writer.add_scalar(\"test_top1\",test_top1.avg,epoch)\n",
    "    writer.add_scalar(\"test_domain\",test_domain_acc.avg,epoch)"
   ]
  },
  {
   "cell_type": "markdown",
   "source": [
    "## Learning States Plot"
   ],
   "metadata": {
    "collapsed": false,
    "pycharm": {
     "name": "#%% md\n"
    }
   }
  },
  {
   "cell_type": "code",
   "execution_count": null,
   "outputs": [],
   "source": [
    "steps = np.linspace(0, 100, 100)\n",
    "states = np.array(states)\n",
    "\n",
    "plt.figure()\n",
    "# plt.plot(steps, states[:, 0], c='blue', label='Loss')\n",
    "plt.plot(steps, states[:, 1], label='Precision')\n",
    "plt.plot(steps, states[:,2], label='Domain Accuracy')\n",
    "plt.xlabel('Epoch')\n",
    "plt.title('DANN2 Performance on ColoredMNIST')\n",
    "plt.legend()\n",
    "plt.show()\n",
    "print(states)"
   ],
   "metadata": {
    "collapsed": false,
    "pycharm": {
     "name": "#%%\n"
    }
   }
  },
  {
   "cell_type": "code",
   "execution_count": null,
   "outputs": [],
   "source": [
    "plt.figure()\n",
    "plt.plot(steps, states[:, 0],  label='Loss')\n",
    "plt.xlabel('Epoch')\n",
    "plt.title('DANN Loss Performance on ColoredMNIST')\n",
    "plt.legend()\n",
    "plt.show()"
   ],
   "metadata": {
    "collapsed": false,
    "pycharm": {
     "name": "#%%\n"
    }
   }
  },
  {
   "cell_type": "code",
   "execution_count": null,
   "outputs": [],
   "source": [],
   "metadata": {
    "collapsed": false,
    "pycharm": {
     "name": "#%%\n"
    }
   }
  }
 ],
 "metadata": {
  "kernelspec": {
   "display_name": "Python 3",
   "language": "python",
   "name": "python3"
  },
  "language_info": {
   "codemirror_mode": {
    "name": "ipython",
    "version": 3
   },
   "file_extension": ".py",
   "mimetype": "text/x-python",
   "name": "python",
   "nbconvert_exporter": "python",
   "pygments_lexer": "ipython3",
   "version": "3.6.10"
  }
 },
 "nbformat": 4,
 "nbformat_minor": 4
}