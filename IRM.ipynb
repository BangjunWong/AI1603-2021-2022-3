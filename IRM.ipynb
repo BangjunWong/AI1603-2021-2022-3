{
 "cells": [
  {
   "cell_type": "markdown",
   "source": [
    "#### Import packages & Enable CUDA"
   ],
   "metadata": {
    "collapsed": false,
    "pycharm": {
     "name": "#%% md\n"
    }
   }
  },
  {
   "cell_type": "code",
   "execution_count": 8,
   "outputs": [
    {
     "name": "stdout",
     "output_type": "stream",
     "text": [
      "Device: cuda:0\n"
     ]
    }
   ],
   "source": [
    "import torch\n",
    "from torch import nn, optim, autograd\n",
    "from torch.nn import functional as F\n",
    "from torchvision import datasets, transforms\n",
    "import numpy as np\n",
    "import matplotlib.pyplot as plt\n",
    "\n",
    "device = torch.device(\"cuda:0\" if torch.cuda.is_available() else \"cpu\")\n",
    "print(\"Device: {}\".format(device))"
   ],
   "metadata": {
    "collapsed": false,
    "pycharm": {
     "name": "#%%\n"
    }
   }
  },
  {
   "cell_type": "markdown",
   "source": [
    "#### Colored MNIST dataset"
   ],
   "metadata": {
    "collapsed": false,
    "pycharm": {
     "name": "#%% md\n"
    }
   }
  },
  {
   "cell_type": "code",
   "execution_count": 2,
   "outputs": [],
   "source": [
    "class MNISTDataset(datasets.VisionDataset):\n",
    "    def __init__(self, root: str) -> None:\n",
    "        super(MNISTDataset, self).__init__(root)\n",
    "        self.data_label = torch.load(root)\n",
    "        self.transform = transforms.Compose([\n",
    "            transforms.Resize(14),\n",
    "            transforms.ToTensor()\n",
    "        ])\n",
    "        self.images = []\n",
    "        self.targets = []\n",
    "        for image, target in self.data_label:\n",
    "            self.images.append(np.array(image))\n",
    "            self.targets.append(target)\n",
    "        self.images = torch.tensor(np.array(self.images))\n",
    "        self.targets = torch.tensor(np.array(self.targets))\n",
    "\n",
    "    def __len__(self) -> int:\n",
    "        return 20000\n",
    "\n",
    "    def __getitem__(self, index):\n",
    "        image, target = self.data_label[index]\n",
    "        return self.transform(image), target"
   ],
   "metadata": {
    "collapsed": false,
    "pycharm": {
     "name": "#%%\n"
    }
   }
  },
  {
   "cell_type": "markdown",
   "source": [
    "#### Environment Definition & Instantiation"
   ],
   "metadata": {
    "collapsed": false,
    "pycharm": {
     "name": "#%% md\n"
    }
   }
  },
  {
   "cell_type": "code",
   "execution_count": 3,
   "outputs": [
    {
     "name": "stdout",
     "output_type": "stream",
     "text": [
      "Dataset train1 loaded, size = 20000\n",
      "Dataset train2 loaded, size = 20000\n",
      "Dataset test loaded, size = 20000\n"
     ]
    }
   ],
   "source": [
    "class Environment:\n",
    "    def __init__(self, dataset: MNISTDataset) -> None:\n",
    "        self.size = len(dataset)\n",
    "        images = []\n",
    "        targets = []\n",
    "        for image, target in dataset:\n",
    "            images.append(image.unsqueeze_(0))\n",
    "            targets.append(target)\n",
    "        self.images = torch.cat(images, dim=0).to(device)\n",
    "        self.targets = torch.Tensor(targets).unsqueeze_(1).to(device)\n",
    "        self.loss = None\n",
    "        self.accuracy = None\n",
    "        self.penalty = None\n",
    "\n",
    "    def update(self, inputs):\n",
    "        self.loss = F.binary_cross_entropy_with_logits(self.targets, inputs)\n",
    "        predictions = (inputs > 0.).float()\n",
    "        self.accuracy = ((self.targets - predictions).abs() < 0.01).float().mean()\n",
    "        scale = torch.tensor(1., requires_grad=True).to(device)\n",
    "        loss = F.binary_cross_entropy_with_logits(scale * inputs, self.targets)\n",
    "        gradient = autograd.grad(loss, [scale], create_graph=True)[0]\n",
    "        self.penalty = torch.sum(gradient ** 2)\n",
    "\n",
    "\n",
    "train1 = Environment(MNISTDataset('./ColoredMNIST/train1.pt'))\n",
    "print(\"Dataset train1 loaded, size = {}\".format(train1.size))\n",
    "\n",
    "train2 = Environment(MNISTDataset('./ColoredMNIST/train2.pt'))\n",
    "print(\"Dataset train2 loaded, size = {}\".format(train1.size))\n",
    "\n",
    "test = Environment(MNISTDataset('./ColoredMNIST/test.pt'))\n",
    "print(\"Dataset test loaded, size = {}\".format(train1.size))"
   ],
   "metadata": {
    "collapsed": false,
    "pycharm": {
     "name": "#%%\n"
    }
   }
  },
  {
   "cell_type": "markdown",
   "source": [
    "#### MLP model construction"
   ],
   "metadata": {
    "collapsed": false,
    "pycharm": {
     "name": "#%% md\n"
    }
   }
  },
  {
   "cell_type": "code",
   "execution_count": 4,
   "outputs": [],
   "source": [
    "class MNISTModel(nn.Module):\n",
    "    def __init__(self):\n",
    "        super(MNISTModel, self).__init__()\n",
    "        layer1 = nn.Linear(3 * 14 * 14, 256)\n",
    "        layer2 = nn.Linear(256, 256)\n",
    "        layer3 = nn.Linear(256, 1)\n",
    "        for layer in [layer1, layer2, layer3]:\n",
    "            nn.init.xavier_uniform_(layer.weight)\n",
    "            nn.init.zeros_(layer.bias)\n",
    "        self.model = nn.Sequential(\n",
    "            nn.Flatten(),\n",
    "            layer1,\n",
    "            nn.ReLU(True),\n",
    "            layer2,\n",
    "            nn.ReLU(True),\n",
    "            layer3\n",
    "        )\n",
    "\n",
    "    def forward(self, inputs):\n",
    "        outputs = self.model(inputs)\n",
    "        return outputs"
   ],
   "metadata": {
    "collapsed": false,
    "pycharm": {
     "name": "#%%\n"
    }
   }
  },
  {
   "cell_type": "markdown",
   "source": [
    "#### Training & Validation"
   ],
   "metadata": {
    "collapsed": false,
    "pycharm": {
     "name": "#%% md\n"
    }
   }
  },
  {
   "cell_type": "code",
   "execution_count": 29,
   "outputs": [
    {
     "name": "stdout",
     "output_type": "stream",
     "text": [
      "Epoch: 0, Train Accuracy: 0.6215499639511108, Test Accuracy: 0.3190999925136566\n",
      "Epoch: 100, Train Accuracy: 0.8383749723434448, Test Accuracy: 0.22974999248981476\n",
      "Epoch: 200, Train Accuracy: 0.71527498960495, Test Accuracy: 0.45409998297691345\n",
      "Epoch: 300, Train Accuracy: 0.6909749507904053, Test Accuracy: 0.6448000073432922\n",
      "Epoch: 400, Train Accuracy: 0.667199969291687, Test Accuracy: 0.685699999332428\n",
      "Epoch: 500, Train Accuracy: 0.6516249775886536, Test Accuracy: 0.6915000081062317\n"
     ]
    }
   ],
   "source": [
    "model = MNISTModel().to(device)\n",
    "optimizer = optim.Adam(model.parameters(), lr=0.001)\n",
    "\n",
    "states = []\n",
    "\n",
    "for epoch in range(501):\n",
    "    for group in [train1, train2, test]:\n",
    "        results = model(group.images)\n",
    "        group.update(results)\n",
    "\n",
    "    train_loss = (train1.loss + train2.loss) / 2.\n",
    "    train_accuracy = (train1.accuracy + train2.accuracy) / 2.\n",
    "    train_penalty = (train1.penalty + train2.penalty) / 2.\n",
    "    test_accuracy = test.accuracy\n",
    "    states.append([train_accuracy.item(), test_accuracy.item()])\n",
    "\n",
    "    parameter_norm = torch.tensor(0.).to(device)\n",
    "    for p in model.parameters():\n",
    "        parameter_norm += p.norm().pow(2)\n",
    "\n",
    "    norm_weight = 0.001\n",
    "    penalty_weight = 10000.0 if epoch >= 100 else 1.0\n",
    "\n",
    "    total_loss = train_loss.clone()\n",
    "    total_loss += norm_weight * parameter_norm\n",
    "    total_loss += penalty_weight * train_penalty\n",
    "\n",
    "    if penalty_weight > 1.0:\n",
    "        total_loss /= penalty_weight\n",
    "\n",
    "    optimizer.zero_grad()\n",
    "    total_loss.backward()\n",
    "    optimizer.step()\n",
    "\n",
    "    if epoch % 100 == 0:\n",
    "        print(\"Epoch: {}, Train Accuracy: {}, Test Accuracy: {}\".format(epoch, train_accuracy, test_accuracy))"
   ],
   "metadata": {
    "collapsed": false,
    "pycharm": {
     "name": "#%%\n"
    }
   }
  },
  {
   "cell_type": "markdown",
   "source": [
    "#### Learning curve"
   ],
   "metadata": {
    "collapsed": false,
    "pycharm": {
     "name": "#%% md\n"
    }
   }
  },
  {
   "cell_type": "code",
   "execution_count": 31,
   "outputs": [
    {
     "data": {
      "text/plain": "<Figure size 720x720 with 1 Axes>",
      "image/png": "[encoded data removed]"
     },
     "metadata": {
      "needs_background": "light"
     },
     "output_type": "display_data"
    }
   ],
   "source": [
    "steps = np.linspace(0, 500, 501)\n",
    "states = np.array(states)\n",
    "plt.figure(figsize=(10, 10))\n",
    "plt.plot(steps, states[:, 0], c='purple', label='Train')\n",
    "plt.plot(steps, states[:, 1], c='yellow', label='Test')\n",
    "plt.xlabel('Epoch')\n",
    "plt.ylabel('Accuracy')\n",
    "plt.legend(prop={'size': 20})\n",
    "plt.show()"
   ],
   "metadata": {
    "collapsed": false,
    "pycharm": {
     "name": "#%%\n"
    }
   }
  }
 ],
 "metadata": {
  "kernelspec": {
   "display_name": "Python 3",
   "language": "python",
   "name": "python3"
  },
  "language_info": {
   "codemirror_mode": {
    "name": "ipython",
    "version": 2
   },
   "file_extension": ".py",
   "mimetype": "text/x-python",
   "name": "python",
   "nbconvert_exporter": "python",
   "pygments_lexer": "ipython2",
   "version": "2.7.6"
  }
 },
 "nbformat": 4,
 "nbformat_minor": 0
}